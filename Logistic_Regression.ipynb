{
  "nbformat": 4,
  "nbformat_minor": 0,
  "metadata": {
    "colab": {
      "name": "Logistic_Regression.ipynb",
      "provenance": [],
      "include_colab_link": true
    },
    "kernelspec": {
      "name": "python3",
      "display_name": "Python 3"
    },
    "language_info": {
      "name": "python"
    }
  },
  "cells": [
    {
      "cell_type": "markdown",
      "metadata": {
        "id": "view-in-github",
        "colab_type": "text"
      },
      "source": [
        "<a href=\"https://colab.research.google.com/github/callezenwaka/machine-learning/blob/main/Logistic_Regression.ipynb\" target=\"_parent\"><img src=\"https://colab.research.google.com/assets/colab-badge.svg\" alt=\"Open In Colab\"/></a>"
      ]
    },
    {
      "cell_type": "markdown",
      "metadata": {
        "id": "WdhyyPJcIYrB"
      },
      "source": [
        "# Set up"
      ]
    },
    {
      "cell_type": "code",
      "metadata": {
        "id": "NEi3WANYHVCd"
      },
      "source": [
        "# import dependencies\n",
        "import numpy as np\n",
        "import pandas as pd\n",
        "import matplotlib.pyplot as plt\n",
        "import random\n",
        "from pandas.plotting import scatter_matrix"
      ],
      "execution_count": 1,
      "outputs": []
    },
    {
      "cell_type": "code",
      "metadata": {
        "id": "5lj2IceJImJQ"
      },
      "source": [
        "# define seed\n",
        "SEED = 1234"
      ],
      "execution_count": 2,
      "outputs": []
    },
    {
      "cell_type": "code",
      "metadata": {
        "id": "vVdOtH9_Irqo"
      },
      "source": [
        "# set seed value for reproducibility\n",
        "np.random.seed(SEED)\n",
        "random.seed(SEED)"
      ],
      "execution_count": 3,
      "outputs": []
    },
    {
      "cell_type": "markdown",
      "metadata": {
        "id": "H0zt5vNZJGu8"
      },
      "source": [
        "# Load Data"
      ]
    },
    {
      "cell_type": "code",
      "metadata": {
        "id": "H0PpGwU8I09v",
        "colab": {
          "base_uri": "https://localhost:8080/",
          "height": 0
        },
        "outputId": "f5d86154-8ef3-404f-c323-9f338b5db0b4"
      },
      "source": [
        "# read from csv to pandas dataframe\n",
        "url =  \"https://raw.githubusercontent.com/GokuMohandas/MadeWithML/main/datasets/tumors.csv\"\n",
        "df = pd.read_csv(url, header=0) # load data\n",
        "df = df.sample(frac=1).reset_index(drop=True)\n",
        "df.head()"
      ],
      "execution_count": 4,
      "outputs": [
        {
          "output_type": "execute_result",
          "data": {
            "text/html": [
              "<div>\n",
              "<style scoped>\n",
              "    .dataframe tbody tr th:only-of-type {\n",
              "        vertical-align: middle;\n",
              "    }\n",
              "\n",
              "    .dataframe tbody tr th {\n",
              "        vertical-align: top;\n",
              "    }\n",
              "\n",
              "    .dataframe thead th {\n",
              "        text-align: right;\n",
              "    }\n",
              "</style>\n",
              "<table border=\"1\" class=\"dataframe\">\n",
              "  <thead>\n",
              "    <tr style=\"text-align: right;\">\n",
              "      <th></th>\n",
              "      <th>leukocyte_count</th>\n",
              "      <th>blood_pressure</th>\n",
              "      <th>tumor_class</th>\n",
              "    </tr>\n",
              "  </thead>\n",
              "  <tbody>\n",
              "    <tr>\n",
              "      <th>0</th>\n",
              "      <td>15.335860</td>\n",
              "      <td>14.637535</td>\n",
              "      <td>benign</td>\n",
              "    </tr>\n",
              "    <tr>\n",
              "      <th>1</th>\n",
              "      <td>9.857535</td>\n",
              "      <td>14.518942</td>\n",
              "      <td>malignant</td>\n",
              "    </tr>\n",
              "    <tr>\n",
              "      <th>2</th>\n",
              "      <td>17.632579</td>\n",
              "      <td>15.869585</td>\n",
              "      <td>benign</td>\n",
              "    </tr>\n",
              "    <tr>\n",
              "      <th>3</th>\n",
              "      <td>18.369174</td>\n",
              "      <td>14.774547</td>\n",
              "      <td>benign</td>\n",
              "    </tr>\n",
              "    <tr>\n",
              "      <th>4</th>\n",
              "      <td>14.509367</td>\n",
              "      <td>15.892224</td>\n",
              "      <td>malignant</td>\n",
              "    </tr>\n",
              "  </tbody>\n",
              "</table>\n",
              "</div>"
            ],
            "text/plain": [
              "   leukocyte_count  blood_pressure tumor_class\n",
              "0        15.335860       14.637535      benign\n",
              "1         9.857535       14.518942   malignant\n",
              "2        17.632579       15.869585      benign\n",
              "3        18.369174       14.774547      benign\n",
              "4        14.509367       15.892224   malignant"
            ]
          },
          "metadata": {},
          "execution_count": 4
        }
      ]
    },
    {
      "cell_type": "code",
      "metadata": {
        "id": "8chqR5INJ-b2"
      },
      "source": [
        "# define X and y\n",
        "X = df[['leukocyte_count', 'blood_pressure']].values\n",
        "y = df['tumor_class'].values"
      ],
      "execution_count": 5,
      "outputs": []
    },
    {
      "cell_type": "code",
      "metadata": {
        "id": "6w2LCkQZKcX3",
        "colab": {
          "base_uri": "https://localhost:8080/",
          "height": 0
        },
        "outputId": "4fd0dae7-db16-4c0f-e466-0c128c7201b4"
      },
      "source": [
        "# plot data\n",
        "colors = {'benign': 'red', 'malignant': 'blue'}\n",
        "plt.scatter(X[:, 0], X[:, 1], c=[colors[_y] for _y in y], s=25, edgecolors='k')\n",
        "plt.xlabel(\"leukocyte count\")\n",
        "plt.ylabel(\"blood pressure\")\n",
        "plt.legend(['malignant', 'benign'], loc=\"upper right\")\n",
        "plt.show()"
      ],
      "execution_count": 6,
      "outputs": [
        {
          "output_type": "display_data",
          "data": {
            "image/png": "[encoded data removed]",
            "text/plain": [
              "<Figure size 432x288 with 1 Axes>"
            ]
          },
          "metadata": {
            "needs_background": "light"
          }
        }
      ]
    },
    {
      "cell_type": "markdown",
      "metadata": {
        "id": "1KyrAMbHLvL-"
      },
      "source": [
        "# Split Dataset"
      ]
    },
    {
      "cell_type": "code",
      "metadata": {
        "id": "vGISIu0CLxF1"
      },
      "source": [
        "# import dependencies\n",
        "import collections\n",
        "from sklearn.model_selection import  train_test_split"
      ],
      "execution_count": 7,
      "outputs": []
    },
    {
      "cell_type": "code",
      "metadata": {
        "id": "GRGtrLMdMCkS"
      },
      "source": [
        "# define split sizes\n",
        "TRAIN_SIZE = 0.7\n",
        "VAL_SIZE = 0.15\n",
        "TEST_SIZE = 0.15"
      ],
      "execution_count": 8,
      "outputs": []
    },
    {
      "cell_type": "code",
      "metadata": {
        "id": "Z0ftnwNPMQjQ"
      },
      "source": [
        "# define split function\n",
        "def train_val_test_split(X, y, train_size):\n",
        "  \"\"\"Split dataset into data splits.\"\"\"\n",
        "  X_train, X_, y_train, y_ = train_test_split(X, y, train_size=TRAIN_SIZE, stratify=y)\n",
        "  X_val, X_test, y_val, y_test = train_test_split(X_, y_, train_size=0.5, stratify=y_)\n",
        "  return X_train, X_val, X_test, y_train, y_val, y_test"
      ],
      "execution_count": 9,
      "outputs": []
    },
    {
      "cell_type": "code",
      "metadata": {
        "id": "e_raIPj7qv6A",
        "colab": {
          "base_uri": "https://localhost:8080/"
        },
        "outputId": "e9dc940a-825c-43cc-d0fa-85f73a2f5458"
      },
      "source": [
        "# create data splits\n",
        "X_train, X_val, X_test, y_train, y_val, y_test = train_val_test_split(X=X, y=y, train_size=TRAIN_SIZE)\n",
        "print(f\"X_train: {X_train.shape}, y_train: {y_train.shape}\")\n",
        "print(f\"X_val: {X_val.shape}, y_val: {y_val.shape}\")\n",
        "print(f\"X_test: {X_test.shape}, y_test: {y_test.shape}\")\n",
        "for i in range(5):\n",
        "  print(f\"Sample point: {X_train[i]} → {y_train[i]}\")\n",
        "# print(f\"Sample point: {X_train[0:5]} → {y_train[0:5]}\")"
      ],
      "execution_count": 10,
      "outputs": [
        {
          "output_type": "stream",
          "name": "stdout",
          "text": [
            "X_train: (700, 2), y_train: (700,)\n",
            "X_val: (150, 2), y_val: (150,)\n",
            "X_test: (150, 2), y_test: (150,)\n",
            "Sample point: [14.95081332 14.86441305] → malignant\n",
            "Sample point: [11.29345802 14.14420177] → malignant\n",
            "Sample point: [12.14979266 15.04625025] → malignant\n",
            "Sample point: [17.78509137 14.2140526 ] → benign\n",
            "Sample point: [13.47296862 15.25039322] → malignant\n"
          ]
        }
      ]
    },
    {
      "cell_type": "code",
      "metadata": {
        "id": "pNVkybPFsCKB",
        "colab": {
          "base_uri": "https://localhost:8080/"
        },
        "outputId": "55123e14-9350-4dd6-8d13-05dcd89c796f"
      },
      "source": [
        "# overall class distribution\n",
        "class_counts = dict(collections.Counter(y))\n",
        "print(f\"Classes: {class_counts}\")\n",
        "print(f\"m:b = {class_counts['malignant']/class_counts['benign']:.2f}\")"
      ],
      "execution_count": 11,
      "outputs": [
        {
          "output_type": "stream",
          "name": "stdout",
          "text": [
            "Classes: {'benign': 389, 'malignant': 611}\n",
            "m:b = 1.57\n"
          ]
        }
      ]
    },
    {
      "cell_type": "code",
      "metadata": {
        "id": "CluplLYkspKa",
        "colab": {
          "base_uri": "https://localhost:8080/"
        },
        "outputId": "bb7a626c-d38c-4fa1-e50c-27b739dcfa56"
      },
      "source": [
        "# per data split class distribution\n",
        "train_class_counts = dict(collections.Counter(y_train))\n",
        "val_class_counts = dict(collections.Counter(y_val))\n",
        "test_class_counts = dict(collections.Counter(y_test))\n",
        "print(f\"train m:b = {train_class_counts['malignant']/train_class_counts['benign']:.2f}\")\n",
        "print(f\"val m:b = {val_class_counts['malignant']/val_class_counts['benign']:.2f}\")\n",
        "print(f\"test m:b = {test_class_counts['malignant']/test_class_counts['benign']:.2f}\")"
      ],
      "execution_count": 12,
      "outputs": [
        {
          "output_type": "stream",
          "name": "stdout",
          "text": [
            "train m:b = 1.57\n",
            "val m:b = 1.54\n",
            "test m:b = 1.59\n"
          ]
        }
      ]
    },
    {
      "cell_type": "markdown",
      "metadata": {
        "id": "HKfIqa9RuJEj"
      },
      "source": [
        "# Label Encoding"
      ]
    },
    {
      "cell_type": "code",
      "metadata": {
        "id": "sZPzNDiauDna"
      },
      "source": [
        "# import dependencies\n",
        "import itertools"
      ],
      "execution_count": 13,
      "outputs": []
    },
    {
      "cell_type": "code",
      "metadata": {
        "id": "gxCdTT7muT9P"
      },
      "source": [
        "# define LabelEncoder function\n",
        "class LabelEncoder(object):\n",
        "  \"\"\"Label encoder for tag labels.\"\"\"\n",
        "\n",
        "  def __init__(self, class_to_index={}):\n",
        "    \"\"\"Initialize label encoder.\"\"\"\n",
        "    self.class_to_index = class_to_index\n",
        "    self.index_to_class = {v: k for k, v in self.class_to_index.items()}\n",
        "    self.classes = list(self.class_to_index.keys())\n",
        "\n",
        "  def __len__(self):\n",
        "    return len(self.class_to_index)\n",
        "\n",
        "  def __str__(self):\n",
        "    return f\"<LabelEncoder(num_classes={len(self)})>\"\n",
        "\n",
        "  def fit(self, y):\n",
        "    classes = np.unique(y)\n",
        "    for i, class_ in enumerate(classes):\n",
        "      self.class_to_index[class_] = i\n",
        "    self.index_to_class = {v: k for k, v in self.class_to_index.items()}\n",
        "    self.classes = list(self.class_to_index.keys())\n",
        "    return self\n",
        "\n",
        "  def encode(self, y):\n",
        "    encoded = np.zeros((len(y)), dtype=int)\n",
        "    for i, item in enumerate(y):\n",
        "      encoded[i] = self.class_to_index[item]\n",
        "    return encoded\n",
        "\n",
        "  def decode(self, y):\n",
        "    classes = []\n",
        "    for i, item in enumerate(y):\n",
        "      classes.append(self.index_to_class[item])\n",
        "    return classes\n",
        "  \n",
        "  def save(self, fp):\n",
        "    with open(fp, 'w') as fp:\n",
        "      contents = {'class_to_index': self.class_to_index}\n",
        "      json.dump(contents, fp, indent=4, sort_keys=False)\n",
        "\n",
        "  @classmethod\n",
        "  def load(cls, fp):\n",
        "    with open(fp, 'r') as fp:\n",
        "      kwargs = json.load(fp=fp)\n",
        "    return cls(**kwargs)"
      ],
      "execution_count": 14,
      "outputs": []
    },
    {
      "cell_type": "code",
      "metadata": {
        "id": "4_5yRNX6y4Tq",
        "colab": {
          "base_uri": "https://localhost:8080/"
        },
        "outputId": "403f94a0-4a30-4618-c33c-90192c8d003d"
      },
      "source": [
        "# fit\n",
        "label_encoder = LabelEncoder()\n",
        "label_encoder.fit(y_train)\n",
        "label_encoder.class_to_index"
      ],
      "execution_count": 15,
      "outputs": [
        {
          "output_type": "execute_result",
          "data": {
            "text/plain": [
              "{'benign': 0, 'malignant': 1}"
            ]
          },
          "metadata": {},
          "execution_count": 15
        }
      ]
    },
    {
      "cell_type": "code",
      "metadata": {
        "id": "t3ye7c1ZzPnP",
        "colab": {
          "base_uri": "https://localhost:8080/"
        },
        "outputId": "2ab580d7-b8c8-4cc5-ea4c-8e41b81a05ae"
      },
      "source": [
        "# encoder\n",
        "print(f\"y_train[0]: {y_train[0]}\")\n",
        "y_train = label_encoder.encode(y_train)\n",
        "y_val = label_encoder.encode(y_val)\n",
        "y_test = label_encoder.encode(y_test)\n",
        "print(f\"y_train[0]: {y_train[0]}\")\n",
        "print(f\"decoded: {label_encoder.decode([y_train[0]])}\")"
      ],
      "execution_count": 16,
      "outputs": [
        {
          "output_type": "stream",
          "name": "stdout",
          "text": [
            "y_train[0]: malignant\n",
            "y_train[0]: 1\n",
            "decoded: ['malignant']\n"
          ]
        }
      ]
    },
    {
      "cell_type": "code",
      "metadata": {
        "id": "jfk8AIdc19GL",
        "colab": {
          "base_uri": "https://localhost:8080/"
        },
        "outputId": "892989f8-9024-48a3-eff0-472b1328fb73"
      },
      "source": [
        "# class weights\n",
        "counts = np.bincount(y_train)\n",
        "class_weights = {i: 1.0/count for i, count in enumerate(counts)}\n",
        "print(f\"counts: {counts}\\nweights: {class_weights}\")"
      ],
      "execution_count": 17,
      "outputs": [
        {
          "output_type": "stream",
          "name": "stdout",
          "text": [
            "counts: [272 428]\n",
            "weights: {0: 0.003676470588235294, 1: 0.002336448598130841}\n"
          ]
        }
      ]
    },
    {
      "cell_type": "markdown",
      "metadata": {
        "id": "jIcpG23l2wR-"
      },
      "source": [
        "# Standardize Data"
      ]
    },
    {
      "cell_type": "code",
      "metadata": {
        "id": "0rhSPlQu2yTl"
      },
      "source": [
        "# using StandardScaler\n",
        "from sklearn.preprocessing import StandardScaler"
      ],
      "execution_count": 18,
      "outputs": []
    },
    {
      "cell_type": "code",
      "metadata": {
        "id": "0Mec-onQ28gf"
      },
      "source": [
        "# standardize the data (mean=0, std=1) using training data\n",
        "X_scaler = StandardScaler().fit(X_train)"
      ],
      "execution_count": 19,
      "outputs": []
    },
    {
      "cell_type": "code",
      "metadata": {
        "id": "Avnm5ysh3NO2"
      },
      "source": [
        "# apply scaler on training & test data (don't standardize outputs for classification)\n",
        "X_train = X_scaler.transform(X_train)\n",
        "X_val = X_scaler.transform(X_val)\n",
        "X_test = X_scaler.transform(X_test)"
      ],
      "execution_count": 20,
      "outputs": []
    },
    {
      "cell_type": "code",
      "metadata": {
        "id": "t1k71hOi3yDj",
        "colab": {
          "base_uri": "https://localhost:8080/"
        },
        "outputId": "0c9b3d29-066f-4aec-a2fe-aac18fcc2d7c"
      },
      "source": [
        "# check: (means should be ~0 and std be ~1)\n",
        "print(f\"X_test[0]: mean: {np.mean(X_test[:, 0], axis=0):.1f}, std: {np.std(X_test[:, 0], axis=0):.1f}\")\n",
        "print(f\"X_test[1]: mean: {np.mean(X_test[:, 1], axis=0):.1f}, std: {np.std(X_test[:, 1], axis=0):.1f}\")"
      ],
      "execution_count": 21,
      "outputs": [
        {
          "output_type": "stream",
          "name": "stdout",
          "text": [
            "X_test[0]: mean: -0.1, std: 1.0\n",
            "X_test[1]: mean: -0.1, std: 1.0\n"
          ]
        }
      ]
    },
    {
      "cell_type": "markdown",
      "metadata": {
        "id": "DgMM9wkn5C-C"
      },
      "source": [
        "# Logistic Regression with Numpy"
      ]
    },
    {
      "cell_type": "markdown",
      "metadata": {
        "id": "gz0vFf4m7XVY"
      },
      "source": [
        "# Initializwe weights"
      ]
    },
    {
      "cell_type": "code",
      "metadata": {
        "id": "-9clm1fW4-KN"
      },
      "source": [
        "# initialize hyperparameters\n",
        "INPUT_DIM = X_train.shape[1] # X is 2-dimensional\n",
        "NUM_CLASSES = len(label_encoder.classes) # y has 2 possibilities (benign or malignant)\n",
        "LEARNING_RATE = 1e-1\n",
        "NUM_EPOCHS = 50"
      ],
      "execution_count": 22,
      "outputs": []
    },
    {
      "cell_type": "code",
      "metadata": {
        "id": "kfqAixsw9hQB",
        "colab": {
          "base_uri": "https://localhost:8080/"
        },
        "outputId": "2be00271-8bc6-4c3c-80c7-2de1b0090211"
      },
      "source": [
        "# initialize random weights\n",
        "W = 0.01 * np.random.randn(INPUT_DIM, NUM_CLASSES)\n",
        "b = np.zeros((1, NUM_CLASSES))\n",
        "print(f\"W: {W.shape}\")\n",
        "print(f\"b: {b.shape}\")"
      ],
      "execution_count": 23,
      "outputs": [
        {
          "output_type": "stream",
          "name": "stdout",
          "text": [
            "W: (2, 2)\n",
            "b: (1, 2)\n"
          ]
        }
      ]
    },
    {
      "cell_type": "markdown",
      "metadata": {
        "id": "F0HDeM6B_TOW"
      },
      "source": [
        "# Model"
      ]
    },
    {
      "cell_type": "code",
      "metadata": {
        "id": "NRpEGNdW_VGo",
        "colab": {
          "base_uri": "https://localhost:8080/"
        },
        "outputId": "6a9ff47e-8a36-4af0-f7d8-f26a43d82f1d"
      },
      "source": [
        "# forward pass [Nx2] · [2x2] + [1,2] = [Nx2]\n",
        "logits = np.dot(X_train, W) + b\n",
        "print(f\"logits: {logits.shape}\")\n",
        "print(f\"sample: {logits[0]}\")"
      ],
      "execution_count": 24,
      "outputs": [
        {
          "output_type": "stream",
          "name": "stdout",
          "text": [
            "logits: (700, 2)\n",
            "sample: [-0.0069945   0.00647147]\n"
          ]
        }
      ]
    },
    {
      "cell_type": "code",
      "metadata": {
        "id": "kF09gEDrCITP",
        "colab": {
          "base_uri": "https://localhost:8080/"
        },
        "outputId": "29c55955-619a-427f-906c-fa619ff32b0e"
      },
      "source": [
        "# normalization via softmax to obtain class probabilities\n",
        "exp_logits = np.exp(logits)\n",
        "y_hat = exp_logits / np.sum(exp_logits, axis=1, keepdims=True)\n",
        "print(f\"y_hat: {y_hat.shape}\")\n",
        "print(f\"sample: {y_hat[0]}\")"
      ],
      "execution_count": 25,
      "outputs": [
        {
          "output_type": "stream",
          "name": "stdout",
          "text": [
            "y_hat: (700, 2)\n",
            "sample: [0.49663356 0.50336644]\n"
          ]
        }
      ]
    },
    {
      "cell_type": "markdown",
      "metadata": {
        "id": "5m388XbPC6wO"
      },
      "source": [
        "# Loss"
      ]
    },
    {
      "cell_type": "code",
      "metadata": {
        "id": "xYcMdwdWC733",
        "colab": {
          "base_uri": "https://localhost:8080/"
        },
        "outputId": "ee1c72ca-c742-491a-884b-61f3be38b691"
      },
      "source": [
        "# calculate loss\n",
        "correct_class_logprobs = -np.log(y_hat[range(len(y_hat)) , y_train])\n",
        "loss = np.sum(correct_class_logprobs) / len(y_train)\n",
        "print(f\"loss: {loss:.2f}\")"
      ],
      "execution_count": 26,
      "outputs": [
        {
          "output_type": "stream",
          "name": "stdout",
          "text": [
            "loss: 0.70\n"
          ]
        }
      ]
    },
    {
      "cell_type": "markdown",
      "metadata": {
        "id": "OSczSzVfFPa4"
      },
      "source": [
        "# Gradient"
      ]
    },
    {
      "cell_type": "code",
      "metadata": {
        "id": "UKnG0p2LEed_"
      },
      "source": [
        "# calculate backpropagation\n",
        "dscores = y_hat\n",
        "dscores[range(len(y_hat)), y_train] -= 1\n",
        "dscores /= len(y_train)\n",
        "dW = np.dot(X_train.T, dscores)\n",
        "db = np.sum(dscores, axis=0, keepdims=True)"
      ],
      "execution_count": 27,
      "outputs": []
    },
    {
      "cell_type": "markdown",
      "metadata": {
        "id": "dsCYN6TrGvG4"
      },
      "source": [
        "# Update Weights"
      ]
    },
    {
      "cell_type": "code",
      "metadata": {
        "id": "aIaA-GuIGxTT"
      },
      "source": [
        "# update weights\n",
        "W += -LEARNING_RATE * dW\n",
        "b += -LEARNING_RATE * db"
      ],
      "execution_count": 28,
      "outputs": []
    },
    {
      "cell_type": "markdown",
      "metadata": {
        "id": "cO9EsFp_HuWw"
      },
      "source": [
        "# Training"
      ]
    },
    {
      "cell_type": "code",
      "metadata": {
        "id": "gWWEnco7Hsx0"
      },
      "source": [
        "# initialize random weights\n",
        "W = 0.01 * np.random.randn(INPUT_DIM, NUM_CLASSES)\n",
        "b = np.zeros((1, NUM_CLASSES))"
      ],
      "execution_count": 29,
      "outputs": []
    },
    {
      "cell_type": "code",
      "metadata": {
        "id": "Y4wY15lWH53p",
        "colab": {
          "base_uri": "https://localhost:8080/"
        },
        "outputId": "7f20e020-114c-4a5f-920c-2d65e0f43bba"
      },
      "source": [
        "# training loop\n",
        "for epoch_num in range(NUM_EPOCHS):\n",
        "\n",
        "  # forward pass [Nx2] · [2x2] = [Nx2]\n",
        "  logits = np.dot(X_train, W) + b\n",
        "\n",
        "  # normalization via softmax to obtain class probabilities\n",
        "  exp_logits = np.exp(logits)\n",
        "  y_hat = exp_logits / np.sum(exp_logits, axis=1, keepdims=True)\n",
        "\n",
        "  # loss\n",
        "  correct_class_logprobs = -np.log(y_hat[range(len(y_hat)), y_train])\n",
        "  loss = np.sum(correct_class_logprobs) / len(y_train)\n",
        "\n",
        "  # show training progress\n",
        "  if epoch_num%10 == 0:\n",
        "    # accuracy\n",
        "    y_pred = np.argmax(logits, axis=1)\n",
        "    accuracy = np.mean(np.equal(y_train, y_pred))\n",
        "    print(f\"Epoch: {epoch_num}, loss: {loss:.3f}, accuracy: {accuracy:.3f}\")\n",
        "\n",
        "  # backpropagation\n",
        "  dscores = y_hat\n",
        "  dscores[range(len(y_hat)), y_train] -= 1\n",
        "  dscores /= len(y_train)\n",
        "  dW = np.dot(X_train.T, dscores)\n",
        "  db = np.sum(dscores, axis=0, keepdims=True)\n",
        "\n",
        "  # update weights\n",
        "  W += -LEARNING_RATE * dW\n",
        "  b += -LEARNING_RATE * db"
      ],
      "execution_count": 30,
      "outputs": [
        {
          "output_type": "stream",
          "name": "stdout",
          "text": [
            "Epoch: 0, loss: 0.684, accuracy: 0.897\n",
            "Epoch: 10, loss: 0.446, accuracy: 0.970\n",
            "Epoch: 20, loss: 0.349, accuracy: 0.973\n",
            "Epoch: 30, loss: 0.297, accuracy: 0.973\n",
            "Epoch: 40, loss: 0.263, accuracy: 0.973\n"
          ]
        }
      ]
    },
    {
      "cell_type": "markdown",
      "metadata": {
        "id": "Q11_K7liKy3A"
      },
      "source": [
        "# Evaluation"
      ]
    },
    {
      "cell_type": "code",
      "metadata": {
        "id": "o1ukqrYiK0QC"
      },
      "source": [
        "# define LogisticRegressionFromScratch class\n",
        "class LogisticRegressionFromScratch():\n",
        "  \"\"\"Define LogisticRegressionFromScratch class.\"\"\"\n",
        "  \n",
        "  def predict(self, x):\n",
        "    \"\"\"Define predict function.\"\"\"\n",
        "    logits = np.dot(x, W) + b\n",
        "    exp_logits = np.exp(logits)\n",
        "    y_hat = exp_logits / np.sum(exp_logits, axis=1, keepdims=True)\n",
        "    return y_hat"
      ],
      "execution_count": 31,
      "outputs": []
    },
    {
      "cell_type": "code",
      "metadata": {
        "id": "yrNh-9Q8MBvK"
      },
      "source": [
        "# model evaluation\n",
        "model = LogisticRegressionFromScratch()\n",
        "logits_train = model.predict(X_train)\n",
        "pred_train = np.argmax(logits_train, axis=1)\n",
        "logits_test = model.predict(X_test)\n",
        "pred_test = np.argmax(logits_test, axis=1)"
      ],
      "execution_count": 32,
      "outputs": []
    },
    {
      "cell_type": "code",
      "metadata": {
        "id": "6eHkhDrOM5gA",
        "colab": {
          "base_uri": "https://localhost:8080/"
        },
        "outputId": "7d3ab22c-6f78-433b-f778-d6b2c9eb4ff8"
      },
      "source": [
        "# training & test accuracy\n",
        "train_acc = np.mean(np.equal(y_train, pred_train))\n",
        "test_acc = np.mean(np.equal(y_test, pred_test))\n",
        "print(f\"train acc: {train_acc:.2f}, test acc: {test_acc:.2f}\")"
      ],
      "execution_count": 33,
      "outputs": [
        {
          "output_type": "stream",
          "name": "stdout",
          "text": [
            "train acc: 0.97, test acc: 0.97\n"
          ]
        }
      ]
    },
    {
      "cell_type": "code",
      "metadata": {
        "id": "No_yoC3kNe4y"
      },
      "source": [
        "# define plot function\n",
        "def plot_multiclass_decision_boundary(model, X, y, savefig_fp=None):\n",
        "  \"\"\"Plot the multiclass decision boundary for a model that accepts 2D inputs.\n",
        "  Credit: https://cs231n.github.io/neural-networks-case-study/\n",
        "\n",
        "  Arguments:\n",
        "      model {function} -- trained model with function model.predict(x_in).\n",
        "      X {numpy.ndarray} -- 2D inputs with shape (N, 2).\n",
        "      y {numpy.ndarray} -- 1D outputs with shape (N,).\n",
        "  \"\"\"\n",
        "\n",
        "  # axis boundaries\n",
        "  x_min, x_max = X[:, 0].min() - 0.1, X[:, 0].max() + 0.1\n",
        "  y_min, y_max = X[:, 1].min() - 0.1, X[: 1].max() + 0.1\n",
        "  xx, yy = np.meshgrid(np.linspace(x_min, x_max, 101),\n",
        "                       np.linspace(y_min, y_max, 101))\n",
        "\n",
        "  # create predictions\n",
        "  x_in = np.c_[(xx.ravel(), yy.ravel())]\n",
        "  y_pred = model.predict(x_in)\n",
        "  y_pred = np.argmax(y_pred, axis=1).reshape(xx.shape)\n",
        "\n",
        "  # plot decision boundary\n",
        "  plt.contourf(xx, yy, y_pred, cmap=plt.cm.Spectral, alpha=0.8)\n",
        "  plt.scatter(X[:, 0], X[:, 1], c=y, s=40, cmap=plt.cm.RdYlBu)\n",
        "  plt.xlim(xx.min(), xx.max())\n",
        "  plt.ylim(yy.min(), yy.max())\n",
        "\n",
        "  # plot\n",
        "  if savefig_fp:\n",
        "    plt.savefig(savefig_fp, format=\"png\")"
      ],
      "execution_count": 34,
      "outputs": []
    },
    {
      "cell_type": "code",
      "metadata": {
        "id": "AZs6vcp_Ql9K",
        "outputId": "7b201646-d6b1-45e9-e557-649d5fae57f2",
        "colab": {
          "base_uri": "https://localhost:8080/",
          "height": 336
        }
      },
      "source": [
        "# visualize the decision boundary\n",
        "plt.figure(figsize=(12,5))\n",
        "plt.subplot(1, 2, 1)\n",
        "plt.title(\"Train\")\n",
        "plot_multiclass_decision_boundary(model=model, X=X_train, y=y_train)\n",
        "plt.subplot(1, 2, 2)\n",
        "plt.title(\"Test\")\n",
        "plot_multiclass_decision_boundary(model=model, X=X_test, y=y_test)\n",
        "plt.show()"
      ],
      "execution_count": 36,
      "outputs": [
        {
          "output_type": "display_data",
          "data": {
            "image/png": "[encoded data removed]",
            "text/plain": [
              "<Figure size 864x360 with 2 Axes>"
            ]
          },
          "metadata": {
            "needs_background": "light"
          }
        }
      ]
    }
  ]
}