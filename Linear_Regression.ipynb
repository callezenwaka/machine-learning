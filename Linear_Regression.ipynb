{
  "nbformat": 4,
  "nbformat_minor": 0,
  "metadata": {
    "colab": {
      "name": "Linear_Regression.ipynb",
      "provenance": [],
      "include_colab_link": true
    },
    "kernelspec": {
      "name": "python3",
      "display_name": "Python 3"
    },
    "language_info": {
      "name": "python"
    }
  },
  "cells": [
    {
      "cell_type": "markdown",
      "metadata": {
        "id": "view-in-github",
        "colab_type": "text"
      },
      "source": [
        "<a href=\"https://colab.research.google.com/github/callezenwaka/machine-learning/blob/main/Linear_Regression.ipynb\" target=\"_parent\"><img src=\"https://colab.research.google.com/assets/colab-badge.svg\" alt=\"Open In Colab\"/></a>"
      ]
    },
    {
      "cell_type": "markdown",
      "metadata": {
        "id": "n0R7BbEH_Cjk"
      },
      "source": [
        "# Generate Data"
      ]
    },
    {
      "cell_type": "code",
      "metadata": {
        "id": "EvbN9rYJ-_WH"
      },
      "source": [
        "# import dependencies\n",
        "import numpy as np\n",
        "import pandas as pd\n",
        "import matplotlib.pyplot as plt"
      ],
      "execution_count": 1,
      "outputs": []
    },
    {
      "cell_type": "code",
      "metadata": {
        "id": "G4R95J8WAgXj"
      },
      "source": [
        "# define seed & sample size\n",
        "SEED = 1234\n",
        "NUM_SAMPLES = 50"
      ],
      "execution_count": 2,
      "outputs": []
    },
    {
      "cell_type": "code",
      "metadata": {
        "id": "aTSaOzNnAyBs"
      },
      "source": [
        "# set seed for reproducibility\n",
        "np.random.seed(SEED)"
      ],
      "execution_count": 3,
      "outputs": []
    },
    {
      "cell_type": "code",
      "metadata": {
        "id": "6cRkCIXpA5vV"
      },
      "source": [
        "# generate synthetic data\n",
        "def generate_data(num_samples):\n",
        "  \"\"\"Generate dummy data for linear regression.\"\"\"\n",
        "  X = np.array(range(num_samples))\n",
        "  random_noise = np.random.uniform(-10,20, size=num_samples)\n",
        "  y = 3.5*X + random_noise # add some noise\n",
        "  return X, y"
      ],
      "execution_count": 4,
      "outputs": []
    },
    {
      "cell_type": "code",
      "metadata": {
        "colab": {
          "base_uri": "https://localhost:8080/"
        },
        "id": "rwnOA2BlB4US",
        "outputId": "c8cf3e73-89be-44e5-9abf-7f3569c9af03"
      },
      "source": [
        "# generate random (linear) data\n",
        "X, y = generate_data(num_samples=NUM_SAMPLES)\n",
        "data = np.vstack([X, y]).T\n",
        "print(data[:5])"
      ],
      "execution_count": 5,
      "outputs": [
        {
          "output_type": "stream",
          "name": "stdout",
          "text": [
            "[[ 0.         -4.25441649]\n",
            " [ 1.         12.16326313]\n",
            " [ 2.         10.13183217]\n",
            " [ 3.         24.06075751]\n",
            " [ 4.         27.39927424]]\n"
          ]
        }
      ]
    },
    {
      "cell_type": "code",
      "metadata": {
        "colab": {
          "base_uri": "https://localhost:8080/",
          "height": 206
        },
        "id": "uUr_ifw1CO2a",
        "outputId": "9d370f76-cf1c-4fa7-c0c0-4bfd5392a828"
      },
      "source": [
        "# load into a pandas dataframe\n",
        "df = pd.DataFrame(data, columns=['X', 'y'])\n",
        "X = df[['X']].values\n",
        "y = df[['y']].values\n",
        "df.head()"
      ],
      "execution_count": 6,
      "outputs": [
        {
          "output_type": "execute_result",
          "data": {
            "text/html": [
              "<div>\n",
              "<style scoped>\n",
              "    .dataframe tbody tr th:only-of-type {\n",
              "        vertical-align: middle;\n",
              "    }\n",
              "\n",
              "    .dataframe tbody tr th {\n",
              "        vertical-align: top;\n",
              "    }\n",
              "\n",
              "    .dataframe thead th {\n",
              "        text-align: right;\n",
              "    }\n",
              "</style>\n",
              "<table border=\"1\" class=\"dataframe\">\n",
              "  <thead>\n",
              "    <tr style=\"text-align: right;\">\n",
              "      <th></th>\n",
              "      <th>X</th>\n",
              "      <th>y</th>\n",
              "    </tr>\n",
              "  </thead>\n",
              "  <tbody>\n",
              "    <tr>\n",
              "      <th>0</th>\n",
              "      <td>0.0</td>\n",
              "      <td>-4.254416</td>\n",
              "    </tr>\n",
              "    <tr>\n",
              "      <th>1</th>\n",
              "      <td>1.0</td>\n",
              "      <td>12.163263</td>\n",
              "    </tr>\n",
              "    <tr>\n",
              "      <th>2</th>\n",
              "      <td>2.0</td>\n",
              "      <td>10.131832</td>\n",
              "    </tr>\n",
              "    <tr>\n",
              "      <th>3</th>\n",
              "      <td>3.0</td>\n",
              "      <td>24.060758</td>\n",
              "    </tr>\n",
              "    <tr>\n",
              "      <th>4</th>\n",
              "      <td>4.0</td>\n",
              "      <td>27.399274</td>\n",
              "    </tr>\n",
              "  </tbody>\n",
              "</table>\n",
              "</div>"
            ],
            "text/plain": [
              "     X          y\n",
              "0  0.0  -4.254416\n",
              "1  1.0  12.163263\n",
              "2  2.0  10.131832\n",
              "3  3.0  24.060758\n",
              "4  4.0  27.399274"
            ]
          },
          "metadata": {},
          "execution_count": 6
        }
      ]
    },
    {
      "cell_type": "code",
      "metadata": {
        "colab": {
          "base_uri": "https://localhost:8080/",
          "height": 281
        },
        "id": "4H-7ufmjC6VC",
        "outputId": "7aaa5d02-4569-44b7-bbb4-124994084ab6"
      },
      "source": [
        "# scatter plot\n",
        "plt.title(\"Generated data\")\n",
        "plt.scatter(x=df['X'], y=df['y'])\n",
        "plt.show()"
      ],
      "execution_count": 7,
      "outputs": [
        {
          "output_type": "display_data",
          "data": {
            "image/png": "[encoded data removed]",
            "text/plain": [
              "<Figure size 432x288 with 1 Axes>"
            ]
          },
          "metadata": {
            "needs_background": "light"
          }
        }
      ]
    },
    {
      "cell_type": "markdown",
      "metadata": {
        "id": "coJaieUHDN5K"
      },
      "source": [
        "# Linear Reg. with Numpy"
      ]
    },
    {
      "cell_type": "markdown",
      "metadata": {
        "id": "tSqTuRypDeP6"
      },
      "source": [
        "# Split Data"
      ]
    },
    {
      "cell_type": "code",
      "metadata": {
        "id": "BX6HX7rtDifY"
      },
      "source": [
        "# split percentages\n",
        "TRAIN_SIZE =0.7\n",
        "VAL_SIZE = 0.15\n",
        "TEST_SIZE = 0.15"
      ],
      "execution_count": 8,
      "outputs": []
    },
    {
      "cell_type": "code",
      "metadata": {
        "id": "T6EMOE8oDT3d"
      },
      "source": [
        "# shuffle data. P.S - never shuffle X & y differently to avoid mismatch\n",
        "indices = list(range(NUM_SAMPLES))\n",
        "np.random.shuffle(indices)\n",
        "X = X[indices]\n",
        "y = y[indices]"
      ],
      "execution_count": 9,
      "outputs": []
    },
    {
      "cell_type": "code",
      "metadata": {
        "id": "JrY1FZjREZC-"
      },
      "source": [
        "# split indices\n",
        "train_start = 0\n",
        "train_end = int(0.7*NUM_SAMPLES)\n",
        "val_start = train_end\n",
        "val_end = int((TRAIN_SIZE+VAL_SIZE)*NUM_SAMPLES)\n",
        "test_start = val_end"
      ],
      "execution_count": 10,
      "outputs": []
    },
    {
      "cell_type": "code",
      "metadata": {
        "colab": {
          "base_uri": "https://localhost:8080/"
        },
        "id": "JF1zHlVdFan2",
        "outputId": "e8d2fe12-fb40-4c72-c885-d0da385dbabc"
      },
      "source": [
        "# split dataset\n",
        "X_train = X[train_start:train_end]\n",
        "y_train = y[train_start:train_end]\n",
        "X_val = X[val_start:val_end]\n",
        "y_val = y[val_start:val_end]\n",
        "X_test = X[test_start:]\n",
        "y_test = y[test_start:]\n",
        "print(f\"X_train: {X_train.shape}, y_train: {y_train.shape}\")\n",
        "print(f\"X_val: {X_val.shape}, y_val: {y_val.shape}\")\n",
        "print(f\"X_test: {X_test.shape}, y_test: {y_test.shape}\")"
      ],
      "execution_count": 11,
      "outputs": [
        {
          "output_type": "stream",
          "name": "stdout",
          "text": [
            "X_train: (35, 1), y_train: (35, 1)\n",
            "X_val: (7, 1), y_val: (7, 1)\n",
            "X_test: (8, 1), y_test: (8, 1)\n"
          ]
        }
      ]
    },
    {
      "cell_type": "markdown",
      "metadata": {
        "id": "-B2OAHUIGw0u"
      },
      "source": [
        "# Standardize Dataset"
      ]
    },
    {
      "cell_type": "code",
      "metadata": {
        "id": "lGV44tnQGoPy"
      },
      "source": [
        "# standardize data function\n",
        "def standardize_data(data, mean, std):\n",
        "  \"\"\"Standardize dataset to zero mean & unit variance.\"\"\"\n",
        "  return (data - mean)/std"
      ],
      "execution_count": 12,
      "outputs": []
    },
    {
      "cell_type": "code",
      "metadata": {
        "id": "Hi9nhN3VHLA3"
      },
      "source": [
        "# determine means and stds\n",
        "X_mean = np.mean(X_train)\n",
        "X_std = np.std(X_train)\n",
        "y_mean = np.mean(y_train)\n",
        "y_std = np.std(y_train)"
      ],
      "execution_count": 13,
      "outputs": []
    },
    {
      "cell_type": "markdown",
      "metadata": {
        "id": "KeadYffTHsX5"
      },
      "source": [
        "We need to treat the validation and test sets as if they were hidden datasets. So we only use the train set to determine the mean and std to avoid biasing our training process."
      ]
    },
    {
      "cell_type": "code",
      "metadata": {
        "id": "N_crSwg_HtVn"
      },
      "source": [
        "# standardize data\n",
        "X_train = standardize_data(X_train, X_mean, X_std)\n",
        "y_train = standardize_data(y_train, y_mean, y_std)\n",
        "X_val = standardize_data(X_val, X_mean, X_std)\n",
        "y_val = standardize_data(y_val, y_mean, y_std)\n",
        "X_test = standardize_data(X_test, X_mean, X_std)\n",
        "y_test = standardize_data(y_test, y_mean, y_std)"
      ],
      "execution_count": 14,
      "outputs": []
    },
    {
      "cell_type": "code",
      "metadata": {
        "colab": {
          "base_uri": "https://localhost:8080/"
        },
        "id": "BCrR6fp0Ilun",
        "outputId": "61c44173-f66c-4339-e5e1-a272f82bc629"
      },
      "source": [
        "# Check: means should be ~0 and std should be ~1\n",
        "print(f\"mean: {np.mean(X_test, axis=0)[0]:.1f}, std: {np.std(X_test, axis=0)[0]:.1f}\")\n",
        "print(f\"mean: {np.mean(y_test, axis=0)[0]:.1f}, std: {np.std(y_test, axis=0)[0]:.1f}\")"
      ],
      "execution_count": 15,
      "outputs": [
        {
          "output_type": "stream",
          "name": "stdout",
          "text": [
            "mean: -0.6, std: 0.9\n",
            "mean: -0.6, std: 0.9\n"
          ]
        }
      ]
    },
    {
      "cell_type": "markdown",
      "metadata": {
        "id": "GZfXQqWTK_4H"
      },
      "source": [
        "# Weights"
      ]
    },
    {
      "cell_type": "code",
      "metadata": {
        "id": "rORJxOk9KtkY"
      },
      "source": [
        "# model dimesions\n",
        "INPUT_DIM = X_train.shape[1] # X is 1-dimensional\n",
        "OUTPUT_DIM = y_train.shape[1] # y is 1-dimensional"
      ],
      "execution_count": 21,
      "outputs": []
    },
    {
      "cell_type": "code",
      "metadata": {
        "colab": {
          "base_uri": "https://localhost:8080/"
        },
        "id": "lyienG6uLnYI",
        "outputId": "706e37e8-930e-4618-e49a-a495be82f686"
      },
      "source": [
        "# initialize random weights\n",
        "W = 0.01 * np.random.randn(INPUT_DIM, OUTPUT_DIM)\n",
        "b = np.zeros((1,1))\n",
        "print(f\"W: {W.shape}\")\n",
        "print(f\"b: {b.shape}\")"
      ],
      "execution_count": 19,
      "outputs": [
        {
          "output_type": "stream",
          "name": "stdout",
          "text": [
            "W: (1, 1)\n",
            "b: (1, 1)\n"
          ]
        }
      ]
    },
    {
      "cell_type": "markdown",
      "metadata": {
        "id": "AVFiL4mzMbxT"
      },
      "source": [
        "# Model"
      ]
    },
    {
      "cell_type": "code",
      "metadata": {
        "colab": {
          "base_uri": "https://localhost:8080/"
        },
        "id": "5qkZzHldMc6K",
        "outputId": "ac9fdb66-9d0d-4281-e035-4b58980eebfe"
      },
      "source": [
        "# forward pass [Nx1] · [1x1] = [Nx1]\n",
        "y_pred = np.dot(X_train, W) + b\n",
        "print(f\"y_pred: {y_pred.shape}\")"
      ],
      "execution_count": 22,
      "outputs": [
        {
          "output_type": "stream",
          "name": "stdout",
          "text": [
            "y_pred: (35, 1)\n"
          ]
        }
      ]
    },
    {
      "cell_type": "markdown",
      "metadata": {
        "id": "v0WqHmGSNAdz"
      },
      "source": [
        "# Loss"
      ]
    },
    {
      "cell_type": "code",
      "metadata": {
        "colab": {
          "base_uri": "https://localhost:8080/"
        },
        "id": "-19r1CRqNBc6",
        "outputId": "f7296a88-aae1-4c0b-9039-f2a2adfb0347"
      },
      "source": [
        "# calculate loss using mean squared error (MSE)\n",
        "N = len(y_train)\n",
        "loss = (1/N) * np.sum((y_train - y_pred)**2)\n",
        "print(f\"loss: {loss:.2f}\")"
      ],
      "execution_count": 24,
      "outputs": [
        {
          "output_type": "stream",
          "name": "stdout",
          "text": [
            "loss: 0.99\n"
          ]
        }
      ]
    },
    {
      "cell_type": "markdown",
      "metadata": {
        "id": "RxotlDFbNbZF"
      },
      "source": [
        "# Gradient"
      ]
    },
    {
      "cell_type": "code",
      "metadata": {
        "id": "px4xtoEBNcz0"
      },
      "source": [
        "# backpropagation\n",
        "dW = -(2/N) * np.sum((y_train - y_pred) * X_train)\n",
        "db = -(2/N) * np.sum((y_train - y_pred) * 1)"
      ],
      "execution_count": 25,
      "outputs": []
    },
    {
      "cell_type": "markdown",
      "metadata": {
        "id": "iFrAl-JwPO7C"
      },
      "source": [
        "# Update Weight"
      ]
    },
    {
      "cell_type": "code",
      "metadata": {
        "id": "_fvxxwg0PQt2"
      },
      "source": [
        "# define learning rate hyperparameter\n",
        "LEARNING_RATE = 1e-1"
      ],
      "execution_count": 26,
      "outputs": []
    },
    {
      "cell_type": "code",
      "metadata": {
        "id": "d5HDs2dJPfxB"
      },
      "source": [
        "# update weights\n",
        "W += -LEARNING_RATE * dW\n",
        "b += -LEARNING_RATE * db"
      ],
      "execution_count": 27,
      "outputs": []
    },
    {
      "cell_type": "markdown",
      "metadata": {
        "id": "70gYGg9AP1c_"
      },
      "source": [
        "# Training"
      ]
    },
    {
      "cell_type": "code",
      "metadata": {
        "id": "aJXHfqMnP3h7"
      },
      "source": [
        "# define number of training epochs\n",
        "NUM_EPOCHS = 100"
      ],
      "execution_count": 28,
      "outputs": []
    },
    {
      "cell_type": "code",
      "metadata": {
        "colab": {
          "base_uri": "https://localhost:8080/"
        },
        "id": "VamZMln-QE7V",
        "outputId": "1ce8a42f-adac-4802-90f9-afa538043f35"
      },
      "source": [
        "# initialize random weights\n",
        "W = 0.01 * np.random.randn(INPUT_DIM, OUTPUT_DIM)\n",
        "b = np.zeros((1,1))\n",
        "\n",
        "# training loop\n",
        "for epoch_num in range(NUM_EPOCHS):\n",
        "  # forward pass [Nx1] · [1x1] = [Nx1]\n",
        "  y_pred = np.dot(X_train, W) + b\n",
        "\n",
        "  # calculate loss\n",
        "  loss = (1/len(y_train)) * np.sum((y_train - y_pred)**2)\n",
        "\n",
        "  # show training update & progress\n",
        "  if epoch_num%10 == 0:\n",
        "    print(f\"Epoch: {epoch_num}, loss: {loss:.3f}\")\n",
        "\n",
        "  # backpropagation\n",
        "  dW = -(2/N) * np.sum((y_train - y_pred) * X_train)\n",
        "  db = -(2/N) * np.sum((y_train - y_pred) * 1)\n",
        "\n",
        "  # update weight\n",
        "  W += -LEARNING_RATE * dW\n",
        "  b += -LEARNING_RATE * db"
      ],
      "execution_count": 32,
      "outputs": [
        {
          "output_type": "stream",
          "name": "stdout",
          "text": [
            "Epoch: 0, loss: 0.990\n",
            "Epoch: 10, loss: 0.039\n",
            "Epoch: 20, loss: 0.028\n",
            "Epoch: 30, loss: 0.028\n",
            "Epoch: 40, loss: 0.028\n",
            "Epoch: 50, loss: 0.028\n",
            "Epoch: 60, loss: 0.028\n",
            "Epoch: 70, loss: 0.028\n",
            "Epoch: 80, loss: 0.028\n",
            "Epoch: 90, loss: 0.028\n"
          ]
        }
      ]
    },
    {
      "cell_type": "markdown",
      "metadata": {
        "id": "-fHhzWO_R8Jr"
      },
      "source": [
        "# Evaluation"
      ]
    },
    {
      "cell_type": "code",
      "metadata": {
        "id": "OU8siOXaRxa_"
      },
      "source": [
        "# prediction\n",
        "pred_train = W*X_train + b\n",
        "pred_test = W*X_test + b"
      ],
      "execution_count": 33,
      "outputs": []
    },
    {
      "cell_type": "code",
      "metadata": {
        "colab": {
          "base_uri": "https://localhost:8080/"
        },
        "id": "gwwlGhHMSOXv",
        "outputId": "b69292da-473c-4a15-8e70-6ba85a6bfc84"
      },
      "source": [
        "# train & test MSE\n",
        "train_mse = np.mean((y_train - y_pred) **2)\n",
        "test_mse = np.mean((y_test - pred_test) **2)\n",
        "print(f\"train_MSE: {train_mse:.2f}, test_MSE: {test_mse:.2f}\")"
      ],
      "execution_count": 34,
      "outputs": [
        {
          "output_type": "stream",
          "name": "stdout",
          "text": [
            "train_MSE: 0.03, test_MSE: 0.01\n"
          ]
        }
      ]
    },
    {
      "cell_type": "code",
      "metadata": {
        "colab": {
          "base_uri": "https://localhost:8080/",
          "height": 336
        },
        "id": "21_lWtGNS3Zu",
        "outputId": "bc2c18f0-5414-4386-dffd-a9c0d616b5c8"
      },
      "source": [
        "# plot figure size\n",
        "plt.figure(figsize=(15,5))\n",
        "\n",
        "# plot train data\n",
        "plt.subplot(1,2,1)\n",
        "plt.title(\"Train\")\n",
        "plt.scatter(X_train, y_train, label='y_train')\n",
        "plt.plot(X_train, pred_train, color='red', linewidth=1, linestyle='-', label='model')\n",
        "plt.legend(loc='lower right')\n",
        "\n",
        "# plot test data\n",
        "plt.subplot(1,2,2)\n",
        "plt.title(\"Test\")\n",
        "plt.scatter(X_test, y_test, label='y_test')\n",
        "plt.plot(X_test, pred_test, color='red', linewidth=1, linestyle='-', label='model')\n",
        "plt.legend(loc='lower right')\n",
        "\n",
        "# show plots\n",
        "plt.show()"
      ],
      "execution_count": 41,
      "outputs": [
        {
          "output_type": "display_data",
          "data": {
            "image/png": "[encoded data removed]",
            "text/plain": [
              "<Figure size 1080x360 with 2 Axes>"
            ]
          },
          "metadata": {
            "needs_background": "light"
          }
        }
      ]
    },
    {
      "cell_type": "markdown",
      "metadata": {
        "id": "Z_5i6eJmUZzS"
      },
      "source": [
        "# Interpretability"
      ]
    },
    {
      "cell_type": "code",
      "metadata": {
        "colab": {
          "base_uri": "https://localhost:8080/"
        },
        "id": "sH9ZtGGPUbs5",
        "outputId": "60a3e12b-f70b-4b81-d5ff-ff4cc4610c92"
      },
      "source": [
        "# unscaled weights\n",
        "W_unscaled = W * (y_std/X_std)\n",
        "b_unscaled = b * y_std + y_mean - np.sum(W_unscaled*X_mean)\n",
        "print(\"[actual] y = 3.5X + noise\")\n",
        "print(f\"[model] y_hat = {W_unscaled[0][0]:.1f}X + {b_unscaled[0][0]:.1f}\")"
      ],
      "execution_count": 48,
      "outputs": [
        {
          "output_type": "stream",
          "name": "stdout",
          "text": [
            "[actual] y = 3.5X + noise\n",
            "[model] y_hat = 3.4X + 7.8\n"
          ]
        }
      ]
    },
    {
      "cell_type": "markdown",
      "metadata": {
        "id": "BSsyOsMBfZzM"
      },
      "source": [
        "# Linear Reg. with PyTorch"
      ]
    },
    {
      "cell_type": "markdown",
      "metadata": {
        "id": "USJkva0df6Yn"
      },
      "source": [
        "# Set up"
      ]
    },
    {
      "cell_type": "code",
      "metadata": {
        "id": "Ke7WKx1VfcqP"
      },
      "source": [
        "# import dependeencies\n",
        "import torch"
      ],
      "execution_count": 84,
      "outputs": []
    },
    {
      "cell_type": "code",
      "metadata": {
        "id": "m7JAqa5HgABj",
        "outputId": "a46564fe-8060-4f34-dd44-8ebcc72f944e",
        "colab": {
          "base_uri": "https://localhost:8080/"
        }
      },
      "source": [
        "# set seed for reproducibility\n",
        "torch.manual_seed(SEED)"
      ],
      "execution_count": 85,
      "outputs": [
        {
          "output_type": "execute_result",
          "data": {
            "text/plain": [
              "<torch._C.Generator at 0x7fdb435973d0>"
            ]
          },
          "metadata": {},
          "execution_count": 85
        }
      ]
    },
    {
      "cell_type": "markdown",
      "metadata": {
        "id": "PS0nxvlpgKVB"
      },
      "source": [
        "# Split Data"
      ]
    },
    {
      "cell_type": "code",
      "metadata": {
        "id": "rljzXgn2gMfO"
      },
      "source": [
        "# use sklearn split function\n",
        "from sklearn.model_selection import  train_test_split"
      ],
      "execution_count": 86,
      "outputs": []
    },
    {
      "cell_type": "code",
      "metadata": {
        "id": "_IrVoVX_gojr"
      },
      "source": [
        "# define split sizes\n",
        "TRAIN_SIZE = 0.7\n",
        "VAL_SIZE = 0.15\n",
        "TEST_SIZE = 0.15"
      ],
      "execution_count": 87,
      "outputs": []
    },
    {
      "cell_type": "code",
      "metadata": {
        "id": "RZ9CoycpgZhH",
        "outputId": "30b4cd36-e3f2-44f3-fe39-3ff6da4849f5",
        "colab": {
          "base_uri": "https://localhost:8080/"
        }
      },
      "source": [
        "# split train dataset\n",
        "X_train, X_, y_train, y_ = train_test_split(X, y, train_size=TRAIN_SIZE)\n",
        "print(f\"train: {len(X_train)} ({(len(X_train) / len(X)):.2f})\\n\"\n",
        "      f\"remaining: {len(X_)} ({(len(X_) / len(X)):.2f})\")"
      ],
      "execution_count": 88,
      "outputs": [
        {
          "output_type": "stream",
          "name": "stdout",
          "text": [
            "train: 35 (0.70)\n",
            "remaining: 15 (0.30)\n"
          ]
        }
      ]
    },
    {
      "cell_type": "code",
      "metadata": {
        "id": "z73CIBJ9gIrX",
        "outputId": "b8de6bf0-58b2-45be-b6ae-bdb580f4ad70",
        "colab": {
          "base_uri": "https://localhost:8080/"
        }
      },
      "source": [
        "# split test datasets\n",
        "X_val, X_test, y_val, y_test = train_test_split(X_, y_, train_size=0.5)\n",
        "print(f\"trian: {len(X_train)} ({len(X_train) / len(X):.2f})\\n\"\n",
        "      f\"val: {len(X_val)} ({len(X_val) / len(X):.2f})\\n\"\n",
        "      f\"test: {len(X_test)} ({len(X_test) / len(X):.2f})\")"
      ],
      "execution_count": 89,
      "outputs": [
        {
          "output_type": "stream",
          "name": "stdout",
          "text": [
            "trian: 35 (0.70)\n",
            "val: 7 (0.14)\n",
            "test: 8 (0.16)\n"
          ]
        }
      ]
    },
    {
      "cell_type": "markdown",
      "metadata": {
        "id": "UQdjI_H_fpeo"
      },
      "source": [
        "# Standardize Data"
      ]
    },
    {
      "cell_type": "code",
      "metadata": {
        "id": "rnomxw3ykQe9"
      },
      "source": [
        "# standardize using sklearn StandardScaler\n",
        "from sklearn.preprocessing import StandardScaler"
      ],
      "execution_count": 90,
      "outputs": []
    },
    {
      "cell_type": "code",
      "metadata": {
        "id": "CROox2B8keu8"
      },
      "source": [
        "# standardize the daaset (mean=0, std=1) using training data\n",
        "X_scaler = StandardScaler().fit(X_train)\n",
        "y_scaler = StandardScaler().fit(y_train)"
      ],
      "execution_count": 91,
      "outputs": []
    },
    {
      "cell_type": "code",
      "metadata": {
        "id": "h5UNMdKMk1St"
      },
      "source": [
        "# apply scaler on training and test data\n",
        "X_train = X_scaler.transform(X_train)\n",
        "y_train = y_scaler.transform(y_train).ravel().reshape(-1,1)\n",
        "X_val = X_scaler.transform(X_val)\n",
        "y_val = y_scaler.transform(y_val).ravel().reshape(-1,1)\n",
        "X_test = X_scaler.transform(X_test)\n",
        "y_test = y_scaler.transform(y_test).ravel().reshape(-1,1)"
      ],
      "execution_count": 92,
      "outputs": []
    },
    {
      "cell_type": "code",
      "metadata": {
        "id": "k8G6eVaBlkXp",
        "outputId": "5c6cd277-e065-4db7-fa1e-290a3ae16759",
        "colab": {
          "base_uri": "https://localhost:8080/"
        }
      },
      "source": [
        "# check: (means should be ~0 and std should be ~1)\n",
        "print(f\"mean: {np.mean(X_test, axis=0)[0]:.1f}, std: {np.std(X_test, axis=0)[0]:.1f}\")\n",
        "print(f\"mean: {np.mean(y_test, axis=0)[0]:.1f}, std: {np.std(y_test, axis=0)[0]:.1f}\")"
      ],
      "execution_count": 93,
      "outputs": [
        {
          "output_type": "stream",
          "name": "stdout",
          "text": [
            "mean: -0.2, std: 1.2\n",
            "mean: -0.2, std: 1.1\n"
          ]
        }
      ]
    },
    {
      "cell_type": "markdown",
      "metadata": {
        "id": "8rrKIDewmVGL"
      },
      "source": [
        "# Weights"
      ]
    },
    {
      "cell_type": "code",
      "metadata": {
        "id": "oUZND9wUmS51"
      },
      "source": [
        "# using pytorch linear layers\n",
        "from torch import nn"
      ],
      "execution_count": 94,
      "outputs": []
    },
    {
      "cell_type": "code",
      "metadata": {
        "id": "9Aj1t0i9rOYw"
      },
      "source": [
        "# define hyperparameters\n",
        "LEARNING_RATE = 1e-1\n",
        "INPUT_DIM = X_train.shape[1] # X is 1-dimensional\n",
        "OUTPUT_DIM = y_train.shape[1] # y is 1-dimensional\n",
        "NUM_EPOCHS = 100"
      ],
      "execution_count": 95,
      "outputs": []
    },
    {
      "cell_type": "code",
      "metadata": {
        "id": "kLtb-0kbmjRQ",
        "outputId": "6a353f10-6724-480a-e3c1-f9a78e675e30",
        "colab": {
          "base_uri": "https://localhost:8080/"
        }
      },
      "source": [
        "# inputs & model dimesions\n",
        "N = 3 # number of sample\n",
        "x = torch.randn(N, INPUT_DIM)\n",
        "print(\"x.shape: \", x.shape)\n",
        "print(\"x.numpy(): \\n\", x.numpy())"
      ],
      "execution_count": 96,
      "outputs": [
        {
          "output_type": "stream",
          "name": "stdout",
          "text": [
            "x.shape:  torch.Size([3, 1])\n",
            "x.numpy(): \n",
            " [[ 0.04613046]\n",
            " [ 0.40240282]\n",
            " [-1.0115291 ]]\n"
          ]
        }
      ]
    },
    {
      "cell_type": "code",
      "metadata": {
        "id": "Ol1_gLpkneMv",
        "outputId": "aab39dd1-2d9b-4992-fc5b-ad12196e8896",
        "colab": {
          "base_uri": "https://localhost:8080/"
        }
      },
      "source": [
        "# weights\n",
        "m = nn.Linear(INPUT_DIM, OUTPUT_DIM)\n",
        "print(\"m: \", m)\n",
        "print(f\"weights ({m.weight.shape}): {m.weight[0][0]:.2f}\")\n",
        "print(f\"bias ({m.bias.shape}): {m.bias[0]:.2f}\")"
      ],
      "execution_count": 97,
      "outputs": [
        {
          "output_type": "stream",
          "name": "stdout",
          "text": [
            "m:  Linear(in_features=1, out_features=1, bias=True)\n",
            "weights (torch.Size([1, 1])): 0.35\n",
            "bias (torch.Size([1])): -0.34\n"
          ]
        }
      ]
    },
    {
      "cell_type": "code",
      "metadata": {
        "id": "153pNihdoEyP",
        "outputId": "b2cf246e-0354-42e9-8c5d-af21de591e3e",
        "colab": {
          "base_uri": "https://localhost:8080/"
        }
      },
      "source": [
        "# forward pass\n",
        "z = m(x)\n",
        "print(\"z.shape: \", z.shape)\n",
        "print(\"z.detach: \\n\", z.detach().numpy())"
      ],
      "execution_count": 98,
      "outputs": [
        {
          "output_type": "stream",
          "name": "stdout",
          "text": [
            "z.shape:  torch.Size([3, 1])\n",
            "z.detach: \n",
            " [[-0.32104054]\n",
            " [-0.19719592]\n",
            " [-0.68869597]]\n"
          ]
        }
      ]
    },
    {
      "cell_type": "markdown",
      "metadata": {
        "id": "OOxg8K2GobuN"
      },
      "source": [
        "# Model"
      ]
    },
    {
      "cell_type": "code",
      "metadata": {
        "id": "LmVG7ek2oczm"
      },
      "source": [
        "# build model class\n",
        "class LinearRegression(nn.Module):\n",
        "  \"\"\"Linear regression class.\"\"\"\n",
        "\n",
        "  def __init__(self, input_dim, output_dim):\n",
        "    \"\"\"initialize LinearRegression class.\"\"\"\n",
        "    super(LinearRegression, self).__init__()\n",
        "    self.fc1 = nn.Linear(input_dim, output_dim)\n",
        "\n",
        "  def forward(self, x_in):\n",
        "    y_pred = self.fc1(x_in)\n",
        "    return y_pred"
      ],
      "execution_count": 109,
      "outputs": []
    },
    {
      "cell_type": "code",
      "metadata": {
        "id": "fwquj7zDozOq",
        "outputId": "e6f2290c-2dfc-4e6d-f962-b58f378ce3b9",
        "colab": {
          "base_uri": "https://localhost:8080/"
        }
      },
      "source": [
        "# initialize model\n",
        "model = LinearRegression(input_dim=INPUT_DIM, output_dim=OUTPUT_DIM)\n",
        "print(\"model parameters: \\n\", model.named_parameters)"
      ],
      "execution_count": 110,
      "outputs": [
        {
          "output_type": "stream",
          "name": "stdout",
          "text": [
            "model parameters: \n",
            " <bound method Module.named_parameters of LinearRegression(\n",
            "  (fc1): Linear(in_features=1, out_features=1, bias=True)\n",
            ")>\n"
          ]
        }
      ]
    },
    {
      "cell_type": "markdown",
      "metadata": {
        "id": "_hmkU0C3qJnR"
      },
      "source": [
        "# Model Loss"
      ]
    },
    {
      "cell_type": "code",
      "metadata": {
        "id": "HwaKKOLZqLqW",
        "outputId": "2cc7f434-84b6-4d61-cf80-b1afaa78a6ff",
        "colab": {
          "base_uri": "https://localhost:8080/"
        }
      },
      "source": [
        "# using pytorch MSELoss\n",
        "loss_fn = nn.MSELoss()\n",
        "y_pred = torch.Tensor([0., 0., 1., 1.])\n",
        "y_true = torch.Tensor([1., 1., 1., 0.])\n",
        "loss = loss_fn(y_pred, y_true)\n",
        "print(\"Loss: \", loss.numpy())"
      ],
      "execution_count": 111,
      "outputs": [
        {
          "output_type": "stream",
          "name": "stdout",
          "text": [
            "Loss:  0.75\n"
          ]
        }
      ]
    },
    {
      "cell_type": "markdown",
      "metadata": {
        "id": "Za7rfXd2qvjv"
      },
      "source": [
        "# Optimizer"
      ]
    },
    {
      "cell_type": "code",
      "metadata": {
        "id": "GA619Y5Hqw9V"
      },
      "source": [
        "# using adam optimizer\n",
        "from torch.optim import  Adam"
      ],
      "execution_count": 112,
      "outputs": []
    },
    {
      "cell_type": "code",
      "metadata": {
        "id": "wZIcWwGjq4xE"
      },
      "source": [
        "# optimizer\n",
        "optimizer = Adam(model.parameters(), lr=LEARNING_RATE)"
      ],
      "execution_count": 113,
      "outputs": []
    },
    {
      "cell_type": "markdown",
      "metadata": {
        "id": "O42BglF_rdxi"
      },
      "source": [
        "# Training"
      ]
    },
    {
      "cell_type": "code",
      "metadata": {
        "id": "5HyQ4aDKrbq8"
      },
      "source": [
        "# convert data to tensors\n",
        "X_train = torch.Tensor(X_train)\n",
        "y_train = torch.Tensor(y_train)\n",
        "X_val = torch.Tensor(X_val)\n",
        "y_val = torch.Tensor(y_val)\n",
        "X_test = torch.Tensor(X_test)\n",
        "y_test = torch.Tensor(y_test)"
      ],
      "execution_count": 114,
      "outputs": []
    },
    {
      "cell_type": "code",
      "metadata": {
        "id": "t3abwBh3r99k",
        "outputId": "2cf7277e-1ac0-4cf3-e141-e25f2e83ea29",
        "colab": {
          "base_uri": "https://localhost:8080/"
        }
      },
      "source": [
        "# train model\n",
        "for epoch in range(NUM_EPOCHS):\n",
        "  # forward pass\n",
        "  y_pred = model(X_train)\n",
        "\n",
        "  # model loss\n",
        "  loss = loss_fn(y_pred, y_train)\n",
        "\n",
        "  # zero all gradients\n",
        "  optimizer.zero_grad()\n",
        "\n",
        "  # backward pass\n",
        "  loss.backward()\n",
        "\n",
        "  # update weights\n",
        "  optimizer.step()\n",
        "\n",
        "  # update model performance\n",
        "  if epoch%20==0:\n",
        "    print(f\"Epoch: {epoch} | loss: {loss:.2f}\")"
      ],
      "execution_count": 116,
      "outputs": [
        {
          "output_type": "stream",
          "name": "stdout",
          "text": [
            "Epoch: 0 | loss: 0.03\n",
            "Epoch: 20 | loss: 0.03\n",
            "Epoch: 40 | loss: 0.03\n",
            "Epoch: 60 | loss: 0.03\n",
            "Epoch: 80 | loss: 0.03\n"
          ]
        }
      ]
    },
    {
      "cell_type": "markdown",
      "metadata": {
        "id": "siFnk7powqHw"
      },
      "source": [
        "# Evaluation"
      ]
    },
    {
      "cell_type": "code",
      "metadata": {
        "id": "lcjaUlNYtDxK"
      },
      "source": [
        "# predictions\n",
        "pred_train = model(X_train)\n",
        "pred_test = model(X_test) "
      ],
      "execution_count": 117,
      "outputs": []
    },
    {
      "cell_type": "code",
      "metadata": {
        "id": "HKsF_4Zew1vD",
        "outputId": "eb2bfd09-0fbc-41cc-f39b-3674533774b1",
        "colab": {
          "base_uri": "https://localhost:8080/"
        }
      },
      "source": [
        "# performance\n",
        "train_error = loss_fn(pred_train, y_train)\n",
        "test_error = loss_fn(pred_test, y_test)\n",
        "print(f\"train_error: {train_error:.2f}\")\n",
        "print(f\"test_error: {test_error:.2f}\")"
      ],
      "execution_count": 118,
      "outputs": [
        {
          "output_type": "stream",
          "name": "stdout",
          "text": [
            "train_error: 0.03\n",
            "test_error: 0.03\n"
          ]
        }
      ]
    },
    {
      "cell_type": "code",
      "metadata": {
        "id": "l2J3EpDBxgn9",
        "outputId": "54c682a2-2a22-4321-ac78-bbd8c8dd83b6",
        "colab": {
          "base_uri": "https://localhost:8080/",
          "height": 336
        }
      },
      "source": [
        "# inspect with figure size\n",
        "plt.figure(figsize=(15,5))\n",
        "\n",
        "# plot train size\n",
        "plt.subplot(1,2,1)\n",
        "plt.title(\"Train\")\n",
        "plt.scatter(X_train, y_train, label=\"y_train\")\n",
        "plt.plot(X_train, pred_train.detach().numpy(), color=\"red\", linewidth=1, linestyle='-', label=\"model\")\n",
        "plt.legend(loc=\"lower right\")\n",
        "\n",
        "# plot test data\n",
        "plt.subplot(1,2,2)\n",
        "plt.title(\"Test\")\n",
        "plt.scatter(X_test, y_test, label=\"y_test\")\n",
        "plt.plot(X_test, pred_test.detach().numpy(), color=\"red\", linewidth=1, linestyle=\"-\", label=\"model\")\n",
        "plt.legend(loc=\"lower right\")\n",
        "\n",
        "# show plots\n",
        "plt.show()"
      ],
      "execution_count": 120,
      "outputs": [
        {
          "output_type": "display_data",
          "data": {
            "image/png": "[encoded data removed]",
            "text/plain": [
              "<Figure size 1080x360 with 2 Axes>"
            ]
          },
          "metadata": {
            "needs_background": "light"
          }
        }
      ]
    },
    {
      "cell_type": "markdown",
      "metadata": {
        "id": "zfCHktfpzv3z"
      },
      "source": [
        "# Inference"
      ]
    },
    {
      "cell_type": "code",
      "metadata": {
        "id": "ip9Mq3QDzxMq"
      },
      "source": [
        "# feed in new data\n",
        "sample_indices = [10,15,25]\n",
        "X_infer = np.array(sample_indices, dtype=np.float32)\n",
        "X_infer = torch.Tensor(X_scaler.transform(X_infer.reshape(-1,1)))"
      ],
      "execution_count": 122,
      "outputs": []
    },
    {
      "cell_type": "code",
      "metadata": {
        "id": "qZ859AV30XFk",
        "outputId": "35123485-e04a-48ab-fe2a-f48eba96102e",
        "colab": {
          "base_uri": "https://localhost:8080/"
        }
      },
      "source": [
        "# un-standardize predictions\n",
        "pred_infer = model(X_infer).detach().numpy() * np.sqrt(y_scaler.var_) + y_scaler.mean_\n",
        "for i, index in enumerate(sample_indices):\n",
        "  print(f\"{df.iloc[index]['y']:.2f} (actual) → {pred_infer[i][0]:.2f} (predicted)\")"
      ],
      "execution_count": 123,
      "outputs": [
        {
          "output_type": "stream",
          "name": "stdout",
          "text": [
            "35.73 (actual) → 42.36 (predicted)\n",
            "59.34 (actual) → 59.38 (predicted)\n",
            "97.04 (actual) → 93.42 (predicted)\n"
          ]
        }
      ]
    },
    {
      "cell_type": "markdown",
      "metadata": {
        "id": "tYDkMeXO1T21"
      },
      "source": [
        "# Interpretability"
      ]
    },
    {
      "cell_type": "code",
      "metadata": {
        "id": "N21yrWUT1V3_",
        "outputId": "b70d056f-17fd-4b19-fd69-9fdee3eada56",
        "colab": {
          "base_uri": "https://localhost:8080/"
        }
      },
      "source": [
        "# un-standardize coefficients\n",
        "W = model.fc1.weight.data.numpy()[0][0]\n",
        "b = model.fc1.bias.data.numpy()[0]\n",
        "W_unscaled = W * (y_scaler.scale_/X_scaler.scale_)\n",
        "b_unscaled = b * y_scaler.scale_ + y_scaler.mean_ - np.sum(W_unscaled*X_scaler.mean_)\n",
        "print(\"[actual y = 3.5X + noise\")\n",
        "print(f\"[model] y_hat = {W_unscaled[0]:.1f}X + {b_unscaled[0]:.1f}\")"
      ],
      "execution_count": 125,
      "outputs": [
        {
          "output_type": "stream",
          "name": "stdout",
          "text": [
            "[actual y = 3.5X + noise\n",
            "[model] y_hat = 3.4X + 8.3\n"
          ]
        }
      ]
    },
    {
      "cell_type": "markdown",
      "metadata": {
        "id": "0YE_Huq_2fAC"
      },
      "source": [
        "# Regularization"
      ]
    },
    {
      "cell_type": "code",
      "metadata": {
        "id": "wj7YUJLl19Or"
      },
      "source": [
        "# adjust weight decay hyperparameter\n",
        "L2_LAMBDA = 10e-2"
      ],
      "execution_count": 126,
      "outputs": []
    },
    {
      "cell_type": "markdown",
      "metadata": {
        "id": "ioPp6cqm3OTD"
      },
      "source": [
        "# initialize model\n",
        "model = LinearRegression(input_dim=INPUT_DIM, output_dim=OUTPUT_DIM)"
      ]
    },
    {
      "cell_type": "code",
      "metadata": {
        "id": "scUWm10q3XKT"
      },
      "source": [
        "# optimizer (w / L2 regularization)\n",
        "optimizer = Adam(model.parameters(), lr=LEARNING_RATE, weight_decay=L2_LAMBDA)"
      ],
      "execution_count": 129,
      "outputs": []
    },
    {
      "cell_type": "code",
      "metadata": {
        "id": "JhpOZTtx3pz7",
        "outputId": "cacef147-f64e-47c9-f6d0-0a28b5ffa942",
        "colab": {
          "base_uri": "https://localhost:8080/"
        }
      },
      "source": [
        "# training model\n",
        "for epoch in range(NUM_EPOCHS):\n",
        "\n",
        "  #  forward pass\n",
        "  y_pred = model(X_train)\n",
        "\n",
        "  # loss\n",
        "  loss = loss_fn(y_pred, y_train)\n",
        "\n",
        "  # zero all gradients\n",
        "  optimizer.zero_grad()\n",
        "\n",
        "  # backward pass\n",
        "  loss.backward()\n",
        "\n",
        "  # update weights\n",
        "  optimizer.step()\n",
        "\n",
        "  # update model performance output\n",
        "  if epoch%20==0:\n",
        "    print(f\"Epoch: {epoch} | loss: {loss:.2f}\")"
      ],
      "execution_count": 130,
      "outputs": [
        {
          "output_type": "stream",
          "name": "stdout",
          "text": [
            "Epoch: 0 | loss: 2.20\n",
            "Epoch: 20 | loss: 0.06\n",
            "Epoch: 40 | loss: 0.03\n",
            "Epoch: 60 | loss: 0.03\n",
            "Epoch: 80 | loss: 0.03\n"
          ]
        }
      ]
    },
    {
      "cell_type": "code",
      "metadata": {
        "id": "yuoLeeaf4dlx"
      },
      "source": [
        "# predictions\n",
        "pred_train = model(X_train)\n",
        "pred_test = model(X_test)"
      ],
      "execution_count": 132,
      "outputs": []
    },
    {
      "cell_type": "code",
      "metadata": {
        "id": "nItihzkl4niI",
        "outputId": "44680e5b-ccf5-42da-a80d-a75a7ae61261",
        "colab": {
          "base_uri": "https://localhost:8080/"
        }
      },
      "source": [
        "# performance\n",
        "train_error = loss_fn(pred_train, y_train)\n",
        "test_error = loss_fn(pred_test, y_test)\n",
        "print(f\"train_error: {train_error:.2f}\")\n",
        "print(f\"test_error: {test_error:.2f}\")"
      ],
      "execution_count": 134,
      "outputs": [
        {
          "output_type": "stream",
          "name": "stdout",
          "text": [
            "train_error: 0.03\n",
            "test_error: 0.03\n"
          ]
        }
      ]
    }
  ]
}