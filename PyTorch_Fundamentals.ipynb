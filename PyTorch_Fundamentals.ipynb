{
  "nbformat": 4,
  "nbformat_minor": 0,
  "metadata": {
    "colab": {
      "name": "PyTorch_Fundamentals.ipynb",
      "provenance": [],
      "authorship_tag": "ABX9TyMWh1iAVRhcmS+6UA5GlBPX",
      "include_colab_link": true
    },
    "kernelspec": {
      "name": "python3",
      "display_name": "Python 3"
    },
    "language_info": {
      "name": "python"
    },
    "accelerator": "GPU"
  },
  "cells": [
    {
      "cell_type": "markdown",
      "metadata": {
        "id": "view-in-github",
        "colab_type": "text"
      },
      "source": [
        "<a href=\"https://colab.research.google.com/github/callezenwaka/machine-learning/blob/main/PyTorch_Fundamentals.ipynb\" target=\"_parent\"><img src=\"https://colab.research.google.com/assets/colab-badge.svg\" alt=\"Open In Colab\"/></a>"
      ]
    },
    {
      "cell_type": "markdown",
      "metadata": {
        "id": "o593E-sCQsGR"
      },
      "source": [
        "# Set up"
      ]
    },
    {
      "cell_type": "code",
      "metadata": {
        "id": "Z94nqpnZQjBp"
      },
      "source": [
        "import numpy as np\n",
        "import torch\n",
        "SEED = 1234"
      ],
      "execution_count": 1,
      "outputs": []
    },
    {
      "cell_type": "code",
      "metadata": {
        "id": "zLyWMx1jhITK",
        "outputId": "c0603109-700e-471e-ae03-7b0bbc4b7c5c",
        "colab": {
          "base_uri": "https://localhost:8080/"
        }
      },
      "source": [
        "# set seed for reproducibility\n",
        "np.random.seed(seed=SEED)\n",
        "torch.manual_seed(SEED)"
      ],
      "execution_count": 2,
      "outputs": [
        {
          "output_type": "execute_result",
          "data": {
            "text/plain": [
              "<torch._C.Generator at 0x7f60b8cb7690>"
            ]
          },
          "metadata": {},
          "execution_count": 2
        }
      ]
    },
    {
      "cell_type": "markdown",
      "metadata": {
        "id": "dGo6T-uHhWvv"
      },
      "source": [
        "# Basics"
      ]
    },
    {
      "cell_type": "code",
      "metadata": {
        "id": "VppuR6xfhTDn",
        "outputId": "c3c7cae1-b9e6-4c8a-a296-e963bd721c92",
        "colab": {
          "base_uri": "https://localhost:8080/"
        }
      },
      "source": [
        "# Creating a random tensor\n",
        "x = torch.randn(2, 3) # normal distribution (rand(2,3) -> uniform distribution)\n",
        "print(f\"Type: {x.type()}\")\n",
        "print(f\"Size: {x.shape}\")\n",
        "print(f\"Values: \\n{x}\")"
      ],
      "execution_count": 3,
      "outputs": [
        {
          "output_type": "stream",
          "name": "stdout",
          "text": [
            "Type: torch.FloatTensor\n",
            "Size: torch.Size([2, 3])\n",
            "Values: \n",
            "tensor([[ 0.0461,  0.4024, -1.0115],\n",
            "        [ 0.2167, -0.6123,  0.5036]])\n"
          ]
        }
      ]
    },
    {
      "cell_type": "code",
      "metadata": {
        "id": "BsZFn1sGhbmK",
        "outputId": "3f1c7286-254c-4ef4-ad5e-48811940a993",
        "colab": {
          "base_uri": "https://localhost:8080/"
        }
      },
      "source": [
        "# Zero and Ones tensor\n",
        "x = torch.zeros(2, 3)\n",
        "print (x)\n",
        "x = torch.ones(2, 3)\n",
        "print (x)"
      ],
      "execution_count": 4,
      "outputs": [
        {
          "output_type": "stream",
          "name": "stdout",
          "text": [
            "tensor([[0., 0., 0.],\n",
            "        [0., 0., 0.]])\n",
            "tensor([[1., 1., 1.],\n",
            "        [1., 1., 1.]])\n"
          ]
        }
      ]
    },
    {
      "cell_type": "code",
      "metadata": {
        "id": "whx0kXWshbaZ",
        "outputId": "73054842-468b-4e8f-f2cb-18f2f3d49548",
        "colab": {
          "base_uri": "https://localhost:8080/"
        }
      },
      "source": [
        "# List → Tensor\n",
        "x = torch.Tensor([[1, 2, 3],[4, 5, 6]])\n",
        "print(f\"Size: {x.shape}\")\n",
        "print(f\"Values: \\n{x}\")"
      ],
      "execution_count": 5,
      "outputs": [
        {
          "output_type": "stream",
          "name": "stdout",
          "text": [
            "Size: torch.Size([2, 3])\n",
            "Values: \n",
            "tensor([[1., 2., 3.],\n",
            "        [4., 5., 6.]])\n"
          ]
        }
      ]
    },
    {
      "cell_type": "code",
      "metadata": {
        "id": "bHxGcbcihlhR",
        "outputId": "f4c75365-3ef4-4fb7-daf5-2a7d3319c9a8",
        "colab": {
          "base_uri": "https://localhost:8080/"
        }
      },
      "source": [
        "# NumPy array → Tensor\n",
        "x = torch.Tensor(np.random.rand(2, 3))\n",
        "print(f\"Size: {x.shape}\")\n",
        "print(f\"Values: \\n{x}\")"
      ],
      "execution_count": 6,
      "outputs": [
        {
          "output_type": "stream",
          "name": "stdout",
          "text": [
            "Size: torch.Size([2, 3])\n",
            "Values: \n",
            "tensor([[0.1915, 0.6221, 0.4377],\n",
            "        [0.7854, 0.7800, 0.2726]])\n"
          ]
        }
      ]
    },
    {
      "cell_type": "code",
      "metadata": {
        "id": "imWAD0Snhxh4",
        "outputId": "45b340cd-a8e4-4b8d-affb-fba36fda2195",
        "colab": {
          "base_uri": "https://localhost:8080/"
        }
      },
      "source": [
        "# Changing tensor type\n",
        "x = torch.Tensor(3, 4)\n",
        "print(f\"Type: {x.type()}\")\n",
        "x = x.long()\n",
        "print(f\"Type: {x.type()}\")"
      ],
      "execution_count": 7,
      "outputs": [
        {
          "output_type": "stream",
          "name": "stdout",
          "text": [
            "Type: torch.FloatTensor\n",
            "Type: torch.LongTensor\n"
          ]
        }
      ]
    },
    {
      "cell_type": "markdown",
      "metadata": {
        "id": "CO_s1WWMhy7H"
      },
      "source": [
        "# Operations"
      ]
    },
    {
      "cell_type": "code",
      "metadata": {
        "id": "KC4IbjwZh1OC",
        "outputId": "5c91b4ae-6d76-4666-e16b-bc401266c194",
        "colab": {
          "base_uri": "https://localhost:8080/"
        }
      },
      "source": [
        "# Addition\n",
        "x = torch.randn(2, 3)\n",
        "y = torch.randn(2, 3)\n",
        "z = x + y\n",
        "print(f\"Size: {z.shape}\")\n",
        "print(f\"Values: \\n{z}\")"
      ],
      "execution_count": 8,
      "outputs": [
        {
          "output_type": "stream",
          "name": "stdout",
          "text": [
            "Size: torch.Size([2, 3])\n",
            "Values: \n",
            "tensor([[ 0.0761, -0.6775, -0.3988],\n",
            "        [ 3.0633, -0.1589,  0.3514]])\n"
          ]
        }
      ]
    },
    {
      "cell_type": "code",
      "metadata": {
        "id": "dn_GRdxJh4Y0",
        "outputId": "09ceabfd-9fca-495f-eff5-e58f327b8c67",
        "colab": {
          "base_uri": "https://localhost:8080/"
        }
      },
      "source": [
        "# Dot product\n",
        "x = torch.randn(2, 3)\n",
        "print(f\"Size: {x.shape}\")\n",
        "print(f\"Values: \\n{x}\")\n",
        "y = torch.randn(3, 2)\n",
        "print(f\"Size: {y.shape}\")\n",
        "print(f\"Values: \\n{y}\")\n",
        "z = torch.mm(x, y)\n",
        "print(f\"Size: {z.shape}\")\n",
        "print(f\"Values: \\n{z}\")"
      ],
      "execution_count": 9,
      "outputs": [
        {
          "output_type": "stream",
          "name": "stdout",
          "text": [
            "Size: torch.Size([2, 3])\n",
            "Values: \n",
            "tensor([[-0.0098, -1.4473, -0.2039],\n",
            "        [ 0.8738, -0.6816,  0.6339]])\n",
            "Size: torch.Size([3, 2])\n",
            "Values: \n",
            "tensor([[ 0.1922,  0.0918],\n",
            "        [-0.8625,  0.1596],\n",
            "        [ 0.8184, -0.7649]])\n",
            "Size: torch.Size([2, 2])\n",
            "Values: \n",
            "tensor([[ 1.0796, -0.0759],\n",
            "        [ 1.2746, -0.5134]])\n"
          ]
        }
      ]
    },
    {
      "cell_type": "code",
      "metadata": {
        "id": "fXj5xbQjh4Oo",
        "outputId": "09a5bd62-16b0-4d19-93ea-a54583d80c6b",
        "colab": {
          "base_uri": "https://localhost:8080/"
        }
      },
      "source": [
        "# Transpose\n",
        "x = torch.randn(2, 3)\n",
        "print(f\"Size: {x.shape}\")\n",
        "print(f\"Values: \\n{x}\")\n",
        "y = torch.t(x)\n",
        "print(f\"Size: {y.shape}\")\n",
        "print(f\"Values: \\n{y}\")"
      ],
      "execution_count": 10,
      "outputs": [
        {
          "output_type": "stream",
          "name": "stdout",
          "text": [
            "Size: torch.Size([2, 3])\n",
            "Values: \n",
            "tensor([[ 0.8042, -0.1383,  0.3196],\n",
            "        [-1.0187, -1.3147,  2.5228]])\n",
            "Size: torch.Size([3, 2])\n",
            "Values: \n",
            "tensor([[ 0.8042, -1.0187],\n",
            "        [-0.1383, -1.3147],\n",
            "        [ 0.3196,  2.5228]])\n"
          ]
        }
      ]
    },
    {
      "cell_type": "code",
      "metadata": {
        "id": "M5Xr0sqeiMTP",
        "outputId": "0cb33947-27ce-486d-9bd5-bc089e3f20eb",
        "colab": {
          "base_uri": "https://localhost:8080/"
        }
      },
      "source": [
        "# Reshape\n",
        "x = torch.randn(2, 3)\n",
        "z = x.view(3, 2)\n",
        "print(f\"Size: {z.shape}\")\n",
        "print(f\"Values: \\n{z}\")"
      ],
      "execution_count": 11,
      "outputs": [
        {
          "output_type": "stream",
          "name": "stdout",
          "text": [
            "Size: torch.Size([3, 2])\n",
            "Values: \n",
            "tensor([[ 0.4501,  0.2709],\n",
            "        [-0.8087, -0.0217],\n",
            "        [-1.0413,  0.0702]])\n"
          ]
        }
      ]
    },
    {
      "cell_type": "code",
      "metadata": {
        "id": "0XecAlGXiNrO",
        "outputId": "806055e9-5899-4997-a381-af45370962bf",
        "colab": {
          "base_uri": "https://localhost:8080/"
        }
      },
      "source": [
        "# Dangers of reshaping (unintended consequences)\n",
        "x = torch.tensor([\n",
        "    [[1,1,1,1], [2,2,2,2], [3,3,3,3]],\n",
        "    [[10,10,10,10], [20,20,20,20], [30,30,30,30]]\n",
        "])\n",
        "print(f\"Size: {x.shape}\")\n",
        "print(f\"x: \\n{x}\\n\")\n",
        "\n",
        "a = x.view(x.size(1), -1)\n",
        "print(f\"\\nSize: {a.shape}\")\n",
        "print(f\"a: \\n{a}\\n\")\n",
        "\n",
        "b = x.transpose(0,1).contiguous()\n",
        "print(f\"\\nSize: {b.shape}\")\n",
        "print(f\"b: \\n{b}\\n\")\n",
        "\n",
        "c = b.view(b.size(0), -1)\n",
        "print(f\"\\nSize: {c.shape}\")\n",
        "print(f\"c: \\n{c}\")"
      ],
      "execution_count": 12,
      "outputs": [
        {
          "output_type": "stream",
          "name": "stdout",
          "text": [
            "Size: torch.Size([2, 3, 4])\n",
            "x: \n",
            "tensor([[[ 1,  1,  1,  1],\n",
            "         [ 2,  2,  2,  2],\n",
            "         [ 3,  3,  3,  3]],\n",
            "\n",
            "        [[10, 10, 10, 10],\n",
            "         [20, 20, 20, 20],\n",
            "         [30, 30, 30, 30]]])\n",
            "\n",
            "\n",
            "Size: torch.Size([3, 8])\n",
            "a: \n",
            "tensor([[ 1,  1,  1,  1,  2,  2,  2,  2],\n",
            "        [ 3,  3,  3,  3, 10, 10, 10, 10],\n",
            "        [20, 20, 20, 20, 30, 30, 30, 30]])\n",
            "\n",
            "\n",
            "Size: torch.Size([3, 2, 4])\n",
            "b: \n",
            "tensor([[[ 1,  1,  1,  1],\n",
            "         [10, 10, 10, 10]],\n",
            "\n",
            "        [[ 2,  2,  2,  2],\n",
            "         [20, 20, 20, 20]],\n",
            "\n",
            "        [[ 3,  3,  3,  3],\n",
            "         [30, 30, 30, 30]]])\n",
            "\n",
            "\n",
            "Size: torch.Size([3, 8])\n",
            "c: \n",
            "tensor([[ 1,  1,  1,  1, 10, 10, 10, 10],\n",
            "        [ 2,  2,  2,  2, 20, 20, 20, 20],\n",
            "        [ 3,  3,  3,  3, 30, 30, 30, 30]])\n"
          ]
        }
      ]
    },
    {
      "cell_type": "code",
      "metadata": {
        "id": "XDIR1Mq9iTWi",
        "outputId": "29253896-cacd-4e35-9986-a0e57aeab723",
        "colab": {
          "base_uri": "https://localhost:8080/"
        }
      },
      "source": [
        "# Dimensional operations\n",
        "x = torch.randn(2, 3)\n",
        "print(f\"Values: \\n{x}\")\n",
        "y = torch.sum(x, dim=0) # add each row's value for every column\n",
        "print(f\"Values: \\n{y}\")\n",
        "z = torch.sum(x, dim=1) # add each columns's value for every row\n",
        "print(f\"Values: \\n{z}\")"
      ],
      "execution_count": 13,
      "outputs": [
        {
          "output_type": "stream",
          "name": "stdout",
          "text": [
            "Values: \n",
            "tensor([[ 0.5797, -0.0599,  0.1816],\n",
            "        [-0.6797, -0.2567, -1.8189]])\n",
            "Values: \n",
            "tensor([-0.1000, -0.3166, -1.6373])\n",
            "Values: \n",
            "tensor([ 0.7013, -2.7553])\n"
          ]
        }
      ]
    },
    {
      "cell_type": "markdown",
      "metadata": {
        "id": "WXjWUe9qiYCX"
      },
      "source": [
        "# Indexing"
      ]
    },
    {
      "cell_type": "code",
      "metadata": {
        "id": "6gMl6v_kiWIr",
        "outputId": "d3bc67e5-d224-49cf-ea27-369199d137bb",
        "colab": {
          "base_uri": "https://localhost:8080/"
        }
      },
      "source": [
        "x = torch.randn(3, 4)\n",
        "print (f\"x: \\n{x}\")\n",
        "print (f\"x[:1]: \\n{x[:1]}\")\n",
        "print (f\"x[:1, 1:3]: \\n{x[:1, 1:3]}\")"
      ],
      "execution_count": 14,
      "outputs": [
        {
          "output_type": "stream",
          "name": "stdout",
          "text": [
            "x: \n",
            "tensor([[ 0.2111,  0.3372,  0.6638,  1.0397],\n",
            "        [ 1.8434,  0.6588, -0.2349, -0.0306],\n",
            "        [ 1.7462, -0.0722, -1.6794, -1.7010]])\n",
            "x[:1]: \n",
            "tensor([[0.2111, 0.3372, 0.6638, 1.0397]])\n",
            "x[:1, 1:3]: \n",
            "tensor([[0.3372, 0.6638]])\n"
          ]
        }
      ]
    },
    {
      "cell_type": "markdown",
      "metadata": {
        "id": "J_RdjbTaibyz"
      },
      "source": [
        "# Slicing"
      ]
    },
    {
      "cell_type": "code",
      "metadata": {
        "id": "KLp4nZ3OieGa",
        "outputId": "71cdde9e-4ce5-41fc-aeab-29ca38949228",
        "colab": {
          "base_uri": "https://localhost:8080/"
        }
      },
      "source": [
        "# Select with dimensional indicies\n",
        "x = torch.randn(2, 3)\n",
        "print(f\"Values: \\n{x}\")\n",
        "\n",
        "col_indices = torch.LongTensor([0, 2])\n",
        "chosen = torch.index_select(x, dim=1, index=col_indices) # values from column 0 & 2\n",
        "print(f\"Values: \\n{chosen}\")\n",
        "\n",
        "row_indices = torch.LongTensor([0, 1])\n",
        "col_indices = torch.LongTensor([0, 2])\n",
        "chosen = x[row_indices, col_indices] # values from (0, 0) & (1, 2)\n",
        "print(f\"Values: \\n{chosen}\")"
      ],
      "execution_count": 15,
      "outputs": [
        {
          "output_type": "stream",
          "name": "stdout",
          "text": [
            "Values: \n",
            "tensor([[ 0.6486,  1.7653,  1.0812],\n",
            "        [ 1.2436,  0.8971, -0.0784]])\n",
            "Values: \n",
            "tensor([[ 0.6486,  1.0812],\n",
            "        [ 1.2436, -0.0784]])\n",
            "Values: \n",
            "tensor([ 0.6486, -0.0784])\n"
          ]
        }
      ]
    },
    {
      "cell_type": "markdown",
      "metadata": {
        "id": "qqd56YHQiowT"
      },
      "source": [
        "# JoiningJoining"
      ]
    },
    {
      "cell_type": "code",
      "metadata": {
        "id": "C6dP5DtSipmh",
        "outputId": "ec445098-be31-4c83-8721-ee5effd37833",
        "colab": {
          "base_uri": "https://localhost:8080/"
        }
      },
      "source": [
        "# Row Concatenation\n",
        "x = torch.randn(2, 3)\n",
        "print(f\"Values: \\n{x}\")\n",
        "\n",
        "y = torch.cat([x, x], dim=0) # stack by rows (dim=1 to stack by columns)\n",
        "print(f\"Values: \\n{y}\")"
      ],
      "execution_count": 16,
      "outputs": [
        {
          "output_type": "stream",
          "name": "stdout",
          "text": [
            "Values: \n",
            "tensor([[ 0.5548, -0.0845,  0.5903],\n",
            "        [-1.0032, -1.7873,  0.0538]])\n",
            "Values: \n",
            "tensor([[ 0.5548, -0.0845,  0.5903],\n",
            "        [-1.0032, -1.7873,  0.0538],\n",
            "        [ 0.5548, -0.0845,  0.5903],\n",
            "        [-1.0032, -1.7873,  0.0538]])\n"
          ]
        }
      ]
    },
    {
      "cell_type": "code",
      "metadata": {
        "id": "-wo2txaJizEt",
        "outputId": "21880b4c-f556-4530-8b62-8e0a04a95bb1",
        "colab": {
          "base_uri": "https://localhost:8080/"
        }
      },
      "source": [
        "# Column Concatenation\n",
        "x = torch.randn(2, 3)\n",
        "print(f\"Values: \\n{x}\")\n",
        "\n",
        "y = torch.cat([x, x], dim=1) # stack by columns (dim=0 to stack by rows)\n",
        "print(f\"Values: \\n{y}\")"
      ],
      "execution_count": 17,
      "outputs": [
        {
          "output_type": "stream",
          "name": "stdout",
          "text": [
            "Values: \n",
            "tensor([[ 0.8246, -0.5723, -0.4876],\n",
            "        [ 0.1944, -1.0481, -0.0741]])\n",
            "Values: \n",
            "tensor([[ 0.8246, -0.5723, -0.4876,  0.8246, -0.5723, -0.4876],\n",
            "        [ 0.1944, -1.0481, -0.0741,  0.1944, -1.0481, -0.0741]])\n"
          ]
        }
      ]
    },
    {
      "cell_type": "markdown",
      "metadata": {
        "id": "VM82uPaOi_uN"
      },
      "source": [
        "# Gradients"
      ]
    },
    {
      "cell_type": "code",
      "metadata": {
        "id": "ICdM02NYjAnO",
        "outputId": "677dd5e2-2f26-474f-ed38-8cd0415aa7c2",
        "colab": {
          "base_uri": "https://localhost:8080/"
        }
      },
      "source": [
        "# Tensors with gradient bookkeeping\n",
        "x = torch.rand(3,4, requires_grad=True)\n",
        "y = 3*x + 2\n",
        "z = y.mean()\n",
        "z.backward() # z has to be scalar\n",
        "print(f\"x: \\n{x}\")\n",
        "print(f\"x.grad: \\n{x.grad}\")"
      ],
      "execution_count": 18,
      "outputs": [
        {
          "output_type": "stream",
          "name": "stdout",
          "text": [
            "x: \n",
            "tensor([[0.5894, 0.5872, 0.9643, 0.7768],\n",
            "        [0.8447, 0.7195, 0.7101, 0.4130],\n",
            "        [0.0587, 0.0776, 0.1886, 0.1763]], requires_grad=True)\n",
            "x.grad: \n",
            "tensor([[0.2500, 0.2500, 0.2500, 0.2500],\n",
            "        [0.2500, 0.2500, 0.2500, 0.2500],\n",
            "        [0.2500, 0.2500, 0.2500, 0.2500]])\n"
          ]
        }
      ]
    },
    {
      "cell_type": "markdown",
      "metadata": {
        "id": "TogOAU8qj1Vk"
      },
      "source": [
        "# CUDA"
      ]
    },
    {
      "cell_type": "code",
      "metadata": {
        "id": "OQsk4KuKjvqm",
        "outputId": "d65c800c-3f24-4db6-fc33-e8b3f0de7f2d",
        "colab": {
          "base_uri": "https://localhost:8080/"
        }
      },
      "source": [
        "# Is CUDA available\n",
        "print(torch.cuda.is_available())"
      ],
      "execution_count": 19,
      "outputs": [
        {
          "output_type": "stream",
          "name": "stdout",
          "text": [
            "False\n"
          ]
        }
      ]
    },
    {
      "cell_type": "code",
      "metadata": {
        "id": "SApFicmJkCFm"
      },
      "source": [
        "# import dependencies\n",
        "import torch"
      ],
      "execution_count": 1,
      "outputs": []
    },
    {
      "cell_type": "code",
      "metadata": {
        "id": "5eYBaQgJkcZ0",
        "outputId": "45d7bb90-184b-4e05-a935-aa5adb785513",
        "colab": {
          "base_uri": "https://localhost:8080/"
        }
      },
      "source": [
        "# Is CUDA available  ow?\n",
        "print(torch.cuda.is_available())"
      ],
      "execution_count": 2,
      "outputs": [
        {
          "output_type": "stream",
          "name": "stdout",
          "text": [
            "True\n"
          ]
        }
      ]
    },
    {
      "cell_type": "code",
      "metadata": {
        "id": "QeXvWBjnkmjb",
        "outputId": "d68915ca-4f52-464a-897c-dfc5c91674ec",
        "colab": {
          "base_uri": "https://localhost:8080/"
        }
      },
      "source": [
        "# set device\n",
        "device = torch.device('cuda' if torch.cuda.is_available() else 'cpu')\n",
        "print(\"Device: \", device)"
      ],
      "execution_count": 8,
      "outputs": [
        {
          "output_type": "stream",
          "name": "stdout",
          "text": [
            "Device:  cuda\n"
          ]
        }
      ]
    },
    {
      "cell_type": "code",
      "metadata": {
        "id": "sPicMzaKk3ge",
        "outputId": "f56e958b-8bee-44ab-be60-23e40ea4d96f",
        "colab": {
          "base_uri": "https://localhost:8080/"
        }
      },
      "source": [
        "# compute with cuda device\n",
        "x = torch.rand(2,3)\n",
        "print(f\"x.is_cuda: {x.is_cuda}\")\n",
        "x = torch.rand(2,3).to(device) # sTensor is stored on the GPU\n",
        "print(f\"x.is_cuda: {x.is_cuda}\")"
      ],
      "execution_count": 12,
      "outputs": [
        {
          "output_type": "stream",
          "name": "stdout",
          "text": [
            "x.is_cuda: False\n",
            "x.is_cuda: True\n"
          ]
        }
      ]
    }
  ]
}