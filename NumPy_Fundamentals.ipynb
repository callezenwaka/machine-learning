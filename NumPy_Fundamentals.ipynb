{
  "nbformat": 4,
  "nbformat_minor": 0,
  "metadata": {
    "colab": {
      "name": "NumPy Fundamental.ipynb",
      "provenance": [],
      "include_colab_link": true
    },
    "kernelspec": {
      "name": "python3",
      "display_name": "Python 3"
    },
    "language_info": {
      "name": "python"
    }
  },
  "cells": [
    {
      "cell_type": "markdown",
      "metadata": {
        "id": "view-in-github",
        "colab_type": "text"
      },
      "source": [
        "<a href=\"https://colab.research.google.com/github/callezenwaka/machine-learning/blob/main/NumPy_Fundamentals.ipynb\" target=\"_parent\"><img src=\"https://colab.research.google.com/assets/colab-badge.svg\" alt=\"Open In Colab\"/></a>"
      ]
    },
    {
      "cell_type": "markdown",
      "metadata": {
        "id": "z8i5KUi_o_UH"
      },
      "source": [
        "# Set up"
      ]
    },
    {
      "cell_type": "code",
      "metadata": {
        "id": "TjFQVjs2DbGS"
      },
      "source": [
        "import numpy as np"
      ],
      "execution_count": 2,
      "outputs": []
    },
    {
      "cell_type": "code",
      "metadata": {
        "id": "vyshmSFupN9Y"
      },
      "source": [
        "np.random.seed(seed=1234)"
      ],
      "execution_count": 3,
      "outputs": []
    },
    {
      "cell_type": "markdown",
      "metadata": {
        "id": "6LQKigNmpUHg"
      },
      "source": [
        "# Basics"
      ]
    },
    {
      "cell_type": "code",
      "metadata": {
        "id": "JDBURKnlpWP1",
        "outputId": "fc2bfac5-c528-4e15-cbc3-bd2f0e79899c",
        "colab": {
          "base_uri": "https://localhost:8080/"
        }
      },
      "source": [
        "# scalar\n",
        "x = np.array(6)\n",
        "print(\"x: \", x)\n",
        "print(\"x ndim: \", x.ndim) # number of dimensions\n",
        "print(\"x shape: \", x.shape) # shape dimensions\n",
        "print(\"x size: \", x.size) # size of elements\n",
        "print(\"x dtype: \", x.dtype) # data type"
      ],
      "execution_count": 4,
      "outputs": [
        {
          "output_type": "stream",
          "name": "stdout",
          "text": [
            "x:  6\n",
            "x ndim:  0\n",
            "x shape:  ()\n",
            "x size:  1\n",
            "x dtype:  int64\n"
          ]
        }
      ]
    },
    {
      "cell_type": "code",
      "metadata": {
        "id": "wx0ycAtfqF4E",
        "outputId": "0f93f737-58ee-420e-a897-139ca3060b18",
        "colab": {
          "base_uri": "https://localhost:8080/"
        }
      },
      "source": [
        "# vector\n",
        "x = np.array([1.3, 2.2, 1.7])\n",
        "print(\"x: \", x)\n",
        "print(\"x ndim: \", x.ndim)\n",
        "print(\"x shape: \", x.shape)\n",
        "print(\"x size: \", x.size)\n",
        "print(\"x dtype: \", x.dtype) # notice the float datatype"
      ],
      "execution_count": 5,
      "outputs": [
        {
          "output_type": "stream",
          "name": "stdout",
          "text": [
            "x:  [1.3 2.2 1.7]\n",
            "x ndim:  1\n",
            "x shape:  (3,)\n",
            "x size:  3\n",
            "x dtype:  float64\n"
          ]
        }
      ]
    },
    {
      "cell_type": "code",
      "metadata": {
        "id": "4fGAnLO3qtL7",
        "outputId": "0e7af972-961d-44c8-bb28-bdfb44be8496",
        "colab": {
          "base_uri": "https://localhost:8080/"
        }
      },
      "source": [
        "# matrix\n",
        "x = np.array([[1,2], [3,4], [5,6]])\n",
        "print(\"x: \\n\", x)\n",
        "print(\"x ndim: \", x.ndim)\n",
        "print(\"x shape: \", x.shape)\n",
        "print(\"x size: \", x.size)\n",
        "print(\"x dtype: \", x.dtype)"
      ],
      "execution_count": 6,
      "outputs": [
        {
          "output_type": "stream",
          "name": "stdout",
          "text": [
            "x: \n",
            " [[1 2]\n",
            " [3 4]\n",
            " [5 6]]\n",
            "x ndim:  2\n",
            "x shape:  (3, 2)\n",
            "x size:  6\n",
            "x dtype:  int64\n"
          ]
        }
      ]
    },
    {
      "cell_type": "code",
      "metadata": {
        "id": "cAUOxNrRroFU",
        "outputId": "1e378dc4-23c7-4482-85a7-fe33448d2395",
        "colab": {
          "base_uri": "https://localhost:8080/"
        }
      },
      "source": [
        "# 3-D tensor\n",
        "x = np.array([[[1,2], [3,4]], [[5,6], [7,8]]])\n",
        "print(\"x: \\n\", x)\n",
        "print(\"x ndim: \", x.ndim)\n",
        "print(\"x shape: \", x.shape)\n",
        "print(\"x size: \", x.size)\n",
        "print(\"x dtype: \", x.dtype)"
      ],
      "execution_count": 7,
      "outputs": [
        {
          "output_type": "stream",
          "name": "stdout",
          "text": [
            "x: \n",
            " [[[1 2]\n",
            "  [3 4]]\n",
            "\n",
            " [[5 6]\n",
            "  [7 8]]]\n",
            "x ndim:  3\n",
            "x shape:  (2, 2, 2)\n",
            "x size:  8\n",
            "x dtype:  int64\n"
          ]
        }
      ]
    },
    {
      "cell_type": "code",
      "metadata": {
        "id": "mOSEn9j8sULL",
        "outputId": "e35bf0bc-5723-4c0e-d12d-3b289dc9ac93",
        "colab": {
          "base_uri": "https://localhost:8080/"
        }
      },
      "source": [
        "# create tensors with built-in functions\n",
        "print(\"np.zeros((2,2)): \\n\", np.zeros((2,2)))\n",
        "print(\"np.ones((2,2)): \\n\", np.ones((2,2)))\n",
        "print(\"np.eye((2)): \\n\", np.eye((2))) # identity matrix\n",
        "print(\"np.random.random((2,2))\\n\", np.random.random((2,2)))"
      ],
      "execution_count": 8,
      "outputs": [
        {
          "output_type": "stream",
          "name": "stdout",
          "text": [
            "np.zeros((2,2)): \n",
            " [[0. 0.]\n",
            " [0. 0.]]\n",
            "np.ones((2,2)): \n",
            " [[1. 1.]\n",
            " [1. 1.]]\n",
            "np.eye((2)): \n",
            " [[1. 0.]\n",
            " [0. 1.]]\n",
            "np.random.random((2,2))\n",
            " [[0.19151945 0.62210877]\n",
            " [0.43772774 0.78535858]]\n"
          ]
        }
      ]
    },
    {
      "cell_type": "markdown",
      "metadata": {
        "id": "rp7HyjnVtKMt"
      },
      "source": [
        "# Indexing"
      ]
    },
    {
      "cell_type": "code",
      "metadata": {
        "id": "f36NPcZStMxr",
        "outputId": "5e44e06e-f03e-43b1-8437-96d73ddb03e7",
        "colab": {
          "base_uri": "https://localhost:8080/"
        }
      },
      "source": [
        "# indexing tensors\n",
        "x = np.array([1,2,3])\n",
        "print(\"x: \", x)\n",
        "print(\"x[0]: \", x[0])\n",
        "x[0] = 0\n",
        "print(\"x: \", x)"
      ],
      "execution_count": 15,
      "outputs": [
        {
          "output_type": "stream",
          "name": "stdout",
          "text": [
            "x:  [1 2 3]\n",
            "x[0]:  1\n",
            "x:  [0 2 3]\n"
          ]
        }
      ]
    },
    {
      "cell_type": "code",
      "metadata": {
        "id": "zCuc4X1Qtw7z",
        "outputId": "38fbddd4-26a8-4213-deae-ca68fc69a79b",
        "colab": {
          "base_uri": "https://localhost:8080/"
        }
      },
      "source": [
        "# slicing\n",
        "x = np.array([[1,2,3,4], [5,6,7,8], [9,10,11,12]])\n",
        "print(\"x:\\n\", x)\n",
        "print(\"x column 1: \", x[:, 1])\n",
        "print(\"x row 0: \", x[0, :])\n",
        "print(\"x rows 0, 1 & cols 1, 2: \\n\", x[0:2, 1:3])"
      ],
      "execution_count": 16,
      "outputs": [
        {
          "output_type": "stream",
          "name": "stdout",
          "text": [
            "x:\n",
            " [[ 1  2  3  4]\n",
            " [ 5  6  7  8]\n",
            " [ 9 10 11 12]]\n",
            "x column 1:  [ 2  6 10]\n",
            "x row 0:  [1 2 3 4]\n",
            "x rows 0, 1 & cols 1, 2: \n",
            " [[2 3]\n",
            " [6 7]]\n"
          ]
        }
      ]
    },
    {
      "cell_type": "code",
      "metadata": {
        "id": "JZAvBtWbvnwR",
        "outputId": "f4f66ff7-db3e-40f1-efdd-7e8e767e9729",
        "colab": {
          "base_uri": "https://localhost:8080/"
        }
      },
      "source": [
        "# integer array indexing\n",
        "print(\"x: \\n\", x)\n",
        "rows_to_get = np.array([0, 1, 2])\n",
        "print(\"rows_to_get: \", rows_to_get)\n",
        "cols_to_get = np.array([0, 2, 1])\n",
        "print(\"cols_to_get: \", cols_to_get)\n",
        "# combine sequences above to return values to get\n",
        "print(\"Indexed values: \", x[rows_to_get, cols_to_get]) # (0,0), (1,2), (2,1)"
      ],
      "execution_count": 17,
      "outputs": [
        {
          "output_type": "stream",
          "name": "stdout",
          "text": [
            "x: \n",
            " [[ 1  2  3  4]\n",
            " [ 5  6  7  8]\n",
            " [ 9 10 11 12]]\n",
            "rows_to_get:  [0 1 2]\n",
            "cols_to_get:  [0 2 1]\n",
            "Indexed values:  [ 1  7 10]\n"
          ]
        }
      ]
    },
    {
      "cell_type": "code",
      "metadata": {
        "id": "TkDMgE-Cw4Wc",
        "outputId": "4ffa8336-3491-498a-d60a-33333e40d788",
        "colab": {
          "base_uri": "https://localhost:8080/"
        }
      },
      "source": [
        "# boolean array indexing\n",
        "x = np.array([[1,2], [3,4], [5,6]])\n",
        "print(\"x:\\n\", x)\n",
        "x = np.array([[1,2], [3,4], [5,6]])\n",
        "print(\"x > 2:\\n\", x > 2)\n",
        "print(\"x[x > 2]:\\n\", x[x > 2])"
      ],
      "execution_count": 18,
      "outputs": [
        {
          "output_type": "stream",
          "name": "stdout",
          "text": [
            "x:\n",
            " [[1 2]\n",
            " [3 4]\n",
            " [5 6]]\n",
            "x > 2:\n",
            " [[False False]\n",
            " [ True  True]\n",
            " [ True  True]]\n",
            "x[x > 2]:\n",
            " [3 4 5 6]\n"
          ]
        }
      ]
    },
    {
      "cell_type": "markdown",
      "metadata": {
        "id": "SqEZtUIFxaSD"
      },
      "source": [
        "# Arithmetic"
      ]
    },
    {
      "cell_type": "code",
      "metadata": {
        "id": "5kX5DQIRxcDi",
        "outputId": "6cb8ea28-cc5d-4bf2-be5b-de65af6a35a0",
        "colab": {
          "base_uri": "https://localhost:8080/"
        }
      },
      "source": [
        "# basic math\n",
        "x = np.array([[1,2], [3,4]], dtype=np.float64)\n",
        "y = np.array([[1,2], [3,4]], dtype=np.float64)\n",
        "print(\"x + y:\\n\", np.add(x, y)) # or x + y\n",
        "print(\"x - y:\\n\", np.subtract(x, y)) # or x - y\n",
        "print(\"x * y:\\n\", np.multiply(x, y)) # or x * y"
      ],
      "execution_count": 21,
      "outputs": [
        {
          "output_type": "stream",
          "name": "stdout",
          "text": [
            "x + y:\n",
            " [[2. 4.]\n",
            " [6. 8.]]\n",
            "x - y:\n",
            " [[0. 0.]\n",
            " [0. 0.]]\n",
            "x * y:\n",
            " [[ 1.  4.]\n",
            " [ 9. 16.]]\n"
          ]
        }
      ]
    },
    {
      "cell_type": "markdown",
      "metadata": {
        "id": "dZWjthCNDZUp"
      },
      "source": [
        "# Dot Product"
      ]
    },
    {
      "cell_type": "code",
      "metadata": {
        "id": "FYLqBWLBDYC_",
        "outputId": "74a795f2-9311-40b7-c34e-5901b9ca2b1e",
        "colab": {
          "base_uri": "https://localhost:8080/"
        }
      },
      "source": [
        "# dot product\n",
        "a = np.array([[1,2,3], [4,5,6]], dtype=np.float64) # datatype ie: dtype, specified.\n",
        "b = np.array([[7,8], [9,10], [11,12]], dtype=np.float64)\n",
        "c = a.dot(b)\n",
        "print(f\"Input shape:\\n{a.shape} · {b.shape} = {c.shape}\")\n",
        "print(\"Output:\\n\", c)"
      ],
      "execution_count": 13,
      "outputs": [
        {
          "output_type": "stream",
          "name": "stdout",
          "text": [
            "Input shape:\n",
            "(2, 3) · (3, 2) = (2, 2)\n",
            "Output:\n",
            " [[ 58.  64.]\n",
            " [139. 154.]]\n"
          ]
        }
      ]
    },
    {
      "cell_type": "markdown",
      "metadata": {
        "id": "7DRwEfnIE-Aa"
      },
      "source": [
        "# Axis Operations"
      ]
    },
    {
      "cell_type": "code",
      "metadata": {
        "id": "_EaaIt8MDX-o",
        "outputId": "5dba8b86-7597-4225-b0c2-c6eff3879ebe",
        "colab": {
          "base_uri": "https://localhost:8080/"
        }
      },
      "source": [
        "# sum across a dimension\n",
        "x = np.array([[1,2], [3,4]])\n",
        "print(\"x:\\n\", x)\n",
        "print(\"sum all:\\n\", np.sum(x)) # sum all elements\n",
        "print(\"sum axis=0: \", np.sum(x, axis=0)) # sum across rows ie: top to bottom\n",
        "print(\"sum axis=1: \", np.sum(x, axis=1)) # sum across column ie: left to right"
      ],
      "execution_count": 16,
      "outputs": [
        {
          "output_type": "stream",
          "name": "stdout",
          "text": [
            "x:\n",
            " [[1 2]\n",
            " [3 4]]\n",
            "sum all:\n",
            " 10\n",
            "sum axis=0:  [4 6]\n",
            "sum axis=1:  [3 7]\n"
          ]
        }
      ]
    },
    {
      "cell_type": "code",
      "metadata": {
        "id": "PlYVD6ZTDXxA",
        "outputId": "8cfa080d-ecc3-4cb7-d99e-4659538fb3b9",
        "colab": {
          "base_uri": "https://localhost:8080/"
        }
      },
      "source": [
        "# find minimum and maximum element, rows & columns\n",
        "x = np.array([[1,2,3], [4,5,6], [7,8,9]])\n",
        "print(\"x:\\n\", x)\n",
        "print(\"min. element: \", x.min())\n",
        "print(\"max. element: \", x.max())\n",
        "print(\"min. axis=0: \", x.min(axis=0)) # row\n",
        "print(\"min. axis=1: \", x.min(axis=1)) # col\n",
        "print(\"max. axis=0: \", x.max(axis=0)) # row\n",
        "print(\"max. axis=1: \", x.max(axis=1)) # col"
      ],
      "execution_count": 20,
      "outputs": [
        {
          "output_type": "stream",
          "name": "stdout",
          "text": [
            "x:\n",
            " [[1 2 3]\n",
            " [4 5 6]\n",
            " [7 8 9]]\n",
            "min. element:  1\n",
            "max. element:  9\n",
            "min. axis=0:  [1 2 3]\n",
            "min. axis=1:  [1 4 7]\n",
            "max. axis=0:  [7 8 9]\n",
            "max. axis=1:  [3 6 9]\n"
          ]
        }
      ]
    },
    {
      "cell_type": "markdown",
      "metadata": {
        "id": "Ao_ImmgxIvyU"
      },
      "source": [
        "# Broadcast"
      ]
    },
    {
      "cell_type": "code",
      "metadata": {
        "id": "bY3K4bYQIxrs",
        "outputId": "473322d6-fd9f-41ae-dd3f-6dfe0d009d57",
        "colab": {
          "base_uri": "https://localhost:8080/"
        }
      },
      "source": [
        "# broadcasting \n",
        "x = np.array([1,2]) # vector\n",
        "y = np.array(3) # scalar\n",
        "z = np.add(x, y) # or x + y\n",
        "print(\"z = x + y: \", z)"
      ],
      "execution_count": 24,
      "outputs": [
        {
          "output_type": "stream",
          "name": "stdout",
          "text": [
            "z = x + y:  [4 5]\n"
          ]
        }
      ]
    },
    {
      "cell_type": "markdown",
      "metadata": {
        "id": "oVI3A8fAJoXR"
      },
      "source": [
        "# Transpose"
      ]
    },
    {
      "cell_type": "code",
      "metadata": {
        "id": "eRsWsNVUJrSM",
        "outputId": "ff269ead-d184-4e2c-bc0d-b94d19cd4a3a",
        "colab": {
          "base_uri": "https://localhost:8080/"
        }
      },
      "source": [
        "# transposing\n",
        "x = np.array([[1,2,3], [4,5,6]])\n",
        "print(\"x:\\n\", x)\n",
        "print(\"x.shape: \", x.shape)\n",
        "y = np.transpose(x, (1,0)) # flip dimensions at index 0 and 1\n",
        "print(\"y:\\n\", y)\n",
        "print(\"y.shape \", y.shape)"
      ],
      "execution_count": 28,
      "outputs": [
        {
          "output_type": "stream",
          "name": "stdout",
          "text": [
            "x:\n",
            " [[1 2 3]\n",
            " [4 5 6]]\n",
            "x.shape:  (2, 3)\n",
            "y:\n",
            " [[1 4]\n",
            " [2 5]\n",
            " [3 6]]\n",
            "y.shape  (3, 2)\n"
          ]
        }
      ]
    },
    {
      "cell_type": "markdown",
      "metadata": {
        "id": "9koVZQGUMCdj"
      },
      "source": [
        "# Reshape"
      ]
    },
    {
      "cell_type": "markdown",
      "metadata": {
        "id": "0uQ0F6mBSPd0"
      },
      "source": [
        "Reshaping"
      ]
    },
    {
      "cell_type": "code",
      "metadata": {
        "id": "WxJfNc18MGEl",
        "outputId": "0d4e95ec-02f6-4d16-f9c5-af097cc4725c",
        "colab": {
          "base_uri": "https://localhost:8080/"
        }
      },
      "source": [
        "# reshaping\n",
        "x = np.array([[1,2,3,4,5,6]])\n",
        "print(\"x: \", x)\n",
        "print(\"x.shape: \", x.shape)\n",
        "y = np.reshape(x, (2,3))\n",
        "print(\"y: \\n\", y)\n",
        "print(\"y.shape: \", y.shape)\n",
        "z = np.reshape(x, (2,-1))\n",
        "print(\"z:\\n\", z)\n",
        "print(\"z.shape: \", z.shape)"
      ],
      "execution_count": 32,
      "outputs": [
        {
          "output_type": "stream",
          "name": "stdout",
          "text": [
            "x:  [[1 2 3 4 5 6]]\n",
            "x.shape:  (1, 6)\n",
            "y: \n",
            " [[1 2 3]\n",
            " [4 5 6]]\n",
            "y.shape:  (2, 3)\n",
            "z:\n",
            " [[1 2 3]\n",
            " [4 5 6]]\n",
            "z.shape:  (2, 3)\n"
          ]
        }
      ]
    },
    {
      "cell_type": "markdown",
      "metadata": {
        "id": "2q7-gOx6SRi9"
      },
      "source": [
        "high order reshaping"
      ]
    },
    {
      "cell_type": "code",
      "metadata": {
        "id": "7sEDK8SfST5L",
        "outputId": "e4aa45e5-f620-4e81-8037-1487f02fe697",
        "colab": {
          "base_uri": "https://localhost:8080/"
        }
      },
      "source": [
        "#\n",
        "x = np.array([[[1, 1, 1, 1], [2, 2, 2, 2], [3, 3, 3, 3]],\n",
        "              [[10, 10, 10, 10], [20, 20, 20, 20], [30, 30, 30, 30]]])\n",
        "print(\"x:\\n\", x)\n",
        "print(\"x.ndim: \", x.ndim)\n",
        "print(\"x.shape: \", x.shape)\n",
        "y = np.transpose(x, (1,0,2))\n",
        "print(\"\\ny:\\n\", y)\n",
        "print(\"y.shape\", y.shape)\n",
        "z = np.reshape(y, (y.shape[0], -1))\n",
        "print(\"\\nz:\\n\", z)\n",
        "print(\"z.shape: \", z.shape)"
      ],
      "execution_count": 39,
      "outputs": [
        {
          "output_type": "stream",
          "name": "stdout",
          "text": [
            "x:\n",
            " [[[ 1  1  1  1]\n",
            "  [ 2  2  2  2]\n",
            "  [ 3  3  3  3]]\n",
            "\n",
            " [[10 10 10 10]\n",
            "  [20 20 20 20]\n",
            "  [30 30 30 30]]]\n",
            "x.ndim:  3\n",
            "x.shape:  (2, 3, 4)\n",
            "\n",
            "y:\n",
            " [[[ 1  1  1  1]\n",
            "  [10 10 10 10]]\n",
            "\n",
            " [[ 2  2  2  2]\n",
            "  [20 20 20 20]]\n",
            "\n",
            " [[ 3  3  3  3]\n",
            "  [30 30 30 30]]]\n",
            "y.shape (3, 2, 4)\n",
            "\n",
            "z:\n",
            " [[ 1  1  1  1 10 10 10 10]\n",
            " [ 2  2  2  2 20 20 20 20]\n",
            " [ 3  3  3  3 30 30 30 30]]\n",
            "z.shape:  (3, 8)\n"
          ]
        }
      ]
    },
    {
      "cell_type": "markdown",
      "metadata": {
        "id": "BGUfYQkdbgVW"
      },
      "source": [
        "# Expanding / Reducing"
      ]
    },
    {
      "cell_type": "markdown",
      "metadata": {
        "id": "cDaAZar-cL_U"
      },
      "source": [
        "Expanding"
      ]
    },
    {
      "cell_type": "code",
      "metadata": {
        "id": "jT6U1GoObjTD",
        "outputId": "95e2a399-d1ed-4f24-fbc4-7565bb7cef0e",
        "colab": {
          "base_uri": "https://localhost:8080/"
        }
      },
      "source": [
        "# adding dimensions\n",
        "x = np.array([[1,2,3], [4,5,6]])\n",
        "print(\"x:\\n\", x)\n",
        "print(\"x.shape: \", x.shape)\n",
        "y = np.expand_dims(x, 1) # expand dim 1\n",
        "print(\"y:\\n\", y)\n",
        "print(\"y.shape: \", y.shape)"
      ],
      "execution_count": 40,
      "outputs": [
        {
          "output_type": "stream",
          "name": "stdout",
          "text": [
            "x:\n",
            " [[1 2 3]\n",
            " [4 5 6]]\n",
            "x.shape:  (2, 3)\n",
            "y:\n",
            " [[[1 2 3]]\n",
            "\n",
            " [[4 5 6]]]\n",
            "y.shape:  (2, 1, 3)\n"
          ]
        }
      ]
    },
    {
      "cell_type": "markdown",
      "metadata": {
        "id": "3Ocnn8bscN52"
      },
      "source": [
        "Reducing"
      ]
    },
    {
      "cell_type": "code",
      "metadata": {
        "id": "yefV-Cu7cPKx",
        "outputId": "82ccda27-f55d-477e-e755-6ec625746fb7",
        "colab": {
          "base_uri": "https://localhost:8080/"
        }
      },
      "source": [
        "# removing dimensions\n",
        "x = np.array([[[1,2,3]], [[4,5,6]]])\n",
        "print(\"x:\\n\", x)\n",
        "print(\"x.shape: \", x.shape)\n",
        "y =np.squeeze(x, 1) # squeeze dim 1\n",
        "print(\"y:\\n\", y)\n",
        "print(\"y.shape: \", y.shape)"
      ],
      "execution_count": 41,
      "outputs": [
        {
          "output_type": "stream",
          "name": "stdout",
          "text": [
            "x:\n",
            " [[[1 2 3]]\n",
            "\n",
            " [[4 5 6]]]\n",
            "x.shape:  (2, 1, 3)\n",
            "y:\n",
            " [[1 2 3]\n",
            " [4 5 6]]\n",
            "y.shape:  (2, 3)\n"
          ]
        }
      ]
    }
  ]
}