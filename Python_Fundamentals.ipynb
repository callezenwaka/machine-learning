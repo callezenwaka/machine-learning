{
  "nbformat": 4,
  "nbformat_minor": 0,
  "metadata": {
    "colab": {
      "name": "Python Fundamentals.ipynb",
      "provenance": [],
      "include_colab_link": true
    },
    "kernelspec": {
      "name": "python3",
      "display_name": "Python 3"
    },
    "language_info": {
      "name": "python"
    }
  },
  "cells": [
    {
      "cell_type": "markdown",
      "metadata": {
        "id": "view-in-github",
        "colab_type": "text"
      },
      "source": [
        "<a href=\"https://colab.research.google.com/github/callezenwaka/machine-learning/blob/main/Python_Fundamentals.ipynb\" target=\"_parent\"><img src=\"https://colab.research.google.com/assets/colab-badge.svg\" alt=\"Open In Colab\"/></a>"
      ]
    },
    {
      "cell_type": "markdown",
      "metadata": {
        "id": "vrv_X5bnJoPk"
      },
      "source": [
        "# The Fundamentals for Machine Learning"
      ]
    },
    {
      "cell_type": "markdown",
      "metadata": {
        "id": "wBKFAD_i6TVf"
      },
      "source": [
        "## Types of Variables"
      ]
    },
    {
      "cell_type": "code",
      "metadata": {
        "id": "kDjbpSSKIkBq",
        "outputId": "be90f229-14cc-4842-d7c8-3404705a5f54",
        "colab": {
          "base_uri": "https://localhost:8080/"
        }
      },
      "source": [
        "# Intergar variable\n",
        "x = 5;\n",
        "print(x);\n",
        "print(type(x));"
      ],
      "execution_count": 3,
      "outputs": [
        {
          "output_type": "stream",
          "name": "stdout",
          "text": [
            "5\n",
            "<class 'int'>\n"
          ]
        }
      ]
    },
    {
      "cell_type": "code",
      "metadata": {
        "id": "5S14Nu2dJx8p",
        "outputId": "48a23b3e-9b16-441f-e097-853fb6127640",
        "colab": {
          "base_uri": "https://localhost:8080/"
        }
      },
      "source": [
        "# String variable\n",
        "x = \"hello\";\n",
        "print(x);\n",
        "print(type(x));"
      ],
      "execution_count": 2,
      "outputs": [
        {
          "output_type": "stream",
          "name": "stdout",
          "text": [
            "hello\n",
            "<class 'str'>\n"
          ]
        }
      ]
    },
    {
      "cell_type": "code",
      "metadata": {
        "id": "LeIC-kxhJyEJ",
        "outputId": "1d047b96-f2b2-4255-dd99-38225836f9a8",
        "colab": {
          "base_uri": "https://localhost:8080/"
        }
      },
      "source": [
        "# Int variable\n",
        "x = 5;\n",
        "print(x, type(x));"
      ],
      "execution_count": 4,
      "outputs": [
        {
          "output_type": "stream",
          "name": "stdout",
          "text": [
            "5 <class 'int'>\n"
          ]
        }
      ]
    },
    {
      "cell_type": "code",
      "metadata": {
        "id": "7jVxpks7JyHH",
        "outputId": "a870a47c-aec1-4434-8a84-cac30b0bafdb",
        "colab": {
          "base_uri": "https://localhost:8080/"
        }
      },
      "source": [
        "# float variable\n",
        "x = 5.0;\n",
        "print(x, type(x));  "
      ],
      "execution_count": 5,
      "outputs": [
        {
          "output_type": "stream",
          "name": "stdout",
          "text": [
            "5.0 <class 'float'>\n"
          ]
        }
      ]
    },
    {
      "cell_type": "code",
      "metadata": {
        "id": "ExRlZEYOJyJ-",
        "outputId": "566aa785-3cec-402d-c793-1209b0344f46",
        "colab": {
          "base_uri": "https://localhost:8080/"
        }
      },
      "source": [
        "# text variable\n",
        "x = \"5\";\n",
        "print(x, type(x));"
      ],
      "execution_count": 6,
      "outputs": [
        {
          "output_type": "stream",
          "name": "stdout",
          "text": [
            "5 <class 'str'>\n"
          ]
        }
      ]
    },
    {
      "cell_type": "code",
      "metadata": {
        "id": "IWvEcNiGKdSe",
        "outputId": "3e6ced3c-84e3-41c0-e10f-b47666936b16",
        "colab": {
          "base_uri": "https://localhost:8080/"
        }
      },
      "source": [
        "# boolean variable\n",
        "x = True;\n",
        "print(x, type(x)); "
      ],
      "execution_count": 1,
      "outputs": [
        {
          "output_type": "stream",
          "name": "stdout",
          "text": [
            "True <class 'bool'>\n"
          ]
        }
      ]
    },
    {
      "cell_type": "markdown",
      "metadata": {
        "id": "R7I6sLDs6L1U"
      },
      "source": [
        "## Operations with Variables"
      ]
    },
    {
      "cell_type": "code",
      "metadata": {
        "id": "nC7LSZPZKdPG",
        "outputId": "47f56a36-1d2d-4868-c2ca-e75a680b0eda",
        "colab": {
          "base_uri": "https://localhost:8080/"
        }
      },
      "source": [
        "# manipulating int variables\n",
        "a = 1;\n",
        "b = 2;\n",
        "c = a + b;\n",
        "print(c);"
      ],
      "execution_count": 3,
      "outputs": [
        {
          "output_type": "stream",
          "name": "stdout",
          "text": [
            "3\n"
          ]
        }
      ]
    },
    {
      "cell_type": "code",
      "metadata": {
        "id": "DlAABVXgKdL9",
        "outputId": "c18a3e99-b0a8-437a-c130-57f4d5d3dc55",
        "colab": {
          "base_uri": "https://localhost:8080/"
        }
      },
      "source": [
        "# manipulating string variables\n",
        "a = \"Hello\";\n",
        "b = \"world\";\n",
        "c = a + ' ' + b;\n",
        "print(c);"
      ],
      "execution_count": 4,
      "outputs": [
        {
          "output_type": "stream",
          "name": "stdout",
          "text": [
            "Hello world\n"
          ]
        }
      ]
    },
    {
      "cell_type": "markdown",
      "metadata": {
        "id": "hYvyonpkKc04"
      },
      "source": [
        "## List Variable"
      ]
    },
    {
      "cell_type": "markdown",
      "metadata": {
        "id": "yqAJ7uha5nhv"
      },
      "source": [
        "Ordered and mutable"
      ]
    },
    {
      "cell_type": "code",
      "metadata": {
        "id": "1vG3gJKQKdJR",
        "outputId": "042606da-bbce-4128-e2d1-d1e1d4545404",
        "colab": {
          "base_uri": "https://localhost:8080/"
        }
      },
      "source": [
        "# create a list\n",
        "x = [3, \"hello\", 1.2];\n",
        "print(x, type(x));"
      ],
      "execution_count": 5,
      "outputs": [
        {
          "output_type": "stream",
          "name": "stdout",
          "text": [
            "[3, 'hello', 1.2] <class 'list'>\n"
          ]
        }
      ]
    },
    {
      "cell_type": "code",
      "metadata": {
        "id": "plbuMxUD7DZr",
        "outputId": "ea098278-08dd-40fb-8938-e4478c7396be",
        "colab": {
          "base_uri": "https://localhost:8080/"
        }
      },
      "source": [
        "# length of a list\n",
        "print(len(x));"
      ],
      "execution_count": 10,
      "outputs": [
        {
          "output_type": "stream",
          "name": "stdout",
          "text": [
            "3\n"
          ]
        }
      ]
    },
    {
      "cell_type": "code",
      "metadata": {
        "id": "cCpl_ZZ17DWS",
        "outputId": "4f0646ed-74fb-4a89-95ce-7e5da2cb3017",
        "colab": {
          "base_uri": "https://localhost:8080/"
        }
      },
      "source": [
        "# add item to a list\n",
        "x.append(7);\n",
        "print(x);\n",
        "print(len(x));"
      ],
      "execution_count": 11,
      "outputs": [
        {
          "output_type": "stream",
          "name": "stdout",
          "text": [
            "[3, 'hello', 1.2, 7]\n",
            "4\n"
          ]
        }
      ]
    },
    {
      "cell_type": "code",
      "metadata": {
        "id": "CnRZSRg37DTT",
        "outputId": "2a5298fc-6367-4134-d89a-84f30fc6e203",
        "colab": {
          "base_uri": "https://localhost:8080/"
        }
      },
      "source": [
        "# replace item in a list\n",
        "x[1] = \"world\";\n",
        "print(x);"
      ],
      "execution_count": 12,
      "outputs": [
        {
          "output_type": "stream",
          "name": "stdout",
          "text": [
            "[3, 'world', 1.2, 7]\n"
          ]
        }
      ]
    },
    {
      "cell_type": "code",
      "metadata": {
        "id": "q2Z6IXGZ7DQB",
        "outputId": "368037a2-da60-4c25-c416-212928585371",
        "colab": {
          "base_uri": "https://localhost:8080/"
        }
      },
      "source": [
        "# operations with list\n",
        "y = [2.4, \"hello\"];\n",
        "z = x + y;\n",
        "print(z);"
      ],
      "execution_count": 14,
      "outputs": [
        {
          "output_type": "stream",
          "name": "stdout",
          "text": [
            "[3, 'world', 1.2, 7, 2.4, 'hello']\n"
          ]
        }
      ]
    },
    {
      "cell_type": "code",
      "metadata": {
        "id": "_svV8pin7DM-",
        "outputId": "5b9ae83e-7f6f-49fa-a0b0-0df54f31fef4",
        "colab": {
          "base_uri": "https://localhost:8080/"
        }
      },
      "source": [
        "# indexing into a list\n",
        "x = [3, \"hello\", 1.2];\n",
        "print(\"x[0]: \", x[0]);\n",
        "print(\"x[1]: \", x[1]);\n",
        "print(\"x[-1]: \", x[-1]); # last item in the list\n",
        "print(\"x[-2]: \", x[-2]); # second item in the list"
      ],
      "execution_count": 15,
      "outputs": [
        {
          "output_type": "stream",
          "name": "stdout",
          "text": [
            "x[0]:  3\n",
            "x[1]:  hello\n",
            "x[-1]:  1.2\n",
            "x[-2]:  hello\n"
          ]
        }
      ]
    },
    {
      "cell_type": "code",
      "metadata": {
        "id": "j3cOE6yU7DJx",
        "outputId": "e8705be6-08f8-4f46-8ee7-301f5f0be460",
        "colab": {
          "base_uri": "https://localhost:8080/"
        }
      },
      "source": [
        "# slicing a list\n",
        "print(\"x[:]: \", x[:]); # all indices\n",
        "print(\"x[1:]: \", x[1:]); # index one to the end\n",
        "print(\"x[1:2]: \", x[1:2]); # index 1 to 2 (excluding 2)\n",
        "print(\"x[:-1]: \", x[:-1]); # index 0 to the last (excluding the last index)\n"
      ],
      "execution_count": 16,
      "outputs": [
        {
          "output_type": "stream",
          "name": "stdout",
          "text": [
            "x[:]:  [3, 'hello', 1.2]\n",
            "x[1:]:  ['hello', 1.2]\n",
            "x[1:2]:  ['hello']\n",
            "x[:-1]:  [3, 'hello']\n"
          ]
        }
      ]
    },
    {
      "cell_type": "markdown",
      "metadata": {
        "id": "NXi0-P2H9hOz"
      },
      "source": [
        "# Tuples"
      ]
    },
    {
      "cell_type": "markdown",
      "metadata": {
        "id": "jZMiMhJz5Xan"
      },
      "source": [
        "Ordered and immutable"
      ]
    },
    {
      "cell_type": "code",
      "metadata": {
        "id": "GtVf4AuB7DG6",
        "outputId": "a24348b6-d9ec-4a2e-c4d5-32f8e782a1f8",
        "colab": {
          "base_uri": "https://localhost:8080/"
        }
      },
      "source": [
        "# create a tuple\n",
        "x = (3.0, \"hello\");\n",
        "print(x, type(x));"
      ],
      "execution_count": 1,
      "outputs": [
        {
          "output_type": "stream",
          "name": "stdout",
          "text": [
            "(3.0, 'hello') <class 'tuple'>\n"
          ]
        }
      ]
    },
    {
      "cell_type": "code",
      "metadata": {
        "id": "IhitXDe93roT",
        "outputId": "04b63201-94c4-4134-dfea-eea78991afa5",
        "colab": {
          "base_uri": "https://localhost:8080/"
        }
      },
      "source": [
        "# adding value to a tuple\n",
        "x = x + (5.5, 4);\n",
        "print(x, type(x));"
      ],
      "execution_count": 2,
      "outputs": [
        {
          "output_type": "stream",
          "name": "stdout",
          "text": [
            "(3.0, 'hello', 5.5, 4) <class 'tuple'>\n"
          ]
        }
      ]
    },
    {
      "cell_type": "code",
      "metadata": {
        "id": "6LaBdVlg3rmL"
      },
      "source": [
        "# attempt tuple modification\n",
        "x[0] = 1.2;"
      ],
      "execution_count": null,
      "outputs": []
    },
    {
      "cell_type": "markdown",
      "metadata": {
        "id": "EGOZCbxi6SHX"
      },
      "source": [
        "# Dictionary"
      ]
    },
    {
      "cell_type": "markdown",
      "metadata": {
        "id": "VCIFfpiw6UBX"
      },
      "source": [
        "Unordered and mutable"
      ]
    },
    {
      "cell_type": "code",
      "metadata": {
        "id": "6-k3R9u13rix",
        "outputId": "3eb23661-4445-4cd6-933e-3c21103d2a8e",
        "colab": {
          "base_uri": "https://localhost:8080/"
        }
      },
      "source": [
        "# create a dictionary\n",
        "person = {'name': 'Callis', 'age': 20};\n",
        "print(person, type(person));\n",
        "print('Name: ', person['name']);\n",
        "print('Age: ', person['age']);"
      ],
      "execution_count": 5,
      "outputs": [
        {
          "output_type": "stream",
          "name": "stdout",
          "text": [
            "{'name': 'Callis', 'age': 20} <class 'dict'>\n",
            "Name:  Callis\n",
            "Age:  20\n"
          ]
        }
      ]
    },
    {
      "cell_type": "code",
      "metadata": {
        "id": "9sL4S3zV3rgb",
        "outputId": "5bf7cd9d-489a-484a-de1b-c46524590bc3",
        "colab": {
          "base_uri": "https://localhost:8080/"
        }
      },
      "source": [
        "# change the value of a dictionary key\n",
        "person['age'] = 25;\n",
        "print(person);\n",
        "print('Age: ', person['age']);"
      ],
      "execution_count": 9,
      "outputs": [
        {
          "output_type": "stream",
          "name": "stdout",
          "text": [
            "{'name': 'Callis', 'age': 25, 'height': 1.7}\n",
            "Age:  25\n"
          ]
        }
      ]
    },
    {
      "cell_type": "code",
      "metadata": {
        "id": "ZNE3ZblA3rdf",
        "outputId": "18508437-a9f5-4f46-dbce-5e0f0856269e",
        "colab": {
          "base_uri": "https://localhost:8080/"
        }
      },
      "source": [
        "# add new key-value pair\n",
        "person['height'] = 1.7;\n",
        "print(person);\n",
        "print('Height: ', person['height']);"
      ],
      "execution_count": 11,
      "outputs": [
        {
          "output_type": "stream",
          "name": "stdout",
          "text": [
            "{'name': 'Callis', 'age': 25, 'height': 1.7}\n",
            "Height:  1.7\n"
          ]
        }
      ]
    },
    {
      "cell_type": "code",
      "metadata": {
        "id": "jhvkPkQV3rao",
        "outputId": "4a2e9a4f-3db3-43b2-fe12-184a261c2453",
        "colab": {
          "base_uri": "https://localhost:8080/"
        }
      },
      "source": [
        "# length of a dictionary\n",
        "print('Lenght: ', len(person));"
      ],
      "execution_count": 13,
      "outputs": [
        {
          "output_type": "stream",
          "name": "stdout",
          "text": [
            "Lenght:  3\n"
          ]
        }
      ]
    },
    {
      "cell_type": "markdown",
      "metadata": {
        "id": "sMW8Z2M08C1i"
      },
      "source": [
        "# If Statement"
      ]
    },
    {
      "cell_type": "code",
      "metadata": {
        "id": "ozszPCmL8Mmo",
        "outputId": "785e12de-6dcb-4b48-b34c-72649c5f02bb",
        "colab": {
          "base_uri": "https://localhost:8080/"
        }
      },
      "source": [
        "# if statement\n",
        "x = 4;\n",
        "if x < 1:\n",
        "  score = 'low';\n",
        "elif x <= 4: #elif = else if\n",
        "  score = 'medium';\n",
        "else:\n",
        "  score = 'high';\n",
        "print('Score: ', score);"
      ],
      "execution_count": 15,
      "outputs": [
        {
          "output_type": "stream",
          "name": "stdout",
          "text": [
            "Score:  medium\n"
          ]
        }
      ]
    },
    {
      "cell_type": "code",
      "metadata": {
        "id": "A8u44ggB8M6c",
        "outputId": "950630ac-35f4-4ee5-ba9c-d84253f639e5",
        "colab": {
          "base_uri": "https://localhost:8080/"
        }
      },
      "source": [
        "# if statement with a boolean\n",
        "x = True;\n",
        "if x:\n",
        "  print('It worked');"
      ],
      "execution_count": 16,
      "outputs": [
        {
          "output_type": "stream",
          "name": "stdout",
          "text": [
            "It worked\n"
          ]
        }
      ]
    },
    {
      "cell_type": "markdown",
      "metadata": {
        "id": "5BQPgiRC9CWq"
      },
      "source": [
        "# Loops"
      ]
    },
    {
      "cell_type": "markdown",
      "metadata": {
        "id": "x5ebKYes9FeF"
      },
      "source": [
        "For loops"
      ]
    },
    {
      "cell_type": "code",
      "metadata": {
        "id": "BeeygIw58M22",
        "outputId": "6c342c40-f9e6-42f4-930e-f954b06bf8c9",
        "colab": {
          "base_uri": "https://localhost:8080/"
        }
      },
      "source": [
        "# for loop\n",
        "veggies = [\"carrots\", \"broccoli\", \"beans\"];\n",
        "for veggie in veggies:\n",
        "  print(veggie);"
      ],
      "execution_count": 20,
      "outputs": [
        {
          "output_type": "stream",
          "name": "stdout",
          "text": [
            "carrots\n",
            "broccoli\n",
            "beans\n"
          ]
        }
      ]
    },
    {
      "cell_type": "code",
      "metadata": {
        "id": "7YE4Rk4Y9uuq",
        "outputId": "2be9255a-6ff6-4ed1-f893-d916d922950c",
        "colab": {
          "base_uri": "https://localhost:8080/"
        }
      },
      "source": [
        "# break out of for loop with 'break' keyword\n",
        "veggies = [\"carrots\", \"broccoli\", \"beans\"];\n",
        "for veggie in veggies:\n",
        "  if veggie == \"broccoli\":\n",
        "    break;\n",
        "  print(veggie);"
      ],
      "execution_count": 22,
      "outputs": [
        {
          "output_type": "stream",
          "name": "stdout",
          "text": [
            "carrots\n"
          ]
        }
      ]
    },
    {
      "cell_type": "code",
      "metadata": {
        "id": "ric7lv2L-G6j",
        "outputId": "ebfb274d-fa1a-402a-a088-a0d4abc30802",
        "colab": {
          "base_uri": "https://localhost:8080/"
        }
      },
      "source": [
        "# skip element in for loop with 'continue' keyword\n",
        "veggies = [\"carrots\", \"broccoli\", \"beans\"];\n",
        "for veggie in veggies:\n",
        "  if veggie == \"broccoli\":\n",
        "    continue;\n",
        "  print(veggie);"
      ],
      "execution_count": 23,
      "outputs": [
        {
          "output_type": "stream",
          "name": "stdout",
          "text": [
            "carrots\n",
            "beans\n"
          ]
        }
      ]
    },
    {
      "cell_type": "markdown",
      "metadata": {
        "id": "3688JH7W8CTI"
      },
      "source": [
        "While loops"
      ]
    },
    {
      "cell_type": "code",
      "metadata": {
        "id": "5a5IhLg7-VuV",
        "outputId": "ee88ee66-b9b1-457b-c847-d9fa6d18dd0c",
        "colab": {
          "base_uri": "https://localhost:8080/"
        }
      },
      "source": [
        "# while loop\n",
        "x = 3;\n",
        "while x > 0:\n",
        "  x -= 1 # same as x = x - 1\n",
        "  print(x);"
      ],
      "execution_count": 24,
      "outputs": [
        {
          "output_type": "stream",
          "name": "stdout",
          "text": [
            "2\n",
            "1\n",
            "0\n"
          ]
        }
      ]
    },
    {
      "cell_type": "markdown",
      "metadata": {
        "id": "J7HjwFRUCbUp"
      },
      "source": [
        "# Functions"
      ]
    },
    {
      "cell_type": "code",
      "metadata": {
        "id": "49cH7YUGCeSx"
      },
      "source": [
        "# define a function with single parameter\n",
        "def add_two(x):\n",
        "  \"\"\"Increase x by 2.\"\"\"\n",
        "  x += 2;\n",
        "  return x;"
      ],
      "execution_count": 26,
      "outputs": []
    },
    {
      "cell_type": "code",
      "metadata": {
        "id": "Frtfu7JVC3QI",
        "outputId": "7c1bcbe1-8266-4281-c79d-4a8dd24f08c0",
        "colab": {
          "base_uri": "https://localhost:8080/"
        }
      },
      "source": [
        "# call add_two function\n",
        "score = 0;\n",
        "new_score = add_two(x=score);\n",
        "print(new_score);"
      ],
      "execution_count": 27,
      "outputs": [
        {
          "output_type": "stream",
          "name": "stdout",
          "text": [
            "2\n"
          ]
        }
      ]
    },
    {
      "cell_type": "code",
      "metadata": {
        "id": "IYJhLduHDK9z"
      },
      "source": [
        "# define a function with many parameters\n",
        "def join_name(first_name, last_name):\n",
        "  \"\"\"Combine first and last name.\"\"\"\n",
        "  joined_name = first_name + \" \" + last_name;\n",
        "  return joined_name;"
      ],
      "execution_count": 28,
      "outputs": []
    },
    {
      "cell_type": "code",
      "metadata": {
        "colab": {
          "base_uri": "https://localhost:8080/"
        },
        "id": "EctnOy1LDt73",
        "outputId": "bf3801ee-6ceb-4100-d711-f9a08e1eee38"
      },
      "source": [
        "# call join_name function\n",
        "first_name = \"Callis\";\n",
        "last_name = \"Eze\";\n",
        "full_name = join_name(first_name=first_name, last_name=last_name);\n",
        "print(\"Full name: \", full_name);"
      ],
      "execution_count": 30,
      "outputs": [
        {
          "output_type": "stream",
          "name": "stdout",
          "text": [
            "Full name:  Callis Eze\n"
          ]
        }
      ]
    },
    {
      "cell_type": "markdown",
      "metadata": {
        "id": "DAXfceR4EoTm"
      },
      "source": [
        "Using *args and **kwargs"
      ]
    },
    {
      "cell_type": "code",
      "metadata": {
        "id": "zK7jev1YEnA3"
      },
      "source": [
        "# create a function\n",
        "def test(*args, **kwargs):\n",
        "  x = args[0];\n",
        "  y = kwargs.get(\"y\");\n",
        "  print(f\"x: {x}, y: {y}\")"
      ],
      "execution_count": 31,
      "outputs": []
    },
    {
      "cell_type": "code",
      "metadata": {
        "id": "bnX5k5ESFPBG",
        "outputId": "006918cb-406f-4d01-f5fe-beef3c49b736",
        "colab": {
          "base_uri": "https://localhost:8080/"
        }
      },
      "source": [
        "# call test function\n",
        "test(5, y=2);"
      ],
      "execution_count": 32,
      "outputs": [
        {
          "output_type": "stream",
          "name": "stdout",
          "text": [
            "x: 5, y: 2\n"
          ]
        }
      ]
    },
    {
      "cell_type": "markdown",
      "metadata": {
        "id": "ziiYqTDmFVsN"
      },
      "source": [
        "# Classes"
      ]
    },
    {
      "cell_type": "markdown",
      "metadata": {
        "id": "Fbz3KciSFkNZ"
      },
      "source": [
        "Magic Functions: \\_\\_init\\_\\_, \\_\\_str\\_\\_, \\_\\_len\\_\\_, \\_\\_iter\\_\\_, \\_\\_getitem\\_\\_, etc."
      ]
    },
    {
      "cell_type": "code",
      "metadata": {
        "id": "gUyMiFTvFXpY"
      },
      "source": [
        "# creating the class\n",
        "class Pet(object):\n",
        "  \"\"\"Class object for a pet.\"\"\"\n",
        "\n",
        "  def __init__(self, species, name):\n",
        "    \"\"\"Initialize a Pet.\"\"\"\n",
        "    self.species = species;\n",
        "    self.name = name;"
      ],
      "execution_count": 33,
      "outputs": []
    },
    {
      "cell_type": "code",
      "metadata": {
        "id": "tiCkdg07GyZ7",
        "outputId": "e710df18-a878-49f1-9d64-1c5fbe377285",
        "colab": {
          "base_uri": "https://localhost:8080/"
        }
      },
      "source": [
        "# create an instance of a class\n",
        "my_dog = Pet(species=\"dog\", name=\"Scooby\");\n",
        "print(\"My dog: \", my_dog);\n",
        "print(\"My dog name: \", my_dog.name);"
      ],
      "execution_count": 34,
      "outputs": [
        {
          "output_type": "stream",
          "name": "stdout",
          "text": [
            "My dog:  <__main__.Pet object at 0x7fbf6a8a8410>\n",
            "My dog name:  Scooby\n"
          ]
        }
      ]
    },
    {
      "cell_type": "code",
      "metadata": {
        "id": "TJTR9MlNHqae"
      },
      "source": [
        "# create class with __str__ magic function\n",
        "class Pet(object):\n",
        "  \"\"\"Class object for a Pet.\"\"\"\n",
        "\n",
        "  def __init__(self, species, name):\n",
        "    self.species = species;\n",
        "    self.name = name;\n",
        "\n",
        "  def __str__(self):\n",
        "    \"\"\"Outpuyt when printing an instance of a Pet.\"\"\"\n",
        "    return f\"{self.species} named {self.name}.\";"
      ],
      "execution_count": 35,
      "outputs": []
    },
    {
      "cell_type": "code",
      "metadata": {
        "id": "bJqH-eg4Ib0Q",
        "outputId": "9282c7da-a21b-4fb7-b9fb-e6f0b5d10efe",
        "colab": {
          "base_uri": "https://localhost:8080/"
        }
      },
      "source": [
        "# create an instance of a class\n",
        "my_dog = Pet(species=\"dog\", name=\"Scooby\");\n",
        "print(\"My dog:\", my_dog);\n",
        "print(\"My dog name:\", my_dog.name);"
      ],
      "execution_count": 38,
      "outputs": [
        {
          "output_type": "stream",
          "name": "stdout",
          "text": [
            "My dog: dog named Scooby.\n",
            "My dog name: Scooby\n"
          ]
        }
      ]
    },
    {
      "cell_type": "markdown",
      "metadata": {
        "id": "CoUyGmpVJGFt"
      },
      "source": [
        "Object functions"
      ]
    },
    {
      "cell_type": "code",
      "metadata": {
        "id": "5C_UiVkYJIT4"
      },
      "source": [
        "# creating a class with object\n",
        "class Pet(object):\n",
        "  \"\"\"Class object for a Pet.\"\"\"\n",
        "\n",
        "  def __init__(self, species, name):\n",
        "    \"\"\"Initialize a Pet.\"\"\"\n",
        "    self.species = species;\n",
        "    self.name = name;\n",
        "\n",
        "  def __str__(self):\n",
        "    \"\"\"Output when printing an instance of a Pet.\"\"\"\n",
        "    return f\"{self.species} name {self.name}.\"\n",
        "\n",
        "  def change_name(self, new_name):\n",
        "    \"\"\"Change the name of your Pet.\"\"\"\n",
        "    self.name = new_name;"
      ],
      "execution_count": 39,
      "outputs": []
    },
    {
      "cell_type": "code",
      "metadata": {
        "id": "0cTyegR1KACQ",
        "outputId": "4eb7b1df-9274-466f-c9f9-de4592605e29",
        "colab": {
          "base_uri": "https://localhost:8080/"
        }
      },
      "source": [
        "# creating an instance of a class\n",
        "my_dog = Pet(species=\"dog\", name=\"Scooby\");\n",
        "print(\"My dog:\", my_dog);\n",
        "print(\"My dog name:\", my_dog.name);"
      ],
      "execution_count": 40,
      "outputs": [
        {
          "output_type": "stream",
          "name": "stdout",
          "text": [
            "My dog: dog name Scooby.\n",
            "My dog name: Scooby\n"
          ]
        }
      ]
    },
    {
      "cell_type": "code",
      "metadata": {
        "id": "IzhO2d7IKXcd",
        "outputId": "ba2fada4-a424-4692-fdd4-a2080871f9aa",
        "colab": {
          "base_uri": "https://localhost:8080/"
        }
      },
      "source": [
        "# using a class's function\n",
        "my_dog.change_name(new_name=\"Scrappy\");\n",
        "print(\"My dog:\", my_dog);\n",
        "print(\"My dog name:\", my_dog.name);"
      ],
      "execution_count": 41,
      "outputs": [
        {
          "output_type": "stream",
          "name": "stdout",
          "text": [
            "My dog: dog name Scrappy.\n",
            "My dog name: Scrappy\n"
          ]
        }
      ]
    },
    {
      "cell_type": "markdown",
      "metadata": {
        "id": "9bpvtGaNKo13"
      },
      "source": [
        "Inheritance"
      ]
    },
    {
      "cell_type": "code",
      "metadata": {
        "id": "MIW_l9kEKqrr"
      },
      "source": [
        "# inherit Pet parent class\n",
        "class Dog(Pet):\n",
        "  \"\"\"Initialize child class Dog.\"\"\"\n",
        "  \n",
        "  def __init__(self, species, name, breed):\n",
        "    \"\"\"Initialize a child class Dog.\"\"\"\n",
        "    super().__init__(\"dog\", name);\n",
        "    self.breed = breed;\n",
        "\n",
        "  def __str__(self):\n",
        "    return f\"{self.breed} named {self.name}.\""
      ],
      "execution_count": 42,
      "outputs": []
    },
    {
      "cell_type": "code",
      "metadata": {
        "id": "_1jM3Zv5Kq8K",
        "outputId": "b33e15d7-4ef4-4c3c-92b8-67bdc60d975b",
        "colab": {
          "base_uri": "https://localhost:8080/"
        }
      },
      "source": [
        "# create instance of Dog\n",
        "scooby = Dog(species=\"dog\", breed=\"Great Dane\", name=\"Scooby\");\n",
        "print(scooby);"
      ],
      "execution_count": 44,
      "outputs": [
        {
          "output_type": "stream",
          "name": "stdout",
          "text": [
            "Great Dane named Scooby.\n"
          ]
        }
      ]
    },
    {
      "cell_type": "code",
      "metadata": {
        "id": "9ltxDANXL0Fn",
        "outputId": "35d456e4-f215-46d6-aae8-754b91dcac7d",
        "colab": {
          "base_uri": "https://localhost:8080/"
        }
      },
      "source": [
        "# call parent function from child class\n",
        "scooby.change_name(\"Scooby Doo\");\n",
        "print(scooby);"
      ],
      "execution_count": 46,
      "outputs": [
        {
          "output_type": "stream",
          "name": "stdout",
          "text": [
            "Great Dane named Scooby Doo.\n"
          ]
        }
      ]
    },
    {
      "cell_type": "markdown",
      "metadata": {
        "id": "Ag9wKq0QMr2o"
      },
      "source": [
        "Methods"
      ]
    },
    {
      "cell_type": "code",
      "metadata": {
        "id": "WvpZJbaLNAD8"
      },
      "source": [
        "# creating classes with @classmethod\n",
        "class Dog(Pet):\n",
        "  \"\"\"Initialize a child class Dog from parent class Pet.\"\"\"\n",
        "\n",
        "  def __init__(self, name, breed):\n",
        "    \"\"\"Initialize a child class Dog.\"\"\"\n",
        "    super().__init__(species=\"dog\", name=name);\n",
        "    self.breed = breed;\n",
        "\n",
        "  def __str__(self):\n",
        "    return f\"{self.breed} named {self.name}.\";\n",
        "\n",
        "  @classmethod\n",
        "  def from_dict(cls, d):\n",
        "    return cls(name=d[\"name\"], breed=d[\"breed\"]);\n",
        "\n",
        "  @staticmethod\n",
        "  def is_cute(breed):\n",
        "    return True;"
      ],
      "execution_count": 54,
      "outputs": []
    },
    {
      "cell_type": "code",
      "metadata": {
        "id": "SUYvztq9PCmW",
        "outputId": "222c57f8-c3dc-4120-e427-9ca7de11ee48",
        "colab": {
          "base_uri": "https://localhost:8080/"
        }
      },
      "source": [
        "# create instance of Dog class\n",
        "d = {\"name\": \"Cassie\", \"breed\": \"Border Collie\"};\n",
        "cassie = Dog.from_dict(d=d);\n",
        "print(cassie);"
      ],
      "execution_count": 48,
      "outputs": [
        {
          "output_type": "stream",
          "name": "stdout",
          "text": [
            "Border Collie named Cassie.\n"
          ]
        }
      ]
    },
    {
      "cell_type": "code",
      "metadata": {
        "id": "W8W91ek2PnFY",
        "outputId": "64b384d3-ac1f-4032-dcaa-bba31737185d",
        "colab": {
          "base_uri": "https://localhost:8080/"
        }
      },
      "source": [
        "# static method\n",
        "cute_dog = Dog.is_cute(breed=\"Border Collie\");\n",
        "print(cute_dog);"
      ],
      "execution_count": 56,
      "outputs": [
        {
          "output_type": "stream",
          "name": "stdout",
          "text": [
            "True\n"
          ]
        }
      ]
    },
    {
      "cell_type": "markdown",
      "metadata": {
        "id": "FnzzHcV0QcDK"
      },
      "source": [
        "# Decorators"
      ]
    },
    {
      "cell_type": "code",
      "metadata": {
        "id": "pCrkOiCVQei0"
      },
      "source": [
        "# basic operations\n",
        "def operations(x):\n",
        "  \"\"\"Basic operations.\"\"\"\n",
        "  x += 1;\n",
        "  return x;"
      ],
      "execution_count": 58,
      "outputs": []
    },
    {
      "cell_type": "code",
      "metadata": {
        "id": "9gLLMX9xUVCD",
        "outputId": "c198b68a-db04-4ca3-b220-d403c5a05767",
        "colab": {
          "base_uri": "https://localhost:8080/"
        }
      },
      "source": [
        "# call operations function\n",
        "output = operations(x=1);\n",
        "print(\"Output: \", output)"
      ],
      "execution_count": 60,
      "outputs": [
        {
          "output_type": "stream",
          "name": "stdout",
          "text": [
            "Output:  2\n"
          ]
        }
      ]
    },
    {
      "cell_type": "code",
      "metadata": {
        "id": "dm2KH3-8Uolf"
      },
      "source": [
        "# increment pre and post execution of basic operations\n",
        "def operations(x):\n",
        "  \"\"\"Basic pre and post execution increment of operations.\"\"\"\n",
        "  x += 1;\n",
        "  x += 1;\n",
        "  x += 1;\n",
        "  return x;"
      ],
      "execution_count": 62,
      "outputs": []
    },
    {
      "cell_type": "code",
      "metadata": {
        "id": "Dtwi28CdU5K9",
        "outputId": "c07848ed-3d6f-462c-a413-77aafc379c33",
        "colab": {
          "base_uri": "https://localhost:8080/"
        }
      },
      "source": [
        "# call operations function\n",
        "output = operations(x=1);\n",
        "print(\"Output: \", output)"
      ],
      "execution_count": 63,
      "outputs": [
        {
          "output_type": "stream",
          "name": "stdout",
          "text": [
            "Output:  4\n"
          ]
        }
      ]
    },
    {
      "cell_type": "markdown",
      "metadata": {
        "id": "sD_PPl3-VHaR"
      },
      "source": [
        "Create a decorator"
      ]
    },
    {
      "cell_type": "code",
      "metadata": {
        "id": "ZeBw1ZAZU-Dj"
      },
      "source": [
        "# create a decorator\n",
        "def add(func):\n",
        "  \"\"\"Initialize decorator function\"\"\"\n",
        "  def wrapper(*args, **kwargs):\n",
        "    \"\"\"Wrapper function for @add\"\"\"\n",
        "    x = kwargs.pop('x'); # use .get() if not mutating args x\n",
        "    x += 1; # executes before function func\n",
        "    x = func(*args, **kwargs, x=x);\n",
        "    x += 1; # executes after function func\n",
        "    return x;\n",
        "  return wrapper;"
      ],
      "execution_count": 64,
      "outputs": []
    },
    {
      "cell_type": "code",
      "metadata": {
        "id": "oOKbHE-mU9m_"
      },
      "source": [
        "# use wrapper on operations functions\n",
        "@add\n",
        "def operations(x):\n",
        "  \"\"\"Basic operations.\"\"\"\n",
        "  x += 1;\n",
        "  return x;  "
      ],
      "execution_count": 65,
      "outputs": []
    },
    {
      "cell_type": "code",
      "metadata": {
        "id": "oJMTVUMSW5TM",
        "outputId": "f7278fa6-2302-40fd-9338-3aa5c34633b2",
        "colab": {
          "base_uri": "https://localhost:8080/"
        }
      },
      "source": [
        "# call operations function\n",
        "output = operations(x=1);\n",
        "print(\"Output: \", output)"
      ],
      "execution_count": 66,
      "outputs": [
        {
          "output_type": "stream",
          "name": "stdout",
          "text": [
            "Output:  4\n"
          ]
        }
      ]
    },
    {
      "cell_type": "code",
      "metadata": {
        "id": "Wbv7XMz5XDB6",
        "outputId": "cb1d587c-49f0-45fa-e6fa-862d6accd66d",
        "colab": {
          "base_uri": "https://localhost:8080/"
        }
      },
      "source": [
        "# debug operations function execution\n",
        "operations.__name__, operations.__doc__"
      ],
      "execution_count": 67,
      "outputs": [
        {
          "output_type": "execute_result",
          "data": {
            "text/plain": [
              "('wrapper', 'Wrapper function for @add')"
            ]
          },
          "metadata": {},
          "execution_count": 67
        }
      ]
    },
    {
      "cell_type": "code",
      "metadata": {
        "id": "pl30GbI5XS11"
      },
      "source": [
        "# use functools.wraps to execute main function rather than wrapper function\n",
        "from functools import wraps"
      ],
      "execution_count": 68,
      "outputs": []
    },
    {
      "cell_type": "code",
      "metadata": {
        "id": "XEwn7hkpXobK"
      },
      "source": [
        "# create decorator\n",
        "def add(func):\n",
        "  \"\"\"Initialize decorator function\"\"\"\n",
        "  @wraps(func)\n",
        "  def wrap(*args, **kwargs):\n",
        "    \"\"\"Wrapper function for @add.\"\"\"\n",
        "    x = kwargs.pop('x');\n",
        "    x += 1;\n",
        "    x = func(*args, **kwargs, x=x);\n",
        "    x += 1;\n",
        "    return x;\n",
        "  return wrap;"
      ],
      "execution_count": 71,
      "outputs": []
    },
    {
      "cell_type": "code",
      "metadata": {
        "id": "KMoprQuuXwWs"
      },
      "source": [
        "# use wrapper on operations functions\n",
        "@add\n",
        "def operations(x):\n",
        "  \"\"\"Basic operations.\"\"\"\n",
        "  x += 1;\n",
        "  return x;  "
      ],
      "execution_count": 72,
      "outputs": []
    },
    {
      "cell_type": "code",
      "metadata": {
        "id": "c6VwD_RldJzU",
        "outputId": "9ddbdbf0-77b3-4bea-f71d-9a0691cf1270",
        "colab": {
          "base_uri": "https://localhost:8080/"
        }
      },
      "source": [
        "# call operations function\n",
        "output = operations(x=1);\n",
        "print(\"Output: \", output)"
      ],
      "execution_count": 73,
      "outputs": [
        {
          "output_type": "stream",
          "name": "stdout",
          "text": [
            "Output:  4\n"
          ]
        }
      ]
    },
    {
      "cell_type": "code",
      "metadata": {
        "id": "tHwd7PdhdPYa",
        "outputId": "a988cfc9-6d5a-425a-d26b-f19d68729be7",
        "colab": {
          "base_uri": "https://localhost:8080/"
        }
      },
      "source": [
        "operations.__name__, operations.__doc__"
      ],
      "execution_count": 74,
      "outputs": [
        {
          "output_type": "execute_result",
          "data": {
            "text/plain": [
              "('operations', 'Basic operations.')"
            ]
          },
          "metadata": {},
          "execution_count": 74
        }
      ]
    },
    {
      "cell_type": "markdown",
      "metadata": {
        "id": "fz1ZEk6tddFK"
      },
      "source": [
        "Callbacks"
      ]
    },
    {
      "cell_type": "code",
      "metadata": {
        "id": "z9eM1jUVde6P"
      },
      "source": [
        "# create a callback class\n",
        "class x_tracker(object):\n",
        "  \"\"\"Initialize x_tracker callback.\"\"\"\n",
        "  \n",
        "  def __init__(self, x):\n",
        "    self.history = [];\n",
        "\n",
        "  def at_start(self, x):\n",
        "    self.history.append(x);\n",
        "  \n",
        "  def at_end(self, x):\n",
        "    self.history.append(x);"
      ],
      "execution_count": 86,
      "outputs": []
    },
    {
      "cell_type": "code",
      "metadata": {
        "id": "Y2jLDdu2gbMd"
      },
      "source": [
        "# using callbacks\n",
        "def operations(x, callbacks=[]):\n",
        "  \"\"\"Basic operations.\"\"\"\n",
        "  for callback in callbacks:\n",
        "    callback.at_start(x);\n",
        "  x += 1;\n",
        "  for callback in callbacks:\n",
        "    callback.at_end(x);\n",
        "  return x;"
      ],
      "execution_count": 93,
      "outputs": []
    },
    {
      "cell_type": "code",
      "metadata": {
        "id": "bUsAMU2VhAOH",
        "outputId": "98f39c42-2cf7-459f-f3a9-0b64aefd9b1e",
        "colab": {
          "base_uri": "https://localhost:8080/"
        }
      },
      "source": [
        "# use callback\n",
        "x = 1;\n",
        "tracker = x_tracker(x=x);\n",
        "operations(x=x, callbacks=[tracker]);"
      ],
      "execution_count": 94,
      "outputs": [
        {
          "output_type": "stream",
          "name": "stdout",
          "text": [
            "<__main__.x_tracker object at 0x7fbf6a804b90>\n",
            "<__main__.x_tracker object at 0x7fbf6a804b90>\n"
          ]
        }
      ]
    },
    {
      "cell_type": "code",
      "metadata": {
        "id": "lR8v971aiJUI",
        "outputId": "d39c8a84-4161-4829-86e2-4b36e98d985d",
        "colab": {
          "base_uri": "https://localhost:8080/"
        }
      },
      "source": [
        "# show output\n",
        "tracker.history"
      ],
      "execution_count": 92,
      "outputs": [
        {
          "output_type": "execute_result",
          "data": {
            "text/plain": [
              "[1, 2]"
            ]
          },
          "metadata": {},
          "execution_count": 92
        }
      ]
    },
    {
      "cell_type": "markdown",
      "metadata": {
        "id": "ZTvknIMmjff-"
      },
      "source": [
        "Putting it together"
      ]
    },
    {
      "cell_type": "code",
      "metadata": {
        "id": "4aLzoxrmjhpq"
      },
      "source": [
        "# using callbacks within decorators\n",
        "from functools import  wraps"
      ],
      "execution_count": 111,
      "outputs": []
    },
    {
      "cell_type": "code",
      "metadata": {
        "id": "fwkcX6LwjqgA"
      },
      "source": [
        "# create a decorator\n",
        "def add(func):\n",
        "  \"\"\"Initialize add function.\"\"\"\n",
        "  @wraps(func)\n",
        "  def wrap(*args, **kwargs):\n",
        "    \"\"\"Wrapper function for @add.\"\"\"\n",
        "    x = kwargs.pop('x')\n",
        "    x += 1; # executes before function func\n",
        "    x = func(*args, **kwargs, x=x)\n",
        "    # post func actions goes here\n",
        "    return x;\n",
        "  return wrap;"
      ],
      "execution_count": 112,
      "outputs": []
    },
    {
      "cell_type": "code",
      "metadata": {
        "id": "Xx-40HU5kfOp"
      },
      "source": [
        "# create callback class\n",
        "class x_tracker(object):\n",
        "  \"\"\"Initialize x_tracker class.\"\"\"\n",
        "  \n",
        "  def __init__(self, x):\n",
        "    self.history = [x];\n",
        "\n",
        "  def at_start(self, x):\n",
        "    self.history.append(x);\n",
        "\n",
        "  def at_end(self, x):\n",
        "    self.history.append(x);"
      ],
      "execution_count": 113,
      "outputs": []
    },
    {
      "cell_type": "code",
      "metadata": {
        "id": "9_dafvgAlDA1"
      },
      "source": [
        "# main function\n",
        "@add\n",
        "def operations(x, callbacks=[]):\n",
        "  \"\"\"Basic operations.\"\"\"\n",
        "  for callback in callbacks:\n",
        "    callback.at_start(x)\n",
        "  x += 1\n",
        "  for callback in callbacks:\n",
        "    callback.at_end(x)\n",
        "  return x"
      ],
      "execution_count": 114,
      "outputs": []
    },
    {
      "cell_type": "code",
      "metadata": {
        "id": "4fzVitvklRX4",
        "outputId": "b528466d-2f96-4855-b298-4b4840a01213",
        "colab": {
          "base_uri": "https://localhost:8080/"
        }
      },
      "source": [
        "x = 1\n",
        "tracker = x_tracker(x=x)\n",
        "operations(x=x, callbacks=[tracker])"
      ],
      "execution_count": 117,
      "outputs": [
        {
          "output_type": "execute_result",
          "data": {
            "text/plain": [
              "3"
            ]
          },
          "metadata": {},
          "execution_count": 117
        }
      ]
    },
    {
      "cell_type": "code",
      "metadata": {
        "id": "m7Bbe68el9iw",
        "outputId": "66913e7c-2e96-40ff-cd31-830460968898",
        "colab": {
          "base_uri": "https://localhost:8080/"
        }
      },
      "source": [
        "tracker.history"
      ],
      "execution_count": 118,
      "outputs": [
        {
          "output_type": "execute_result",
          "data": {
            "text/plain": [
              "[1, 2, 3]"
            ]
          },
          "metadata": {},
          "execution_count": 118
        }
      ]
    }
  ]
}