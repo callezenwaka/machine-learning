{
  "nbformat": 4,
  "nbformat_minor": 0,
  "metadata": {
    "colab": {
      "name": "Utilities.ipynb",
      "provenance": [],
      "include_colab_link": true
    },
    "kernelspec": {
      "name": "python3",
      "display_name": "Python 3"
    },
    "language_info": {
      "name": "python"
    },
    "accelerator": "GPU"
  },
  "cells": [
    {
      "cell_type": "markdown",
      "metadata": {
        "id": "view-in-github",
        "colab_type": "text"
      },
      "source": [
        "<a href=\"https://colab.research.google.com/github/callezenwaka/machine-learning/blob/main/Utilities.ipynb\" target=\"_parent\"><img src=\"https://colab.research.google.com/assets/colab-badge.svg\" alt=\"Open In Colab\"/></a>"
      ]
    },
    {
      "cell_type": "markdown",
      "metadata": {
        "id": "75BpZPASb03Y"
      },
      "source": [
        "# Utilities for machine learning"
      ]
    },
    {
      "cell_type": "markdown",
      "metadata": {
        "id": "EY5ocgiLb8YZ"
      },
      "source": [
        "# Set up"
      ]
    },
    {
      "cell_type": "code",
      "metadata": {
        "id": "M2BeJG1jbwFU"
      },
      "source": [
        "# import dependencies\n",
        "import numpy as np\n",
        "import pandas as pd\n",
        "import random\n",
        "import torch\n",
        "import torch.nn as nn"
      ],
      "execution_count": 48,
      "outputs": []
    },
    {
      "cell_type": "code",
      "metadata": {
        "id": "v06UZ80Vr0gq"
      },
      "source": [
        "# define seed\n",
        "SEED = 1234"
      ],
      "execution_count": 49,
      "outputs": []
    },
    {
      "cell_type": "code",
      "metadata": {
        "id": "3dO7e-i7r5WM"
      },
      "source": [
        "# define set seed function\n",
        "def set_seeds(seed=1234):\n",
        "  \"\"\"Set seeds for reproducibility.\"\"\"\n",
        "  np.random.seed(seed)\n",
        "  random.seed(seed)\n",
        "  torch.manual_seed(seed)\n",
        "  torch.cuda.manual_seed(seed)\n",
        "  torch.cuda.manual_seed_all(seed) # multi-GPU"
      ],
      "execution_count": 50,
      "outputs": []
    },
    {
      "cell_type": "code",
      "metadata": {
        "id": "NG1lu4OhsenV"
      },
      "source": [
        "# set seed for reproducibility\n",
        "set_seeds(seed=SEED)"
      ],
      "execution_count": 51,
      "outputs": []
    },
    {
      "cell_type": "code",
      "metadata": {
        "colab": {
          "base_uri": "https://localhost:8080/"
        },
        "id": "rhL5zAKvssIO",
        "outputId": "e7b4bf7a-86fe-484e-804f-94926aec6bbc"
      },
      "source": [
        "# set device\n",
        "cuda = True\n",
        "device = torch.device('cuda' if (torch.cuda.is_available() and cuda) else 'cpu')\n",
        "torch.set_default_tensor_type('torch.FloatTensor')\n",
        "if device.type == 'cuda':\n",
        "  torch.set_default_tensor_type('torch.cuda.FloatTensor')\n",
        "print(device)"
      ],
      "execution_count": 52,
      "outputs": [
        {
          "output_type": "stream",
          "name": "stdout",
          "text": [
            "cuda\n"
          ]
        }
      ]
    },
    {
      "cell_type": "markdown",
      "metadata": {
        "id": "EXcVEuMDts-O"
      },
      "source": [
        "# Load Data"
      ]
    },
    {
      "cell_type": "code",
      "metadata": {
        "id": "fM8UZxqTt_mY"
      },
      "source": [
        "# import dependencies\n",
        "import matplotlib.pyplot as plt\n",
        "import pandas as pd"
      ],
      "execution_count": 53,
      "outputs": []
    },
    {
      "cell_type": "code",
      "metadata": {
        "colab": {
          "base_uri": "https://localhost:8080/",
          "height": 206
        },
        "id": "NZue3bpCuHns",
        "outputId": "04a55760-30d6-481f-be1d-bc09c1cbb67c"
      },
      "source": [
        "# load data\n",
        "url = \"https://raw.githubusercontent.com/GokuMohandas/MadeWithML/main/datasets/spiral.csv\"\n",
        "df = pd.read_csv(url, header=0) # load\n",
        "df = df.sample(frac=1).reset_index(drop=True) # shuffle\n",
        "df.head()\n"
      ],
      "execution_count": 54,
      "outputs": [
        {
          "output_type": "execute_result",
          "data": {
            "text/html": [
              "<div>\n",
              "<style scoped>\n",
              "    .dataframe tbody tr th:only-of-type {\n",
              "        vertical-align: middle;\n",
              "    }\n",
              "\n",
              "    .dataframe tbody tr th {\n",
              "        vertical-align: top;\n",
              "    }\n",
              "\n",
              "    .dataframe thead th {\n",
              "        text-align: right;\n",
              "    }\n",
              "</style>\n",
              "<table border=\"1\" class=\"dataframe\">\n",
              "  <thead>\n",
              "    <tr style=\"text-align: right;\">\n",
              "      <th></th>\n",
              "      <th>X1</th>\n",
              "      <th>X2</th>\n",
              "      <th>color</th>\n",
              "    </tr>\n",
              "  </thead>\n",
              "  <tbody>\n",
              "    <tr>\n",
              "      <th>0</th>\n",
              "      <td>0.106737</td>\n",
              "      <td>0.114197</td>\n",
              "      <td>c1</td>\n",
              "    </tr>\n",
              "    <tr>\n",
              "      <th>1</th>\n",
              "      <td>0.311513</td>\n",
              "      <td>-0.664028</td>\n",
              "      <td>c1</td>\n",
              "    </tr>\n",
              "    <tr>\n",
              "      <th>2</th>\n",
              "      <td>0.019870</td>\n",
              "      <td>-0.703126</td>\n",
              "      <td>c1</td>\n",
              "    </tr>\n",
              "    <tr>\n",
              "      <th>3</th>\n",
              "      <td>-0.054017</td>\n",
              "      <td>0.508159</td>\n",
              "      <td>c3</td>\n",
              "    </tr>\n",
              "    <tr>\n",
              "      <th>4</th>\n",
              "      <td>-0.127751</td>\n",
              "      <td>-0.011382</td>\n",
              "      <td>c3</td>\n",
              "    </tr>\n",
              "  </tbody>\n",
              "</table>\n",
              "</div>"
            ],
            "text/plain": [
              "         X1        X2 color\n",
              "0  0.106737  0.114197    c1\n",
              "1  0.311513 -0.664028    c1\n",
              "2  0.019870 -0.703126    c1\n",
              "3 -0.054017  0.508159    c3\n",
              "4 -0.127751 -0.011382    c3"
            ]
          },
          "metadata": {},
          "execution_count": 54
        }
      ]
    },
    {
      "cell_type": "code",
      "metadata": {
        "colab": {
          "base_uri": "https://localhost:8080/"
        },
        "id": "FUZDWhx1uQRm",
        "outputId": "11343a81-1bda-491f-e58c-258ac7726903"
      },
      "source": [
        "# data shapes\n",
        "X= df[['X1', 'X2']].values\n",
        "y = df['color'].values\n",
        "print(\"X: \", np.shape(X))\n",
        "print(\"y: \", np.shape(y))"
      ],
      "execution_count": 55,
      "outputs": [
        {
          "output_type": "stream",
          "name": "stdout",
          "text": [
            "X:  (1500, 2)\n",
            "y:  (1500,)\n"
          ]
        }
      ]
    },
    {
      "cell_type": "code",
      "metadata": {
        "colab": {
          "base_uri": "https://localhost:8080/",
          "height": 281
        },
        "id": "M7LPvR7XukPN",
        "outputId": "e82a122a-7399-46c1-d087-81f17532a038"
      },
      "source": [
        "# visualize data\n",
        "plt.title(\"Generated non-linear dataset\")\n",
        "colors = {'c1': 'red', 'c2': 'yellow', 'c3': 'blue'}\n",
        "plt.scatter(X[: , 0], X[:, 1], c=[colors[_y] for _y in y], edgecolors='k', s=25)\n",
        "plt.show()"
      ],
      "execution_count": 56,
      "outputs": [
        {
          "output_type": "display_data",
          "data": {
            "image/png": "[encoded data removed]",
            "text/plain": [
              "<Figure size 432x288 with 1 Axes>"
            ]
          },
          "metadata": {
            "needs_background": "light"
          }
        }
      ]
    },
    {
      "cell_type": "markdown",
      "metadata": {
        "id": "O9o4zwi7vOAQ"
      },
      "source": [
        "# Split Data"
      ]
    },
    {
      "cell_type": "code",
      "metadata": {
        "id": "EOSV89cEvQbL"
      },
      "source": [
        "# import dependencies\n",
        "import collections\n",
        "from sklearn.model_selection import train_test_split"
      ],
      "execution_count": 57,
      "outputs": []
    },
    {
      "cell_type": "code",
      "metadata": {
        "id": "toj2aYKUvaVZ"
      },
      "source": [
        "# set split size\n",
        "TRAIN_SIZE = 0.7\n",
        "VAL_SIZE = 0.15\n",
        "TEST_SIZE = 0.15"
      ],
      "execution_count": 58,
      "outputs": []
    },
    {
      "cell_type": "code",
      "metadata": {
        "id": "s78bC2i8vkbp"
      },
      "source": [
        "# define train_val__test_split function\n",
        "def train_val_test_split(X, y, train_size):\n",
        "  \"\"\"Split dataset into data splits.\"\"\"\n",
        "  X_train, X_, y_train, y_ = train_test_split(X, y, train_size=TRAIN_SIZE, stratify=y)\n",
        "  X_val, X_test, y_val, y_test = train_test_split(X_, y_, train_size=0.5, stratify=y_)\n",
        "  return X_train, X_val, X_test, y_train, y_val, y_test"
      ],
      "execution_count": 59,
      "outputs": []
    },
    {
      "cell_type": "code",
      "metadata": {
        "colab": {
          "base_uri": "https://localhost:8080/"
        },
        "id": "fEaYWTJJwaS5",
        "outputId": "c35c1b0c-1388-48dd-9e64-3675b9e540d9"
      },
      "source": [
        "# create data splits\n",
        "X_train, X_val, X_test, y_train, y_val, y_test = train_val_test_split(X=X, y=y, train_size=TRAIN_SIZE)\n",
        "print(f\"X_train: {X_train.shape}, y_train: {y_train.shape}\")\n",
        "print(f\"X_val: {X_val.shape}, y_val: {y_val.shape}\")\n",
        "print(f\"X_test: {X_test.shape}, y_test: {y_test.shape}\")\n",
        "print(f\"sample point: {X_train[0]} → {y_train[0]}\")"
      ],
      "execution_count": 60,
      "outputs": [
        {
          "output_type": "stream",
          "name": "stdout",
          "text": [
            "X_train: (1050, 2), y_train: (1050,)\n",
            "X_val: (225, 2), y_val: (225,)\n",
            "X_test: (225, 2), y_test: (225,)\n",
            "sample point: [-0.63919105 -0.69724176] → c1\n"
          ]
        }
      ]
    },
    {
      "cell_type": "markdown",
      "metadata": {
        "id": "2xY9HCl6xcIL"
      },
      "source": [
        "# Label Encoding"
      ]
    },
    {
      "cell_type": "code",
      "metadata": {
        "id": "IaKOUtA4xoTX"
      },
      "source": [
        "# import dependencies\n",
        "import itertools"
      ],
      "execution_count": 61,
      "outputs": []
    },
    {
      "cell_type": "code",
      "metadata": {
        "id": "5SBuY1cexwcc"
      },
      "source": [
        "# declare LabelEncoder class\n",
        "class LabelEncoder(object):\n",
        "  \"\"\"Label encoder for tag labels.\"\"\"\n",
        "\n",
        "  def __init__(self, class_to_index={}):\n",
        "    \"\"\"Initialize Label Encoder class.\"\"\"\n",
        "    self.class_to_index = class_to_index\n",
        "    self.index_to_class = {v: k for k, v in self.class_to_index.items()}\n",
        "    self.classes = list(self.class_to_index.keys())\n",
        "\n",
        "  def __len__(self):\n",
        "    return len(self.class_to_index)\n",
        "\n",
        "  def __str__(self):\n",
        "    return f\"<LabelEncoder(num_classes={len(self)})>\"\n",
        "\n",
        "  def fit(self, y):\n",
        "    classes = np.unique(y)\n",
        "    for i, class_ in enumerate(classes):\n",
        "      self.class_to_index[class_] = i\n",
        "    self.index_to_class = {v: k for k, v in self.class_to_index.items()}\n",
        "    self.classes = list(self.class_to_index.keys())\n",
        "    return self\n",
        "\n",
        "  def encode(self, y):\n",
        "    encoded = np.zeros((len(y)), dtype=int)\n",
        "    for i, item in enumerate(y):\n",
        "      encoded[i] = self.class_to_index[item]\n",
        "    return encoded\n",
        "\n",
        "  def decode(self, y):\n",
        "    classes = []\n",
        "    for i, item in enumerate(y):\n",
        "      classes.append(self.index_to_class[item])\n",
        "    return classes\n",
        "\n",
        "  def save(self, fp):\n",
        "    with open(fp, 'w') as fp:\n",
        "      contents = {'class_to_index': self.class_to_index}\n",
        "      json.dump(contents, fp, indent=4, sort_keys=False)\n",
        "\n",
        "  @classmethod\n",
        "  def load(cls, fp):\n",
        "    with open(fp, 'r') as fp:\n",
        "      kwargs = json.load(fp=fp)\n",
        "    return cls(**kwargs)"
      ],
      "execution_count": 62,
      "outputs": []
    },
    {
      "cell_type": "code",
      "metadata": {
        "colab": {
          "base_uri": "https://localhost:8080/"
        },
        "id": "YrciJOMg01TR",
        "outputId": "5e0e31e6-3595-4381-c191-9b10d574d10d"
      },
      "source": [
        "# encode\n",
        "label_encoder = LabelEncoder()\n",
        "label_encoder.fit(y_train)\n",
        "label_encoder.class_to_index"
      ],
      "execution_count": 63,
      "outputs": [
        {
          "output_type": "execute_result",
          "data": {
            "text/plain": [
              "{'c1': 0, 'c2': 1, 'c3': 2}"
            ]
          },
          "metadata": {},
          "execution_count": 63
        }
      ]
    },
    {
      "cell_type": "code",
      "metadata": {
        "colab": {
          "base_uri": "https://localhost:8080/"
        },
        "id": "MIEJiCC41S48",
        "outputId": "bb30e603-ba2c-48df-c13f-3e27b2e4fe59"
      },
      "source": [
        "# convert labels to tokens\n",
        "print(f\"y_train[0]: {y_train[0]}\")\n",
        "y_train = label_encoder.encode(y_train)\n",
        "y_val = label_encoder.encode(y_val)\n",
        "y_test = label_encoder.encode(y_test)\n",
        "print(f\"y_train[0]: {y_train[0]}\")"
      ],
      "execution_count": 64,
      "outputs": [
        {
          "output_type": "stream",
          "name": "stdout",
          "text": [
            "y_train[0]: c1\n",
            "y_train[0]: 0\n"
          ]
        }
      ]
    },
    {
      "cell_type": "code",
      "metadata": {
        "colab": {
          "base_uri": "https://localhost:8080/"
        },
        "id": "6CmdrcUo1-6F",
        "outputId": "88239b1d-e0e0-432a-c3a6-c45a9372f463"
      },
      "source": [
        "# class weights\n",
        "counts = np.bincount(y_train)\n",
        "class_weights = {i: 1.0/count for i, count in enumerate(counts)}\n",
        "print(f\"counts: {counts}\\nweights: {class_weights}\")"
      ],
      "execution_count": 65,
      "outputs": [
        {
          "output_type": "stream",
          "name": "stdout",
          "text": [
            "counts: [350 350 350]\n",
            "weights: {0: 0.002857142857142857, 1: 0.002857142857142857, 2: 0.002857142857142857}\n"
          ]
        }
      ]
    },
    {
      "cell_type": "markdown",
      "metadata": {
        "id": "DycgqXP42Zuo"
      },
      "source": [
        "# Standardize Data"
      ]
    },
    {
      "cell_type": "code",
      "metadata": {
        "id": "6AbNuUJi2YBn"
      },
      "source": [
        "# declare StandardScaler class\n",
        "class StandardScaler(object):\n",
        "  \"\"\"Declare StandardScaler class.\"\"\"\n",
        "  \n",
        "  def __init__(self, mean=None, std=None):\n",
        "    \"\"\"Initialize StandardScaler class.\"\"\"\n",
        "    self.mean = np.array(mean)\n",
        "    self.std = np.array(std)\n",
        "\n",
        "  def fit(self, X):\n",
        "    self.mean = np.mean(X_train, axis=0)\n",
        "    self.std = np.std(X_train, axis=0)\n",
        "\n",
        "  def scale(self, X):\n",
        "    return (X - self.mean) / self.std\n",
        "  \n",
        "  def unscale(self, X):\n",
        "    return (X * self.std) + self.mean\n",
        "\n",
        "  def save(self, fp):\n",
        "    with open(fp, 'w') as fp:\n",
        "      contents = {'mean': self.mean.tolist(), 'std': self.std.tolist()}\n",
        "      json.dump(contents, fp, indent=4, sort_keys=False)\n",
        "\n",
        "  @classmethod\n",
        "  def load(cls, fp):\n",
        "    with open(fp, 'r') as fp:\n",
        "      kwargs = json.load(fp=fp)\n",
        "    return cls(**kwargs)"
      ],
      "execution_count": 66,
      "outputs": []
    },
    {
      "cell_type": "code",
      "metadata": {
        "colab": {
          "base_uri": "https://localhost:8080/"
        },
        "id": "s2KDApeF4Q38",
        "outputId": "ae9d9eae-d505-45d4-d0ce-515ca7b32d50"
      },
      "source": [
        "# standardize the data (mean=0, std=1) using training data\n",
        "X_scaler = StandardScaler()\n",
        "X_scaler.fit(X_train)\n",
        "print(X_scaler)"
      ],
      "execution_count": 67,
      "outputs": [
        {
          "output_type": "stream",
          "name": "stdout",
          "text": [
            "<__main__.StandardScaler object at 0x7ff0a3585fd0>\n"
          ]
        }
      ]
    },
    {
      "cell_type": "code",
      "metadata": {
        "id": "bGXxrxP14d5A"
      },
      "source": [
        "# apply scaler on training and test data (don't standardize outputs for classification)\n",
        "X_train = X_scaler.scale(X_train)\n",
        "X_val = X_scaler.scale(X_val)\n",
        "X_test = X_scaler.scale(X_test)"
      ],
      "execution_count": 68,
      "outputs": []
    },
    {
      "cell_type": "code",
      "metadata": {
        "colab": {
          "base_uri": "https://localhost:8080/"
        },
        "id": "ATNPXltI4Qwx",
        "outputId": "3709b899-08e2-44b9-a783-cca1a282a4e9"
      },
      "source": [
        "# chck:(means should be ~0 and std should be ~1)\n",
        "print(f\"X_test[0]: mean: {np.mean(X_test[:, 0], axis=0):.1f}, std: {np.std(X_test[:, 0], axis=0):.1f}\")\n",
        "print(f\"X_test[1]: mean: {np.mean(X_test[:, 1], axis=0):.1f}, std: {np.std(X_test[:, 1], axis=0):.1f}\")"
      ],
      "execution_count": 69,
      "outputs": [
        {
          "output_type": "stream",
          "name": "stdout",
          "text": [
            "X_test[0]: mean: 0.1, std: 0.9\n",
            "X_test[1]: mean: 0.0, std: 1.0\n"
          ]
        }
      ]
    },
    {
      "cell_type": "markdown",
      "metadata": {
        "id": "aSEGpc8v61eI"
      },
      "source": [
        "# Dataloader"
      ]
    },
    {
      "cell_type": "code",
      "metadata": {
        "id": "ITyi_oVy63em"
      },
      "source": [
        "# import dependencies\n",
        "import torch"
      ],
      "execution_count": 70,
      "outputs": []
    },
    {
      "cell_type": "code",
      "metadata": {
        "colab": {
          "base_uri": "https://localhost:8080/"
        },
        "id": "GpBNQZG469qM",
        "outputId": "ee444e17-3cb2-4515-8abe-90788eb3fa81"
      },
      "source": [
        "# set seed for reproducibility\n",
        "torch.manual_seed(SEED)"
      ],
      "execution_count": 71,
      "outputs": [
        {
          "output_type": "execute_result",
          "data": {
            "text/plain": [
              "<torch._C.Generator at 0x7ff0cbe3a990>"
            ]
          },
          "metadata": {},
          "execution_count": 71
        }
      ]
    },
    {
      "cell_type": "code",
      "metadata": {
        "id": "BOzHbiMPADHl"
      },
      "source": [
        "# declare Dataset class\n",
        "class Dataset(torch.utils.data.Dataset):\n",
        "  \"\"\"Declare Dataset class.\"\"\"\n",
        "\n",
        "  def __init__(self, X, y):\n",
        "    \"\"\"Initialize Dataset class.\"\"\"\n",
        "    self.X = X\n",
        "    self.y = y\n",
        "\n",
        "  def __len__(self):\n",
        "    return len(self.y)\n",
        "\n",
        "  def __str__(self):\n",
        "    return f\"<Dataset(N={len(self)})>\"\n",
        "\n",
        "  def __getitem__(self, index):\n",
        "    X = self.X[index]\n",
        "    y = self.y[index]\n",
        "    return X, y\n",
        "\n",
        "  def collate_fn(self, batch):\n",
        "    \"\"\"Processing on a batch.\"\"\"\n",
        "    # get inputs\n",
        "    batch = np.array(batch, dtype=object)\n",
        "    X = np.stack(batch[:, 0], axis=0)\n",
        "    y = np.stack(batch[:, 1], axis=0)\n",
        "\n",
        "    # cast\n",
        "    X = torch.FloatTensor(X.astype(np.float32))\n",
        "    y = torch.LongTensor(y.astype(np.int32))\n",
        "\n",
        "    return X, y\n",
        "\n",
        "  def create_dataloader(self, batch_size, shuffle=False, drop_last=False):\n",
        "    return torch.utils.data.DataLoader(dataset=self, \n",
        "                                       batch_size=batch_size, \n",
        "                                       collate_fn=self.collate_fn, \n",
        "                                       shuffle=shuffle, \n",
        "                                       drop_last=drop_last, \n",
        "                                       pin_memory=True)"
      ],
      "execution_count": 72,
      "outputs": []
    },
    {
      "cell_type": "code",
      "metadata": {
        "colab": {
          "base_uri": "https://localhost:8080/"
        },
        "id": "8uHnj75NCf67",
        "outputId": "679544de-cd5e-47ba-da6e-515cbd3ac3b5"
      },
      "source": [
        "# create datasets\n",
        "train_dataset = Dataset(X=X_train, y=y_train)\n",
        "val_dataset = Dataset(X=X_val, y=y_val)\n",
        "test_dataset = Dataset(X=X_test, y=y_test)\n",
        "print(\"Dataset:\\n\"\n",
        "      f\"Train dataset: {train_dataset.__str__()}\\n\"\n",
        "      f\"Val dataset: {val_dataset.__str__()}\\n\"\n",
        "      f\"Test dataset: {test_dataset.__str__()}\\n\"\n",
        "      \"Sample point:\\n\"\n",
        "      f\"X: {train_dataset[0][0]}\\n\"\n",
        "      f\"y: {train_dataset[0][1]}\")"
      ],
      "execution_count": 73,
      "outputs": [
        {
          "output_type": "stream",
          "name": "stdout",
          "text": [
            "Dataset:\n",
            "Train dataset: <Dataset(N=1050)>\n",
            "Val dataset: <Dataset(N=225)>\n",
            "Test dataset: <Dataset(N=225)>\n",
            "Sample point:\n",
            "X: [-1.47355106 -1.67417243]\n",
            "y: 0\n"
          ]
        }
      ]
    },
    {
      "cell_type": "code",
      "metadata": {
        "colab": {
          "base_uri": "https://localhost:8080/"
        },
        "id": "jyZ7V0oCEHez",
        "outputId": "35eb0c62-622c-45ba-a456-0ef04e9bf51b"
      },
      "source": [
        "# create dataloaders\n",
        "batch_size = 64\n",
        "train_dataloader = train_dataset.create_dataloader(batch_size=batch_size)\n",
        "val_dataloader = val_dataset.create_dataloader(batch_size=batch_size)\n",
        "test_dataloader = test_dataset.create_dataloader(batch_size=batch_size)\n",
        "batch_X, batch_y = next(iter(train_dataloader))\n",
        "print(\"Sample batch: \\n\"\n",
        "      f\"X: {list(batch_X.size())}\\n\"\n",
        "      f\"y: {list(batch_y.size())}\\n\"\n",
        "      \"Sample point:\\n\"\n",
        "      f\"X: {batch_X[0]}\\n\"\n",
        "      f\"y: {batch_y[0]}\")"
      ],
      "execution_count": 74,
      "outputs": [
        {
          "output_type": "stream",
          "name": "stdout",
          "text": [
            "Sample batch: \n",
            "X: [64, 2]\n",
            "y: [64]\n",
            "Sample point:\n",
            "X: tensor([-1.4736, -1.6742], device='cpu')\n",
            "y: 0\n"
          ]
        }
      ]
    },
    {
      "cell_type": "markdown",
      "metadata": {
        "id": "Q_m4XEchG_et"
      },
      "source": [
        "#Device"
      ]
    },
    {
      "cell_type": "code",
      "metadata": {
        "id": "ZDZC0Ie2HeiH"
      },
      "source": [
        "# set CUDA seeds\n",
        "torch.cuda.manual_seed(SEED)\n",
        "torch.cuda.manual_seed_all(SEED) # multi-GPU"
      ],
      "execution_count": 75,
      "outputs": []
    },
    {
      "cell_type": "code",
      "metadata": {
        "colab": {
          "base_uri": "https://localhost:8080/"
        },
        "id": "niGruoj4IYGZ",
        "outputId": "7879565f-d8ee-4a62-e368-5f7b9bc22d6a"
      },
      "source": [
        "# device configuration\n",
        "device = torch.device('cuda' if torch.cuda.is_available() else 'cpu')\n",
        "print(\"Device: \", device)"
      ],
      "execution_count": 76,
      "outputs": [
        {
          "output_type": "stream",
          "name": "stdout",
          "text": [
            "Device:  cuda\n"
          ]
        }
      ]
    },
    {
      "cell_type": "markdown",
      "metadata": {
        "id": "uV5KEsGkIqTB"
      },
      "source": [
        "# Model"
      ]
    },
    {
      "cell_type": "code",
      "metadata": {
        "id": "0-XdiywWIrbV"
      },
      "source": [
        "# import dependencies\n",
        "import math\n",
        "from torch import nn\n",
        "import torch.nn.functional as F"
      ],
      "execution_count": 77,
      "outputs": []
    },
    {
      "cell_type": "code",
      "metadata": {
        "id": "6_O3P6-qI2Ss"
      },
      "source": [
        "# intialize hyperparameters\n",
        "INPUT_DIM = X_train.shape[1] # X is 2-dimensional\n",
        "HIDDEN_DIM = 100\n",
        "DROPOUT_P = 0.1\n",
        "NUM_CLASSES = len(label_encoder.classes)\n",
        "NUM_EPOCHS = 10"
      ],
      "execution_count": 78,
      "outputs": []
    },
    {
      "cell_type": "code",
      "metadata": {
        "id": "GcS0WvYqJm9t"
      },
      "source": [
        "# declare MLP class\n",
        "class MLP(nn.Module):\n",
        "  \"\"\"Declare MLP class.\"\"\"\n",
        "\n",
        "  def __init__(self, input_dim, hidden_dim, dropout_p, num_classes):\n",
        "    \"\"\"Initialize MLP class.\"\"\"\n",
        "    super(MLP, self).__init__()\n",
        "    self.fc1 = nn.Linear(input_dim, hidden_dim)\n",
        "    self.dropout = nn.Dropout(dropout_p)\n",
        "    self.fc2 = nn.Linear(hidden_dim, num_classes)\n",
        "\n",
        "  def forward(self, inputs):\n",
        "    x_in, = inputs\n",
        "    z = F.relu(self.fc1(x_in))\n",
        "    z = self.dropout(z)\n",
        "    z = self.fc2(z)\n",
        "    return z"
      ],
      "execution_count": 79,
      "outputs": []
    },
    {
      "cell_type": "code",
      "metadata": {
        "colab": {
          "base_uri": "https://localhost:8080/"
        },
        "id": "IPO9ZME2LBAe",
        "outputId": "3c4952a7-82eb-47a9-e2de-f83aae7a84c6"
      },
      "source": [
        "# initialize model\n",
        "model = MLP(input_dim=INPUT_DIM, hidden_dim=HIDDEN_DIM, num_classes=NUM_CLASSES, dropout_p=DROPOUT_P)\n",
        "model = model.to(device) # set device\n",
        "print(\"model:\\n\", model.named_parameters)"
      ],
      "execution_count": 80,
      "outputs": [
        {
          "output_type": "stream",
          "name": "stdout",
          "text": [
            "model:\n",
            " <bound method Module.named_parameters of MLP(\n",
            "  (fc1): Linear(in_features=2, out_features=100, bias=True)\n",
            "  (dropout): Dropout(p=0.1, inplace=False)\n",
            "  (fc2): Linear(in_features=100, out_features=3, bias=True)\n",
            ")>\n"
          ]
        }
      ]
    },
    {
      "cell_type": "markdown",
      "metadata": {
        "id": "W6MhQZrCSQ8v"
      },
      "source": [
        "# Training"
      ]
    },
    {
      "cell_type": "code",
      "metadata": {
        "id": "g4KPvOYHSUMX"
      },
      "source": [
        "# import dependencies\n",
        "from torch.optim import  Adam"
      ],
      "execution_count": 81,
      "outputs": []
    },
    {
      "cell_type": "code",
      "metadata": {
        "id": "ApNK-x8Y99ku"
      },
      "source": [
        "# initialize hyperparameters\n",
        "LEARNING_RATE = 1e-2\n",
        "NUM_EPOCHS = 100\n",
        "PATIENCE = 3"
      ],
      "execution_count": 82,
      "outputs": []
    },
    {
      "cell_type": "code",
      "metadata": {
        "id": "QmmlPovL9br4"
      },
      "source": [
        "# define loss\n",
        "class_weights_tensor = torch.Tensor(list(class_weights.values())).to(device)\n",
        "loss_fn = nn.CrossEntropyLoss(weight=class_weights_tensor)"
      ],
      "execution_count": 83,
      "outputs": []
    },
    {
      "cell_type": "code",
      "metadata": {
        "id": "mt1s-FLF9yQ0"
      },
      "source": [
        "# define optimizer & scheduler\n",
        "optimizer = Adam(model.parameters(), lr=LEARNING_RATE)\n",
        "scheduler = torch.optim.lr_scheduler.ReduceLROnPlateau(optimizer, mode='min', factor=0.1, patience=3)"
      ],
      "execution_count": 84,
      "outputs": []
    },
    {
      "cell_type": "code",
      "metadata": {
        "id": "ASBcnhKq-pwb"
      },
      "source": [
        "# declare trainer class\n",
        "class Trainer(object):\n",
        "  \"\"\"Declare Trainer class.\"\"\"\n",
        "\n",
        "  def __init__(self, model, device, loss_fn=None, optimizer=None, scheduler=None):\n",
        "    \"\"\"Initialize Trainer class.\"\"\"\n",
        "\n",
        "    # set params\n",
        "    self.model = model\n",
        "    self.device = device\n",
        "    self.loss_fn = loss_fn\n",
        "    self.optimizer = optimizer\n",
        "    self.scheduler = scheduler\n",
        "\n",
        "  def train_step(self, dataloader):\n",
        "    \"\"\"Train step.\"\"\"\n",
        "\n",
        "    # set model to train mode\n",
        "    self.model.train()\n",
        "    loss = 0.0\n",
        "\n",
        "    # iterate over train batches\n",
        "    for i, batch in enumerate(dataloader):\n",
        "      # step\n",
        "      # set device\n",
        "      batch = [item.to(self.device) for item in batch]\n",
        "      inputs, targets = batch[:-1], batch[-1]\n",
        "\n",
        "      # reset gradients\n",
        "      self.optimizer.zero_grad()\n",
        "\n",
        "      # forward pass\n",
        "      z = self.model(inputs)\n",
        "\n",
        "      # define loss\n",
        "      J = self.loss_fn(z, targets)\n",
        "\n",
        "      # backward pass\n",
        "      J.backward()\n",
        "\n",
        "      # update weights\n",
        "      self.optimizer.step()\n",
        "\n",
        "      # cumulative metrics\n",
        "      loss += (J.detach().item() - loss) / (i + 1)\n",
        "\n",
        "    return loss\n",
        "\n",
        "  def eval_step(self, dataloader):\n",
        "    \"\"\"Validation or test step.\"\"\"\n",
        "\n",
        "    # set model to eval mode\n",
        "    self.model.eval()\n",
        "    loss = 0.0\n",
        "    y_trues, y_probs = [], []\n",
        "\n",
        "    # iterate over val batches\n",
        "    with torch.inference_mode():\n",
        "      for i, batch in enumerate(dataloader):\n",
        "        #step\n",
        "        # set device\n",
        "        batch = [item.to(device) for item in batch]\n",
        "        inputs, y_true = batch[:-1], batch[-1]\n",
        "\n",
        "        # forward pass\n",
        "        z = self.model(inputs)\n",
        "        J = self.loss_fn(z, y_true).item()\n",
        "\n",
        "        # cumulative metrics\n",
        "        loss += (J - loss) / (i + 1)\n",
        "\n",
        "        # store outputs\n",
        "        y_prob = F.softmax(z).cpu().numpy()\n",
        "        y_probs.extend(y_prob)\n",
        "        y_trues.extend(y_true.cpu().numpy())\n",
        "\n",
        "    return loss, np.vstack(y_trues), np.vstack(y_probs)\n",
        "\n",
        "  def predict_step(self, dataloader):\n",
        "    \"\"\"Prediction step\"\"\"\n",
        "    \n",
        "    # set model to eval mode\n",
        "    self.model.eval()\n",
        "    y_probs = []\n",
        "\n",
        "    # iterate over val batches\n",
        "    with torch.inference_mode():\n",
        "      for i, batch in enumerate(dataloader):\n",
        "\n",
        "        # forward pass w/ inputs\n",
        "        inputs, targets = batch[:-1], batch[-1]\n",
        "        z = self.model(inputs)\n",
        "\n",
        "        # store outputs\n",
        "        y_prob = F.softmax(z).cpu().numpy()\n",
        "        y_probs.extend(y_prob)\n",
        "    \n",
        "    return np.vstack(y_probs)\n",
        "\n",
        "  def train(self, num_epochs, patience, train_dataloader, val_dataloader):\n",
        "    best_val_loss = np.inf\n",
        "    for epoch in range(num_epochs):\n",
        "      # step\n",
        "      train_loss = self.train_step(dataloader=train_dataloader)\n",
        "      val_loss, _, _ = self.eval_step(dataloader=val_dataloader)\n",
        "      self.scheduler.step(val_loss)\n",
        "\n",
        "      # earlt stopping\n",
        "      if val_loss < best_val_loss:\n",
        "        best_val_loss = val_loss\n",
        "        best_model = self.model\n",
        "        _patience = patience # reset _patience\n",
        "      else:\n",
        "        _patience -= 1\n",
        "      if not _patience: # 0\n",
        "        print(\"Stopping early!\")\n",
        "        break\n",
        "      \n",
        "      # logging\n",
        "      print(\n",
        "          f\"Epoch: {epoch+1} |\"\n",
        "          f\"train_loss: {train_loss:.5f},\"\n",
        "          f\"val_loss: {val_loss:.5f},\"\n",
        "          f\"lr: {self.optimizer.param_groups[0]['lr']:.2E},\"\n",
        "          f\"_patience: {_patience}\"\n",
        "      )\n",
        "    return best_model"
      ],
      "execution_count": 91,
      "outputs": []
    },
    {
      "cell_type": "code",
      "metadata": {
        "id": "LhwN-ML3HP9V"
      },
      "source": [
        "# trainer module\n",
        "trainer = Trainer(model=model, device=device, loss_fn=loss_fn, optimizer=optimizer, scheduler=scheduler)"
      ],
      "execution_count": 92,
      "outputs": []
    },
    {
      "cell_type": "code",
      "metadata": {
        "id": "46S18z7VIO_i",
        "outputId": "3dd78fa6-8908-4f1b-98b4-f54a29298673",
        "colab": {
          "base_uri": "https://localhost:8080/"
        }
      },
      "source": [
        "# train\n",
        "best_model = trainer.train(NUM_EPOCHS, PATIENCE, train_dataloader, val_dataloader)"
      ],
      "execution_count": 94,
      "outputs": [
        {
          "output_type": "stream",
          "name": "stderr",
          "text": [
            "/usr/local/lib/python3.7/dist-packages/ipykernel_launcher.py:73: UserWarning: Implicit dimension choice for softmax has been deprecated. Change the call to include dim=X as an argument.\n"
          ]
        },
        {
          "output_type": "stream",
          "name": "stdout",
          "text": [
            "Epoch: 1 |train_loss: 0.04336,val_loss: 0.01462,lr: 1.00E-03,_patience: 3\n",
            "Epoch: 2 |train_loss: 0.03451,val_loss: 0.01448,lr: 1.00E-03,_patience: 3\n",
            "Epoch: 3 |train_loss: 0.03109,val_loss: 0.01439,lr: 1.00E-03,_patience: 3\n",
            "Epoch: 4 |train_loss: 0.03125,val_loss: 0.01434,lr: 1.00E-03,_patience: 3\n",
            "Epoch: 5 |train_loss: 0.03048,val_loss: 0.01441,lr: 1.00E-03,_patience: 2\n",
            "Epoch: 6 |train_loss: 0.02837,val_loss: 0.01443,lr: 1.00E-03,_patience: 1\n",
            "Stopping early!\n"
          ]
        }
      ]
    },
    {
      "cell_type": "markdown",
      "metadata": {
        "id": "nNApZdzKJ47Y"
      },
      "source": [
        "# Evaluation"
      ]
    },
    {
      "cell_type": "code",
      "metadata": {
        "id": "Kt6x7LP8IeO0"
      },
      "source": [
        "# import dependencies\n",
        "import json\n",
        "from sklearn.metrics import precision_recall_fscore_support"
      ],
      "execution_count": 95,
      "outputs": []
    },
    {
      "cell_type": "code",
      "metadata": {
        "id": "yfPPnYJcKLZY"
      },
      "source": [
        "# define get metrics function\n",
        "def get_metrics(y_true, y_pred, classes):\n",
        "    \"\"\"Per-class performance metrics.\"\"\"\n",
        "    # Performance\n",
        "    performance = {\"overall\": {}, \"class\": {}}\n",
        "\n",
        "    # Overall performance\n",
        "    metrics = precision_recall_fscore_support(y_true, y_pred, average=\"weighted\")\n",
        "    performance[\"overall\"][\"precision\"] = metrics[0]\n",
        "    performance[\"overall\"][\"recall\"] = metrics[1]\n",
        "    performance[\"overall\"][\"f1\"] = metrics[2]\n",
        "    performance[\"overall\"][\"num_samples\"] = np.float64(len(y_true))\n",
        "\n",
        "    # Per-class performance\n",
        "    metrics = precision_recall_fscore_support(y_true, y_pred, average=None)\n",
        "    for i in range(len(classes)):\n",
        "        performance[\"class\"][classes[i]] = {\n",
        "            \"precision\": metrics[0][i],\n",
        "            \"recall\": metrics[1][i],\n",
        "            \"f1\": metrics[2][i],\n",
        "            \"num_samples\": np.float64(metrics[3][i]),\n",
        "        }\n",
        "\n",
        "    return performance"
      ],
      "execution_count": 96,
      "outputs": []
    },
    {
      "cell_type": "code",
      "metadata": {
        "id": "6w9X8cABKWHG",
        "outputId": "6b7532d2-2420-4136-de03-07251f89ce78",
        "colab": {
          "base_uri": "https://localhost:8080/"
        }
      },
      "source": [
        "# get predictions\n",
        "test_loss, y_true, y_prob = trainer.eval_step(dataloader=test_dataloader)\n",
        "y_pred = np.argmax(y_prob, axis=1)"
      ],
      "execution_count": 97,
      "outputs": [
        {
          "output_type": "stream",
          "name": "stderr",
          "text": [
            "/usr/local/lib/python3.7/dist-packages/ipykernel_launcher.py:73: UserWarning: Implicit dimension choice for softmax has been deprecated. Change the call to include dim=X as an argument.\n"
          ]
        }
      ]
    },
    {
      "cell_type": "code",
      "metadata": {
        "id": "3jP8cjXuKqy9",
        "outputId": "d79f0db7-c98c-44b0-e7df-bab7db4d4578",
        "colab": {
          "base_uri": "https://localhost:8080/"
        }
      },
      "source": [
        "# determine performance\n",
        "performance = get_metrics(y_true=y_test, y_pred=y_pred, classes=label_encoder.classes)\n",
        "print(json.dumps(performance['overall'], indent=2))"
      ],
      "execution_count": 98,
      "outputs": [
        {
          "output_type": "stream",
          "name": "stdout",
          "text": [
            "{\n",
            "  \"precision\": 0.9956140350877192,\n",
            "  \"recall\": 0.9955555555555555,\n",
            "  \"f1\": 0.9955553580159118,\n",
            "  \"num_samples\": 225.0\n",
            "}\n"
          ]
        }
      ]
    },
    {
      "cell_type": "markdown",
      "metadata": {
        "id": "wnsZgBHILMWJ"
      },
      "source": [
        "# Saving & Loading Model"
      ]
    },
    {
      "cell_type": "code",
      "metadata": {
        "id": "M3p0CMZiLOki"
      },
      "source": [
        "# import dependencies\n",
        "from pathlib import Path"
      ],
      "execution_count": 99,
      "outputs": []
    },
    {
      "cell_type": "code",
      "metadata": {
        "id": "jWMPqXlzLWXc"
      },
      "source": [
        "# save artifacts\n",
        "dir = Path(\"mlp\")\n",
        "dir.mkdir(parents=True, exist_ok=True)\n",
        "label_encoder.save(fp=Path(dir, 'label_encoder.json'))\n",
        "X_scaler.save(fp=Path(dir, 'X_scaler.json'))\n",
        "torch.save(best_model.state_dict(), Path(dir, 'model.pt'))\n",
        "with open(Path(dir, 'performance.json'), \"w\") as fp:\n",
        "  json.dump(performance, indent=2, sort_keys=False, fp=fp)"
      ],
      "execution_count": 100,
      "outputs": []
    },
    {
      "cell_type": "code",
      "metadata": {
        "id": "NCQX0JrHM06R",
        "outputId": "ad2be609-255c-47dc-96b8-9fa2c96dc8a8",
        "colab": {
          "base_uri": "https://localhost:8080/"
        }
      },
      "source": [
        "# load artifacts\n",
        "device = torch.device(\"cpu\")\n",
        "label_encoder = LabelEncoder.load(fp=Path(dir, 'label_encoder.json'))\n",
        "X_scaler = StandardScaler.load(fp=Path(dir, 'X_scaler.json'))\n",
        "model = MLP(input_dim=INPUT_DIM, hidden_dim=HIDDEN_DIM, dropout_p=DROPOUT_P, num_classes=NUM_CLASSES)\n",
        "model.load_state_dict(torch.load(Path(dir, 'model.pt'), map_location=device))\n",
        "model.to(device)"
      ],
      "execution_count": 103,
      "outputs": [
        {
          "output_type": "execute_result",
          "data": {
            "text/plain": [
              "MLP(\n",
              "  (fc1): Linear(in_features=2, out_features=100, bias=True)\n",
              "  (dropout): Dropout(p=0.1, inplace=False)\n",
              "  (fc2): Linear(in_features=100, out_features=3, bias=True)\n",
              ")"
            ]
          },
          "metadata": {},
          "execution_count": 103
        }
      ]
    },
    {
      "cell_type": "code",
      "metadata": {
        "id": "6UQHlubjOpM2"
      },
      "source": [
        "# initialize trainer\n",
        "trainer = Trainer(model=model, device=device)"
      ],
      "execution_count": 104,
      "outputs": []
    },
    {
      "cell_type": "code",
      "metadata": {
        "id": "FXrlM96FO4ee"
      },
      "source": [
        "# dataloader\n",
        "sample = [[0.106737, 0.114197]] # c1\n",
        "X = X_scaler.scale(sample)\n",
        "y_filter = label_encoder.encode([label_encoder.classes[0]]*len(X))\n",
        "dataset = Dataset(X=X, y=y_filter)\n",
        "dataloader = dataset.create_dataloader(batch_size=batch_size)"
      ],
      "execution_count": 105,
      "outputs": []
    },
    {
      "cell_type": "code",
      "metadata": {
        "id": "ef5lH1NUPwLC",
        "outputId": "c23fdd83-27bb-44dc-df27-8e1e797a9ed2",
        "colab": {
          "base_uri": "https://localhost:8080/"
        }
      },
      "source": [
        "# inference\n",
        "y_prob = trainer.predict_step(dataloader)\n",
        "y_pred = np.argmax(y_prob, axis=1)\n",
        "label_encoder.decode(y_pred)"
      ],
      "execution_count": 106,
      "outputs": [
        {
          "output_type": "stream",
          "name": "stderr",
          "text": [
            "/usr/local/lib/python3.7/dist-packages/ipykernel_launcher.py:95: UserWarning: Implicit dimension choice for softmax has been deprecated. Change the call to include dim=X as an argument.\n"
          ]
        },
        {
          "output_type": "execute_result",
          "data": {
            "text/plain": [
              "['c1']"
            ]
          },
          "metadata": {},
          "execution_count": 106
        }
      ]
    }
  ]
}